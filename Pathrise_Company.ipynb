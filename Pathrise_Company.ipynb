{
  "nbformat": 4,
  "nbformat_minor": 0,
  "metadata": {
    "colab": {
      "provenance": []
    },
    "kernelspec": {
      "name": "python3",
      "display_name": "Python 3"
    },
    "language_info": {
      "name": "python"
    }
  },
  "cells": [
    {
      "cell_type": "markdown",
      "source": [
        "\n",
        "#Understanding the Objective\n",
        "\n",
        "\n",
        "**The goal is to predict a fellow will be placed or not at the Pathrise Company and how long it takes the fellow to get a job at the company.**\n"
      ],
      "metadata": {
        "id": "p6B3O-fb6Zie"
      }
    },
    {
      "cell_type": "markdown",
      "source": [
        "###Import dataset"
      ],
      "metadata": {
        "id": "yf0515gC692e"
      }
    },
    {
      "cell_type": "code",
      "execution_count": null,
      "metadata": {
        "id": "uSq1mW1Kv1na"
      },
      "outputs": [],
      "source": [
        "from google.colab import files"
      ]
    },
    {
      "cell_type": "code",
      "source": [
        "uploaded = files.upload()"
      ],
      "metadata": {
        "colab": {
          "base_uri": "https://localhost:8080/",
          "height": 74
        },
        "id": "mOfBD_chwLPp",
        "outputId": "11954173-642c-47ee-a341-47dca5722831"
      },
      "execution_count": null,
      "outputs": [
        {
          "output_type": "display_data",
          "data": {
            "text/plain": [
              "<IPython.core.display.HTML object>"
            ],
            "text/html": [
              "\n",
              "     <input type=\"file\" id=\"files-d0ec0c20-ba2e-4c89-8826-acd447775520\" name=\"files[]\" multiple disabled\n",
              "        style=\"border:none\" />\n",
              "     <output id=\"result-d0ec0c20-ba2e-4c89-8826-acd447775520\">\n",
              "      Upload widget is only available when the cell has been executed in the\n",
              "      current browser session. Please rerun this cell to enable.\n",
              "      </output>\n",
              "      <script>// Copyright 2017 Google LLC\n",
              "//\n",
              "// Licensed under the Apache License, Version 2.0 (the \"License\");\n",
              "// you may not use this file except in compliance with the License.\n",
              "// You may obtain a copy of the License at\n",
              "//\n",
              "//      http://www.apache.org/licenses/LICENSE-2.0\n",
              "//\n",
              "// Unless required by applicable law or agreed to in writing, software\n",
              "// distributed under the License is distributed on an \"AS IS\" BASIS,\n",
              "// WITHOUT WARRANTIES OR CONDITIONS OF ANY KIND, either express or implied.\n",
              "// See the License for the specific language governing permissions and\n",
              "// limitations under the License.\n",
              "\n",
              "/**\n",
              " * @fileoverview Helpers for google.colab Python module.\n",
              " */\n",
              "(function(scope) {\n",
              "function span(text, styleAttributes = {}) {\n",
              "  const element = document.createElement('span');\n",
              "  element.textContent = text;\n",
              "  for (const key of Object.keys(styleAttributes)) {\n",
              "    element.style[key] = styleAttributes[key];\n",
              "  }\n",
              "  return element;\n",
              "}\n",
              "\n",
              "// Max number of bytes which will be uploaded at a time.\n",
              "const MAX_PAYLOAD_SIZE = 100 * 1024;\n",
              "\n",
              "function _uploadFiles(inputId, outputId) {\n",
              "  const steps = uploadFilesStep(inputId, outputId);\n",
              "  const outputElement = document.getElementById(outputId);\n",
              "  // Cache steps on the outputElement to make it available for the next call\n",
              "  // to uploadFilesContinue from Python.\n",
              "  outputElement.steps = steps;\n",
              "\n",
              "  return _uploadFilesContinue(outputId);\n",
              "}\n",
              "\n",
              "// This is roughly an async generator (not supported in the browser yet),\n",
              "// where there are multiple asynchronous steps and the Python side is going\n",
              "// to poll for completion of each step.\n",
              "// This uses a Promise to block the python side on completion of each step,\n",
              "// then passes the result of the previous step as the input to the next step.\n",
              "function _uploadFilesContinue(outputId) {\n",
              "  const outputElement = document.getElementById(outputId);\n",
              "  const steps = outputElement.steps;\n",
              "\n",
              "  const next = steps.next(outputElement.lastPromiseValue);\n",
              "  return Promise.resolve(next.value.promise).then((value) => {\n",
              "    // Cache the last promise value to make it available to the next\n",
              "    // step of the generator.\n",
              "    outputElement.lastPromiseValue = value;\n",
              "    return next.value.response;\n",
              "  });\n",
              "}\n",
              "\n",
              "/**\n",
              " * Generator function which is called between each async step of the upload\n",
              " * process.\n",
              " * @param {string} inputId Element ID of the input file picker element.\n",
              " * @param {string} outputId Element ID of the output display.\n",
              " * @return {!Iterable<!Object>} Iterable of next steps.\n",
              " */\n",
              "function* uploadFilesStep(inputId, outputId) {\n",
              "  const inputElement = document.getElementById(inputId);\n",
              "  inputElement.disabled = false;\n",
              "\n",
              "  const outputElement = document.getElementById(outputId);\n",
              "  outputElement.innerHTML = '';\n",
              "\n",
              "  const pickedPromise = new Promise((resolve) => {\n",
              "    inputElement.addEventListener('change', (e) => {\n",
              "      resolve(e.target.files);\n",
              "    });\n",
              "  });\n",
              "\n",
              "  const cancel = document.createElement('button');\n",
              "  inputElement.parentElement.appendChild(cancel);\n",
              "  cancel.textContent = 'Cancel upload';\n",
              "  const cancelPromise = new Promise((resolve) => {\n",
              "    cancel.onclick = () => {\n",
              "      resolve(null);\n",
              "    };\n",
              "  });\n",
              "\n",
              "  // Wait for the user to pick the files.\n",
              "  const files = yield {\n",
              "    promise: Promise.race([pickedPromise, cancelPromise]),\n",
              "    response: {\n",
              "      action: 'starting',\n",
              "    }\n",
              "  };\n",
              "\n",
              "  cancel.remove();\n",
              "\n",
              "  // Disable the input element since further picks are not allowed.\n",
              "  inputElement.disabled = true;\n",
              "\n",
              "  if (!files) {\n",
              "    return {\n",
              "      response: {\n",
              "        action: 'complete',\n",
              "      }\n",
              "    };\n",
              "  }\n",
              "\n",
              "  for (const file of files) {\n",
              "    const li = document.createElement('li');\n",
              "    li.append(span(file.name, {fontWeight: 'bold'}));\n",
              "    li.append(span(\n",
              "        `(${file.type || 'n/a'}) - ${file.size} bytes, ` +\n",
              "        `last modified: ${\n",
              "            file.lastModifiedDate ? file.lastModifiedDate.toLocaleDateString() :\n",
              "                                    'n/a'} - `));\n",
              "    const percent = span('0% done');\n",
              "    li.appendChild(percent);\n",
              "\n",
              "    outputElement.appendChild(li);\n",
              "\n",
              "    const fileDataPromise = new Promise((resolve) => {\n",
              "      const reader = new FileReader();\n",
              "      reader.onload = (e) => {\n",
              "        resolve(e.target.result);\n",
              "      };\n",
              "      reader.readAsArrayBuffer(file);\n",
              "    });\n",
              "    // Wait for the data to be ready.\n",
              "    let fileData = yield {\n",
              "      promise: fileDataPromise,\n",
              "      response: {\n",
              "        action: 'continue',\n",
              "      }\n",
              "    };\n",
              "\n",
              "    // Use a chunked sending to avoid message size limits. See b/62115660.\n",
              "    let position = 0;\n",
              "    do {\n",
              "      const length = Math.min(fileData.byteLength - position, MAX_PAYLOAD_SIZE);\n",
              "      const chunk = new Uint8Array(fileData, position, length);\n",
              "      position += length;\n",
              "\n",
              "      const base64 = btoa(String.fromCharCode.apply(null, chunk));\n",
              "      yield {\n",
              "        response: {\n",
              "          action: 'append',\n",
              "          file: file.name,\n",
              "          data: base64,\n",
              "        },\n",
              "      };\n",
              "\n",
              "      let percentDone = fileData.byteLength === 0 ?\n",
              "          100 :\n",
              "          Math.round((position / fileData.byteLength) * 100);\n",
              "      percent.textContent = `${percentDone}% done`;\n",
              "\n",
              "    } while (position < fileData.byteLength);\n",
              "  }\n",
              "\n",
              "  // All done.\n",
              "  yield {\n",
              "    response: {\n",
              "      action: 'complete',\n",
              "    }\n",
              "  };\n",
              "}\n",
              "\n",
              "scope.google = scope.google || {};\n",
              "scope.google.colab = scope.google.colab || {};\n",
              "scope.google.colab._files = {\n",
              "  _uploadFiles,\n",
              "  _uploadFilesContinue,\n",
              "};\n",
              "})(self);\n",
              "</script> "
            ]
          },
          "metadata": {}
        },
        {
          "output_type": "stream",
          "name": "stdout",
          "text": [
            "Saving Data_Pathrise.xlsx to Data_Pathrise.xlsx\n"
          ]
        }
      ]
    },
    {
      "cell_type": "markdown",
      "source": [
        "\n",
        "\n",
        "##Import Libraries\n"
      ],
      "metadata": {
        "id": "Qx3fRyKewTrO"
      }
    },
    {
      "cell_type": "code",
      "source": [
        "import pandas as pd\n",
        "import seaborn as sns\n",
        "import matplotlib.pyplot as plt\n",
        "import numpy as np\n",
        "import sklearn\n",
        "from sklearn.model_selection import train_test_split\n",
        "from sklearn.linear_model import LinearRegression\n",
        "from sklearn import metrics\n",
        "from sklearn.ensemble import RandomForestClassifier\n",
        "from sklearn.linear_model import LogisticRegression\n",
        "from sklearn.neighbors import KNeighborsClassifier\n",
        "from sklearn.tree import DecisionTreeClassifier\n",
        "from sklearn.metrics import mean_absolute_error\n",
        "from sklearn.metrics import mean_squared_error\n",
        "import pickle\n",
        "from sklearn.metrics import classification_report\n",
        "from sklearn.metrics import confusion_matrix\n",
        "from sklearn.metrics import accuracy_score"
      ],
      "metadata": {
        "id": "2ZhH__DlwQzs"
      },
      "execution_count": null,
      "outputs": []
    },
    {
      "cell_type": "markdown",
      "source": [
        "**Read the data**"
      ],
      "metadata": {
        "id": "HxV1jEwHwY3M"
      }
    },
    {
      "cell_type": "code",
      "source": [
        "# Load the data\n",
        "df = pd.read_excel('Data_Pathrise.xlsx')\n",
        "# Delete leading and trailing spaces from column names\n",
        "df.columns = df.columns.str.strip()"
      ],
      "metadata": {
        "id": "STYggU3OwbDv"
      },
      "execution_count": null,
      "outputs": []
    },
    {
      "cell_type": "markdown",
      "source": [
        "##Data Understanding"
      ],
      "metadata": {
        "id": "B5RT1-qBwfxB"
      }
    },
    {
      "cell_type": "code",
      "source": [
        "df.head()"
      ],
      "metadata": {
        "colab": {
          "base_uri": "https://localhost:8080/",
          "height": 504
        },
        "id": "ApXvUHYhwhGo",
        "outputId": "d20b365f-6421-46ba-cb05-c38575eed241"
      },
      "execution_count": null,
      "outputs": [
        {
          "output_type": "execute_result",
          "data": {
            "text/plain": [
              "   id pathrise_status primary_track cohort_tag  program_duration_days  placed  \\\n",
              "0   1          Active           SWE     OCT19A                    NaN       0   \n",
              "1   2          Active           PSO     JAN20A                    NaN       0   \n",
              "2   3     Closed Lost        Design     AUG19B                    0.0       0   \n",
              "3   4     Closed Lost           PSO     AUG19B                    0.0       0   \n",
              "4   5          Placed           SWE     AUG19A                   89.0       1   \n",
              "\n",
              "    employment_status highest_level_of_education length_of_job_search  \\\n",
              "0          Unemployed          Bachelor's Degree           3-5 months   \n",
              "1          Unemployed    Some College, No Degree           3-5 months   \n",
              "2  Employed Part-Time            Master's Degree  Less than one month   \n",
              "3          Contractor          Bachelor's Degree  Less than one month   \n",
              "4          Unemployed          Bachelor's Degree           1-2 months   \n",
              "\n",
              "            biggest_challenge_in_search professional_experience  \\\n",
              "0       Hearing back on my applications               3-4 years   \n",
              "1   Getting past final round interviews               1-2 years   \n",
              "2  Figuring out which jobs to apply for      Less than one year   \n",
              "3   Getting past final round interviews      Less than one year   \n",
              "4       Hearing back on my applications               1-2 years   \n",
              "\n",
              "  work_authorization_status  number_of_interviews  number_of_applications  \\\n",
              "0            Canada Citizen                   2.0                     900   \n",
              "1                   Citizen                   6.0                       0   \n",
              "2                   Citizen                   0.0                       0   \n",
              "3                   Citizen                   5.0                      25   \n",
              "4               F1 Visa/OPT                  10.0                     100   \n",
              "\n",
              "  gender                                 race  \n",
              "0   Male  Non-Hispanic White or Euro-American  \n",
              "1   Male  Non-Hispanic White or Euro-American  \n",
              "2   Male         East Asian or Asian American  \n",
              "3   Male             Decline to Self Identify  \n",
              "4   Male         East Asian or Asian American  "
            ],
            "text/html": [
              "\n",
              "  <div id=\"df-47767ab4-bf27-4626-bb52-238e1e035d0a\" class=\"colab-df-container\">\n",
              "    <div>\n",
              "<style scoped>\n",
              "    .dataframe tbody tr th:only-of-type {\n",
              "        vertical-align: middle;\n",
              "    }\n",
              "\n",
              "    .dataframe tbody tr th {\n",
              "        vertical-align: top;\n",
              "    }\n",
              "\n",
              "    .dataframe thead th {\n",
              "        text-align: right;\n",
              "    }\n",
              "</style>\n",
              "<table border=\"1\" class=\"dataframe\">\n",
              "  <thead>\n",
              "    <tr style=\"text-align: right;\">\n",
              "      <th></th>\n",
              "      <th>id</th>\n",
              "      <th>pathrise_status</th>\n",
              "      <th>primary_track</th>\n",
              "      <th>cohort_tag</th>\n",
              "      <th>program_duration_days</th>\n",
              "      <th>placed</th>\n",
              "      <th>employment_status</th>\n",
              "      <th>highest_level_of_education</th>\n",
              "      <th>length_of_job_search</th>\n",
              "      <th>biggest_challenge_in_search</th>\n",
              "      <th>professional_experience</th>\n",
              "      <th>work_authorization_status</th>\n",
              "      <th>number_of_interviews</th>\n",
              "      <th>number_of_applications</th>\n",
              "      <th>gender</th>\n",
              "      <th>race</th>\n",
              "    </tr>\n",
              "  </thead>\n",
              "  <tbody>\n",
              "    <tr>\n",
              "      <th>0</th>\n",
              "      <td>1</td>\n",
              "      <td>Active</td>\n",
              "      <td>SWE</td>\n",
              "      <td>OCT19A</td>\n",
              "      <td>NaN</td>\n",
              "      <td>0</td>\n",
              "      <td>Unemployed</td>\n",
              "      <td>Bachelor's Degree</td>\n",
              "      <td>3-5 months</td>\n",
              "      <td>Hearing back on my applications</td>\n",
              "      <td>3-4 years</td>\n",
              "      <td>Canada Citizen</td>\n",
              "      <td>2.0</td>\n",
              "      <td>900</td>\n",
              "      <td>Male</td>\n",
              "      <td>Non-Hispanic White or Euro-American</td>\n",
              "    </tr>\n",
              "    <tr>\n",
              "      <th>1</th>\n",
              "      <td>2</td>\n",
              "      <td>Active</td>\n",
              "      <td>PSO</td>\n",
              "      <td>JAN20A</td>\n",
              "      <td>NaN</td>\n",
              "      <td>0</td>\n",
              "      <td>Unemployed</td>\n",
              "      <td>Some College, No Degree</td>\n",
              "      <td>3-5 months</td>\n",
              "      <td>Getting past final round interviews</td>\n",
              "      <td>1-2 years</td>\n",
              "      <td>Citizen</td>\n",
              "      <td>6.0</td>\n",
              "      <td>0</td>\n",
              "      <td>Male</td>\n",
              "      <td>Non-Hispanic White or Euro-American</td>\n",
              "    </tr>\n",
              "    <tr>\n",
              "      <th>2</th>\n",
              "      <td>3</td>\n",
              "      <td>Closed Lost</td>\n",
              "      <td>Design</td>\n",
              "      <td>AUG19B</td>\n",
              "      <td>0.0</td>\n",
              "      <td>0</td>\n",
              "      <td>Employed Part-Time</td>\n",
              "      <td>Master's Degree</td>\n",
              "      <td>Less than one month</td>\n",
              "      <td>Figuring out which jobs to apply for</td>\n",
              "      <td>Less than one year</td>\n",
              "      <td>Citizen</td>\n",
              "      <td>0.0</td>\n",
              "      <td>0</td>\n",
              "      <td>Male</td>\n",
              "      <td>East Asian or Asian American</td>\n",
              "    </tr>\n",
              "    <tr>\n",
              "      <th>3</th>\n",
              "      <td>4</td>\n",
              "      <td>Closed Lost</td>\n",
              "      <td>PSO</td>\n",
              "      <td>AUG19B</td>\n",
              "      <td>0.0</td>\n",
              "      <td>0</td>\n",
              "      <td>Contractor</td>\n",
              "      <td>Bachelor's Degree</td>\n",
              "      <td>Less than one month</td>\n",
              "      <td>Getting past final round interviews</td>\n",
              "      <td>Less than one year</td>\n",
              "      <td>Citizen</td>\n",
              "      <td>5.0</td>\n",
              "      <td>25</td>\n",
              "      <td>Male</td>\n",
              "      <td>Decline to Self Identify</td>\n",
              "    </tr>\n",
              "    <tr>\n",
              "      <th>4</th>\n",
              "      <td>5</td>\n",
              "      <td>Placed</td>\n",
              "      <td>SWE</td>\n",
              "      <td>AUG19A</td>\n",
              "      <td>89.0</td>\n",
              "      <td>1</td>\n",
              "      <td>Unemployed</td>\n",
              "      <td>Bachelor's Degree</td>\n",
              "      <td>1-2 months</td>\n",
              "      <td>Hearing back on my applications</td>\n",
              "      <td>1-2 years</td>\n",
              "      <td>F1 Visa/OPT</td>\n",
              "      <td>10.0</td>\n",
              "      <td>100</td>\n",
              "      <td>Male</td>\n",
              "      <td>East Asian or Asian American</td>\n",
              "    </tr>\n",
              "  </tbody>\n",
              "</table>\n",
              "</div>\n",
              "    <div class=\"colab-df-buttons\">\n",
              "\n",
              "  <div class=\"colab-df-container\">\n",
              "    <button class=\"colab-df-convert\" onclick=\"convertToInteractive('df-47767ab4-bf27-4626-bb52-238e1e035d0a')\"\n",
              "            title=\"Convert this dataframe to an interactive table.\"\n",
              "            style=\"display:none;\">\n",
              "\n",
              "  <svg xmlns=\"http://www.w3.org/2000/svg\" height=\"24px\" viewBox=\"0 -960 960 960\">\n",
              "    <path d=\"M120-120v-720h720v720H120Zm60-500h600v-160H180v160Zm220 220h160v-160H400v160Zm0 220h160v-160H400v160ZM180-400h160v-160H180v160Zm440 0h160v-160H620v160ZM180-180h160v-160H180v160Zm440 0h160v-160H620v160Z\"/>\n",
              "  </svg>\n",
              "    </button>\n",
              "\n",
              "  <style>\n",
              "    .colab-df-container {\n",
              "      display:flex;\n",
              "      gap: 12px;\n",
              "    }\n",
              "\n",
              "    .colab-df-convert {\n",
              "      background-color: #E8F0FE;\n",
              "      border: none;\n",
              "      border-radius: 50%;\n",
              "      cursor: pointer;\n",
              "      display: none;\n",
              "      fill: #1967D2;\n",
              "      height: 32px;\n",
              "      padding: 0 0 0 0;\n",
              "      width: 32px;\n",
              "    }\n",
              "\n",
              "    .colab-df-convert:hover {\n",
              "      background-color: #E2EBFA;\n",
              "      box-shadow: 0px 1px 2px rgba(60, 64, 67, 0.3), 0px 1px 3px 1px rgba(60, 64, 67, 0.15);\n",
              "      fill: #174EA6;\n",
              "    }\n",
              "\n",
              "    .colab-df-buttons div {\n",
              "      margin-bottom: 4px;\n",
              "    }\n",
              "\n",
              "    [theme=dark] .colab-df-convert {\n",
              "      background-color: #3B4455;\n",
              "      fill: #D2E3FC;\n",
              "    }\n",
              "\n",
              "    [theme=dark] .colab-df-convert:hover {\n",
              "      background-color: #434B5C;\n",
              "      box-shadow: 0px 1px 3px 1px rgba(0, 0, 0, 0.15);\n",
              "      filter: drop-shadow(0px 1px 2px rgba(0, 0, 0, 0.3));\n",
              "      fill: #FFFFFF;\n",
              "    }\n",
              "  </style>\n",
              "\n",
              "    <script>\n",
              "      const buttonEl =\n",
              "        document.querySelector('#df-47767ab4-bf27-4626-bb52-238e1e035d0a button.colab-df-convert');\n",
              "      buttonEl.style.display =\n",
              "        google.colab.kernel.accessAllowed ? 'block' : 'none';\n",
              "\n",
              "      async function convertToInteractive(key) {\n",
              "        const element = document.querySelector('#df-47767ab4-bf27-4626-bb52-238e1e035d0a');\n",
              "        const dataTable =\n",
              "          await google.colab.kernel.invokeFunction('convertToInteractive',\n",
              "                                                    [key], {});\n",
              "        if (!dataTable) return;\n",
              "\n",
              "        const docLinkHtml = 'Like what you see? Visit the ' +\n",
              "          '<a target=\"_blank\" href=https://colab.research.google.com/notebooks/data_table.ipynb>data table notebook</a>'\n",
              "          + ' to learn more about interactive tables.';\n",
              "        element.innerHTML = '';\n",
              "        dataTable['output_type'] = 'display_data';\n",
              "        await google.colab.output.renderOutput(dataTable, element);\n",
              "        const docLink = document.createElement('div');\n",
              "        docLink.innerHTML = docLinkHtml;\n",
              "        element.appendChild(docLink);\n",
              "      }\n",
              "    </script>\n",
              "  </div>\n",
              "\n",
              "\n",
              "<div id=\"df-c673ef31-92dc-416d-b545-a22001c57804\">\n",
              "  <button class=\"colab-df-quickchart\" onclick=\"quickchart('df-c673ef31-92dc-416d-b545-a22001c57804')\"\n",
              "            title=\"Suggest charts\"\n",
              "            style=\"display:none;\">\n",
              "\n",
              "<svg xmlns=\"http://www.w3.org/2000/svg\" height=\"24px\"viewBox=\"0 0 24 24\"\n",
              "     width=\"24px\">\n",
              "    <g>\n",
              "        <path d=\"M19 3H5c-1.1 0-2 .9-2 2v14c0 1.1.9 2 2 2h14c1.1 0 2-.9 2-2V5c0-1.1-.9-2-2-2zM9 17H7v-7h2v7zm4 0h-2V7h2v10zm4 0h-2v-4h2v4z\"/>\n",
              "    </g>\n",
              "</svg>\n",
              "  </button>\n",
              "\n",
              "<style>\n",
              "  .colab-df-quickchart {\n",
              "      --bg-color: #E8F0FE;\n",
              "      --fill-color: #1967D2;\n",
              "      --hover-bg-color: #E2EBFA;\n",
              "      --hover-fill-color: #174EA6;\n",
              "      --disabled-fill-color: #AAA;\n",
              "      --disabled-bg-color: #DDD;\n",
              "  }\n",
              "\n",
              "  [theme=dark] .colab-df-quickchart {\n",
              "      --bg-color: #3B4455;\n",
              "      --fill-color: #D2E3FC;\n",
              "      --hover-bg-color: #434B5C;\n",
              "      --hover-fill-color: #FFFFFF;\n",
              "      --disabled-bg-color: #3B4455;\n",
              "      --disabled-fill-color: #666;\n",
              "  }\n",
              "\n",
              "  .colab-df-quickchart {\n",
              "    background-color: var(--bg-color);\n",
              "    border: none;\n",
              "    border-radius: 50%;\n",
              "    cursor: pointer;\n",
              "    display: none;\n",
              "    fill: var(--fill-color);\n",
              "    height: 32px;\n",
              "    padding: 0;\n",
              "    width: 32px;\n",
              "  }\n",
              "\n",
              "  .colab-df-quickchart:hover {\n",
              "    background-color: var(--hover-bg-color);\n",
              "    box-shadow: 0 1px 2px rgba(60, 64, 67, 0.3), 0 1px 3px 1px rgba(60, 64, 67, 0.15);\n",
              "    fill: var(--button-hover-fill-color);\n",
              "  }\n",
              "\n",
              "  .colab-df-quickchart-complete:disabled,\n",
              "  .colab-df-quickchart-complete:disabled:hover {\n",
              "    background-color: var(--disabled-bg-color);\n",
              "    fill: var(--disabled-fill-color);\n",
              "    box-shadow: none;\n",
              "  }\n",
              "\n",
              "  .colab-df-spinner {\n",
              "    border: 2px solid var(--fill-color);\n",
              "    border-color: transparent;\n",
              "    border-bottom-color: var(--fill-color);\n",
              "    animation:\n",
              "      spin 1s steps(1) infinite;\n",
              "  }\n",
              "\n",
              "  @keyframes spin {\n",
              "    0% {\n",
              "      border-color: transparent;\n",
              "      border-bottom-color: var(--fill-color);\n",
              "      border-left-color: var(--fill-color);\n",
              "    }\n",
              "    20% {\n",
              "      border-color: transparent;\n",
              "      border-left-color: var(--fill-color);\n",
              "      border-top-color: var(--fill-color);\n",
              "    }\n",
              "    30% {\n",
              "      border-color: transparent;\n",
              "      border-left-color: var(--fill-color);\n",
              "      border-top-color: var(--fill-color);\n",
              "      border-right-color: var(--fill-color);\n",
              "    }\n",
              "    40% {\n",
              "      border-color: transparent;\n",
              "      border-right-color: var(--fill-color);\n",
              "      border-top-color: var(--fill-color);\n",
              "    }\n",
              "    60% {\n",
              "      border-color: transparent;\n",
              "      border-right-color: var(--fill-color);\n",
              "    }\n",
              "    80% {\n",
              "      border-color: transparent;\n",
              "      border-right-color: var(--fill-color);\n",
              "      border-bottom-color: var(--fill-color);\n",
              "    }\n",
              "    90% {\n",
              "      border-color: transparent;\n",
              "      border-bottom-color: var(--fill-color);\n",
              "    }\n",
              "  }\n",
              "</style>\n",
              "\n",
              "  <script>\n",
              "    async function quickchart(key) {\n",
              "      const quickchartButtonEl =\n",
              "        document.querySelector('#' + key + ' button');\n",
              "      quickchartButtonEl.disabled = true;  // To prevent multiple clicks.\n",
              "      quickchartButtonEl.classList.add('colab-df-spinner');\n",
              "      try {\n",
              "        const charts = await google.colab.kernel.invokeFunction(\n",
              "            'suggestCharts', [key], {});\n",
              "      } catch (error) {\n",
              "        console.error('Error during call to suggestCharts:', error);\n",
              "      }\n",
              "      quickchartButtonEl.classList.remove('colab-df-spinner');\n",
              "      quickchartButtonEl.classList.add('colab-df-quickchart-complete');\n",
              "    }\n",
              "    (() => {\n",
              "      let quickchartButtonEl =\n",
              "        document.querySelector('#df-c673ef31-92dc-416d-b545-a22001c57804 button');\n",
              "      quickchartButtonEl.style.display =\n",
              "        google.colab.kernel.accessAllowed ? 'block' : 'none';\n",
              "    })();\n",
              "  </script>\n",
              "</div>\n",
              "\n",
              "    </div>\n",
              "  </div>\n"
            ],
            "application/vnd.google.colaboratory.intrinsic+json": {
              "type": "dataframe",
              "variable_name": "df",
              "summary": "{\n  \"name\": \"df\",\n  \"rows\": 2544,\n  \"fields\": [\n    {\n      \"column\": \"id\",\n      \"properties\": {\n        \"dtype\": \"number\",\n        \"std\": 734,\n        \"min\": 1,\n        \"max\": 2544,\n        \"num_unique_values\": 2544,\n        \"samples\": [\n          57,\n          2202,\n          1855\n        ],\n        \"semantic_type\": \"\",\n        \"description\": \"\"\n      }\n    },\n    {\n      \"column\": \"pathrise_status\",\n      \"properties\": {\n        \"dtype\": \"category\",\n        \"num_unique_values\": 9,\n        \"samples\": [\n          \"Break\",\n          \"Closed Lost\",\n          \"Withdrawn\"\n        ],\n        \"semantic_type\": \"\",\n        \"description\": \"\"\n      }\n    },\n    {\n      \"column\": \"primary_track\",\n      \"properties\": {\n        \"dtype\": \"category\",\n        \"num_unique_values\": 6,\n        \"samples\": [\n          \"SWE\",\n          \"PSO\",\n          \"Marketing\"\n        ],\n        \"semantic_type\": \"\",\n        \"description\": \"\"\n      }\n    },\n    {\n      \"column\": \"cohort_tag\",\n      \"properties\": {\n        \"dtype\": \"category\",\n        \"num_unique_values\": 47,\n        \"samples\": [\n          \"SEP18B\",\n          \"MAY18A\",\n          \"JUN19B\"\n        ],\n        \"semantic_type\": \"\",\n        \"description\": \"\"\n      }\n    },\n    {\n      \"column\": \"program_duration_days\",\n      \"properties\": {\n        \"dtype\": \"number\",\n        \"std\": 125.86024752714411,\n        \"min\": 0.0,\n        \"max\": 548.0,\n        \"num_unique_values\": 411,\n        \"samples\": [\n          451.0,\n          143.0,\n          53.0\n        ],\n        \"semantic_type\": \"\",\n        \"description\": \"\"\n      }\n    },\n    {\n      \"column\": \"placed\",\n      \"properties\": {\n        \"dtype\": \"number\",\n        \"std\": 0,\n        \"min\": 0,\n        \"max\": 1,\n        \"num_unique_values\": 2,\n        \"samples\": [\n          1,\n          0\n        ],\n        \"semantic_type\": \"\",\n        \"description\": \"\"\n      }\n    },\n    {\n      \"column\": \"employment_status\",\n      \"properties\": {\n        \"dtype\": \"category\",\n        \"num_unique_values\": 5,\n        \"samples\": [\n          \"Employed Part-Time\",\n          \"Student\"\n        ],\n        \"semantic_type\": \"\",\n        \"description\": \"\"\n      }\n    },\n    {\n      \"column\": \"highest_level_of_education\",\n      \"properties\": {\n        \"dtype\": \"category\",\n        \"num_unique_values\": 7,\n        \"samples\": [\n          \"Bachelor's Degree\",\n          \"Some College, No Degree\"\n        ],\n        \"semantic_type\": \"\",\n        \"description\": \"\"\n      }\n    },\n    {\n      \"column\": \"length_of_job_search\",\n      \"properties\": {\n        \"dtype\": \"category\",\n        \"num_unique_values\": 5,\n        \"samples\": [\n          \"Less than one month\",\n          \"Over a year\"\n        ],\n        \"semantic_type\": \"\",\n        \"description\": \"\"\n      }\n    },\n    {\n      \"column\": \"biggest_challenge_in_search\",\n      \"properties\": {\n        \"dtype\": \"category\",\n        \"num_unique_values\": 10,\n        \"samples\": [\n          \"Behavioral interviewing\",\n          \"Getting past final round interviews\"\n        ],\n        \"semantic_type\": \"\",\n        \"description\": \"\"\n      }\n    },\n    {\n      \"column\": \"professional_experience\",\n      \"properties\": {\n        \"dtype\": \"category\",\n        \"num_unique_values\": 4,\n        \"samples\": [\n          \"1-2 years\",\n          \"5+ years\"\n        ],\n        \"semantic_type\": \"\",\n        \"description\": \"\"\n      }\n    },\n    {\n      \"column\": \"work_authorization_status\",\n      \"properties\": {\n        \"dtype\": \"category\",\n        \"num_unique_values\": 9,\n        \"samples\": [\n          \"Not Authorized\",\n          \"Citizen\"\n        ],\n        \"semantic_type\": \"\",\n        \"description\": \"\"\n      }\n    },\n    {\n      \"column\": \"number_of_interviews\",\n      \"properties\": {\n        \"dtype\": \"number\",\n        \"std\": 2.9592726679893673,\n        \"min\": 0.0,\n        \"max\": 20.0,\n        \"num_unique_values\": 21,\n        \"samples\": [\n          2.0,\n          14.0\n        ],\n        \"semantic_type\": \"\",\n        \"description\": \"\"\n      }\n    },\n    {\n      \"column\": \"number_of_applications\",\n      \"properties\": {\n        \"dtype\": \"number\",\n        \"std\": 53,\n        \"min\": 0,\n        \"max\": 1000,\n        \"num_unique_values\": 41,\n        \"samples\": [\n          200,\n          70\n        ],\n        \"semantic_type\": \"\",\n        \"description\": \"\"\n      }\n    },\n    {\n      \"column\": \"gender\",\n      \"properties\": {\n        \"dtype\": \"category\",\n        \"num_unique_values\": 4,\n        \"samples\": [\n          \"Female\",\n          \"Non-Binary\"\n        ],\n        \"semantic_type\": \"\",\n        \"description\": \"\"\n      }\n    },\n    {\n      \"column\": \"race\",\n      \"properties\": {\n        \"dtype\": \"category\",\n        \"num_unique_values\": 9,\n        \"samples\": [\n          \"Two or More Races\",\n          \"East Asian or Asian American\"\n        ],\n        \"semantic_type\": \"\",\n        \"description\": \"\"\n      }\n    }\n  ]\n}"
            }
          },
          "metadata": {},
          "execution_count": 5
        }
      ]
    },
    {
      "cell_type": "markdown",
      "source": [
        "###Assess data:\n",
        "\n",
        "In this section, we will check the data and get an understanding of what kind of data we are dealing with.\n",
        "\n"
      ],
      "metadata": {
        "id": "MucXvFwQwm7t"
      }
    },
    {
      "cell_type": "code",
      "source": [
        "df.info()"
      ],
      "metadata": {
        "colab": {
          "base_uri": "https://localhost:8080/"
        },
        "id": "JqdTXua2wtlh",
        "outputId": "dfdb3640-9c4c-4328-c99c-016dab498e9f"
      },
      "execution_count": null,
      "outputs": [
        {
          "output_type": "stream",
          "name": "stdout",
          "text": [
            "<class 'pandas.core.frame.DataFrame'>\n",
            "RangeIndex: 2544 entries, 0 to 2543\n",
            "Data columns (total 16 columns):\n",
            " #   Column                       Non-Null Count  Dtype  \n",
            "---  ------                       --------------  -----  \n",
            " 0   id                           2544 non-null   int64  \n",
            " 1   pathrise_status              2544 non-null   object \n",
            " 2   primary_track                2544 non-null   object \n",
            " 3   cohort_tag                   2536 non-null   object \n",
            " 4   program_duration_days        1928 non-null   float64\n",
            " 5   placed                       2544 non-null   int64  \n",
            " 6   employment_status            2315 non-null   object \n",
            " 7   highest_level_of_education   2486 non-null   object \n",
            " 8   length_of_job_search         2470 non-null   object \n",
            " 9   biggest_challenge_in_search  2520 non-null   object \n",
            " 10  professional_experience      2322 non-null   object \n",
            " 11  work_authorization_status    2260 non-null   object \n",
            " 12  number_of_interviews         2326 non-null   float64\n",
            " 13  number_of_applications       2544 non-null   int64  \n",
            " 14  gender                       2052 non-null   object \n",
            " 15  race                         2526 non-null   object \n",
            "dtypes: float64(2), int64(3), object(11)\n",
            "memory usage: 318.1+ KB\n"
          ]
        }
      ]
    },
    {
      "cell_type": "code",
      "source": [],
      "metadata": {
        "id": "4EiTR2ntZ27g"
      },
      "execution_count": null,
      "outputs": []
    },
    {
      "cell_type": "markdown",
      "source": [
        "##Show missing values of the data by using heatmap() and isnull().sum() methods"
      ],
      "metadata": {
        "id": "6DqfyAdJwylK"
      }
    },
    {
      "cell_type": "code",
      "source": [
        "sns.heatmap(df.isnull(), cmap='viridis')"
      ],
      "metadata": {
        "colab": {
          "base_uri": "https://localhost:8080/",
          "height": 638
        },
        "id": "Co-3D81_w4qD",
        "outputId": "016fc6da-07e5-48ba-c9be-ce1878f05499"
      },
      "execution_count": null,
      "outputs": [
        {
          "output_type": "execute_result",
          "data": {
            "text/plain": [
              "<Axes: >"
            ]
          },
          "metadata": {},
          "execution_count": 7
        },
        {
          "output_type": "display_data",
          "data": {
            "text/plain": [
              "<Figure size 640x480 with 2 Axes>"
            ],
            "image/png": "[encoded data removed]"
          },
          "metadata": {}
        }
      ]
    },
    {
      "cell_type": "code",
      "source": [
        "df.isnull().sum().sum()"
      ],
      "metadata": {
        "colab": {
          "base_uri": "https://localhost:8080/"
        },
        "id": "hlk77Q8_w_5G",
        "outputId": "e3211b22-1f6b-4551-e23c-3685eef566bd"
      },
      "execution_count": null,
      "outputs": [
        {
          "output_type": "execute_result",
          "data": {
            "text/plain": [
              "2243"
            ]
          },
          "metadata": {},
          "execution_count": 10
        }
      ]
    },
    {
      "cell_type": "markdown",
      "source": [
        "##Showing percentage of missing values in each column of the data"
      ],
      "metadata": {
        "id": "_nTbbVfCxB6z"
      }
    },
    {
      "cell_type": "code",
      "source": [
        "missing=df.isnull().sum()\n",
        "missing = missing[missing>0]\n",
        "missing.sort_values(inplace=True, ascending=False)\n",
        "a=missing.plot(kind='bar')\n",
        "# a.set_alpha(1)\n",
        "a.set_title('Barplot of Variables and Frequency of Missing Entries')\n",
        "a.set_xlabel('Variable Name')\n",
        "a.set_ylabel('Frequency')\n",
        "\n",
        "\n",
        "\n",
        "missing_percentage=(missing/len(df)*100)\n",
        "\n",
        "print(missing_percentage)\n",
        "\n",
        "for i in a.patches:\n",
        "\n",
        "     a.text(i.get_x(), i.get_height() + 10, \\\n",
        "            str(round((i.get_height()/len(df))*100, 1))+'%', fontsize=8,\n",
        "                color='dimgrey')"
      ],
      "metadata": {
        "colab": {
          "base_uri": "https://localhost:8080/",
          "height": 864
        },
        "id": "XBvuJpwVxDZ9",
        "outputId": "d2800ee6-509f-4eb9-bea1-ae76b8ef143c"
      },
      "execution_count": null,
      "outputs": [
        {
          "output_type": "stream",
          "name": "stdout",
          "text": [
            "program_duration_days          24.213836\n",
            "gender                         19.339623\n",
            "work_authorization_status      11.163522\n",
            "employment_status               9.001572\n",
            "professional_experience         8.726415\n",
            "number_of_interviews            8.569182\n",
            "length_of_job_search            2.908805\n",
            "highest_level_of_education      2.279874\n",
            "biggest_challenge_in_search     0.943396\n",
            "race                            0.707547\n",
            "cohort_tag                      0.314465\n",
            "dtype: float64\n"
          ]
        },
        {
          "output_type": "display_data",
          "data": {
            "text/plain": [
              "<Figure size 640x480 with 1 Axes>"
            ],
            "image/png": "[encoded data removed]"
          },
          "metadata": {}
        }
      ]
    },
    {
      "cell_type": "markdown",
      "source": [
        "###correlation_matrix\n",
        "\n",
        "Using correlation_matrix to see which variable is more correlated to which variable, and we can visualize our results.\n",
        "\n"
      ],
      "metadata": {
        "id": "2tF6K7wuxJo5"
      }
    },
    {
      "cell_type": "code",
      "source": [
        "correlation_matrix=df.corr()"
      ],
      "metadata": {
        "colab": {
          "base_uri": "https://localhost:8080/",
          "height": 287
        },
        "id": "3OGm6WwVxOAt",
        "outputId": "3003e37c-3ac4-400e-9bf6-35a78849340c"
      },
      "execution_count": null,
      "outputs": [
        {
          "output_type": "error",
          "ename": "ValueError",
          "evalue": "could not convert string to float: 'Active'",
          "traceback": [
            "\u001b[0;31m---------------------------------------------------------------------------\u001b[0m",
            "\u001b[0;31mValueError\u001b[0m                                Traceback (most recent call last)",
            "\u001b[0;32m<ipython-input-9-76b5ce6ad480>\u001b[0m in \u001b[0;36m<cell line: 1>\u001b[0;34m()\u001b[0m\n\u001b[0;32m----> 1\u001b[0;31m \u001b[0mcorrelation_matrix\u001b[0m\u001b[0;34m=\u001b[0m\u001b[0mdf\u001b[0m\u001b[0;34m.\u001b[0m\u001b[0mcorr\u001b[0m\u001b[0;34m(\u001b[0m\u001b[0;34m)\u001b[0m\u001b[0;34m\u001b[0m\u001b[0;34m\u001b[0m\u001b[0m\n\u001b[0m",
            "\u001b[0;32m/usr/local/lib/python3.10/dist-packages/pandas/core/frame.py\u001b[0m in \u001b[0;36mcorr\u001b[0;34m(self, method, min_periods, numeric_only)\u001b[0m\n\u001b[1;32m  10052\u001b[0m         \u001b[0mcols\u001b[0m \u001b[0;34m=\u001b[0m \u001b[0mdata\u001b[0m\u001b[0;34m.\u001b[0m\u001b[0mcolumns\u001b[0m\u001b[0;34m\u001b[0m\u001b[0;34m\u001b[0m\u001b[0m\n\u001b[1;32m  10053\u001b[0m         \u001b[0midx\u001b[0m \u001b[0;34m=\u001b[0m \u001b[0mcols\u001b[0m\u001b[0;34m.\u001b[0m\u001b[0mcopy\u001b[0m\u001b[0;34m(\u001b[0m\u001b[0;34m)\u001b[0m\u001b[0;34m\u001b[0m\u001b[0;34m\u001b[0m\u001b[0m\n\u001b[0;32m> 10054\u001b[0;31m         \u001b[0mmat\u001b[0m \u001b[0;34m=\u001b[0m \u001b[0mdata\u001b[0m\u001b[0;34m.\u001b[0m\u001b[0mto_numpy\u001b[0m\u001b[0;34m(\u001b[0m\u001b[0mdtype\u001b[0m\u001b[0;34m=\u001b[0m\u001b[0mfloat\u001b[0m\u001b[0;34m,\u001b[0m \u001b[0mna_value\u001b[0m\u001b[0;34m=\u001b[0m\u001b[0mnp\u001b[0m\u001b[0;34m.\u001b[0m\u001b[0mnan\u001b[0m\u001b[0;34m,\u001b[0m \u001b[0mcopy\u001b[0m\u001b[0;34m=\u001b[0m\u001b[0;32mFalse\u001b[0m\u001b[0;34m)\u001b[0m\u001b[0;34m\u001b[0m\u001b[0;34m\u001b[0m\u001b[0m\n\u001b[0m\u001b[1;32m  10055\u001b[0m \u001b[0;34m\u001b[0m\u001b[0m\n\u001b[1;32m  10056\u001b[0m         \u001b[0;32mif\u001b[0m \u001b[0mmethod\u001b[0m \u001b[0;34m==\u001b[0m \u001b[0;34m\"pearson\"\u001b[0m\u001b[0;34m:\u001b[0m\u001b[0;34m\u001b[0m\u001b[0;34m\u001b[0m\u001b[0m\n",
            "\u001b[0;32m/usr/local/lib/python3.10/dist-packages/pandas/core/frame.py\u001b[0m in \u001b[0;36mto_numpy\u001b[0;34m(self, dtype, copy, na_value)\u001b[0m\n\u001b[1;32m   1836\u001b[0m         \u001b[0;32mif\u001b[0m \u001b[0mdtype\u001b[0m \u001b[0;32mis\u001b[0m \u001b[0;32mnot\u001b[0m \u001b[0;32mNone\u001b[0m\u001b[0;34m:\u001b[0m\u001b[0;34m\u001b[0m\u001b[0;34m\u001b[0m\u001b[0m\n\u001b[1;32m   1837\u001b[0m             \u001b[0mdtype\u001b[0m \u001b[0;34m=\u001b[0m \u001b[0mnp\u001b[0m\u001b[0;34m.\u001b[0m\u001b[0mdtype\u001b[0m\u001b[0;34m(\u001b[0m\u001b[0mdtype\u001b[0m\u001b[0;34m)\u001b[0m\u001b[0;34m\u001b[0m\u001b[0;34m\u001b[0m\u001b[0m\n\u001b[0;32m-> 1838\u001b[0;31m         \u001b[0mresult\u001b[0m \u001b[0;34m=\u001b[0m \u001b[0mself\u001b[0m\u001b[0;34m.\u001b[0m\u001b[0m_mgr\u001b[0m\u001b[0;34m.\u001b[0m\u001b[0mas_array\u001b[0m\u001b[0;34m(\u001b[0m\u001b[0mdtype\u001b[0m\u001b[0;34m=\u001b[0m\u001b[0mdtype\u001b[0m\u001b[0;34m,\u001b[0m \u001b[0mcopy\u001b[0m\u001b[0;34m=\u001b[0m\u001b[0mcopy\u001b[0m\u001b[0;34m,\u001b[0m \u001b[0mna_value\u001b[0m\u001b[0;34m=\u001b[0m\u001b[0mna_value\u001b[0m\u001b[0;34m)\u001b[0m\u001b[0;34m\u001b[0m\u001b[0;34m\u001b[0m\u001b[0m\n\u001b[0m\u001b[1;32m   1839\u001b[0m         \u001b[0;32mif\u001b[0m \u001b[0mresult\u001b[0m\u001b[0;34m.\u001b[0m\u001b[0mdtype\u001b[0m \u001b[0;32mis\u001b[0m \u001b[0;32mnot\u001b[0m \u001b[0mdtype\u001b[0m\u001b[0;34m:\u001b[0m\u001b[0;34m\u001b[0m\u001b[0;34m\u001b[0m\u001b[0m\n\u001b[1;32m   1840\u001b[0m             \u001b[0mresult\u001b[0m \u001b[0;34m=\u001b[0m \u001b[0mnp\u001b[0m\u001b[0;34m.\u001b[0m\u001b[0marray\u001b[0m\u001b[0;34m(\u001b[0m\u001b[0mresult\u001b[0m\u001b[0;34m,\u001b[0m \u001b[0mdtype\u001b[0m\u001b[0;34m=\u001b[0m\u001b[0mdtype\u001b[0m\u001b[0;34m,\u001b[0m \u001b[0mcopy\u001b[0m\u001b[0;34m=\u001b[0m\u001b[0;32mFalse\u001b[0m\u001b[0;34m)\u001b[0m\u001b[0;34m\u001b[0m\u001b[0;34m\u001b[0m\u001b[0m\n",
            "\u001b[0;32m/usr/local/lib/python3.10/dist-packages/pandas/core/internals/managers.py\u001b[0m in \u001b[0;36mas_array\u001b[0;34m(self, dtype, copy, na_value)\u001b[0m\n\u001b[1;32m   1730\u001b[0m                 \u001b[0marr\u001b[0m\u001b[0;34m.\u001b[0m\u001b[0mflags\u001b[0m\u001b[0;34m.\u001b[0m\u001b[0mwriteable\u001b[0m \u001b[0;34m=\u001b[0m \u001b[0;32mFalse\u001b[0m\u001b[0;34m\u001b[0m\u001b[0;34m\u001b[0m\u001b[0m\n\u001b[1;32m   1731\u001b[0m         \u001b[0;32melse\u001b[0m\u001b[0;34m:\u001b[0m\u001b[0;34m\u001b[0m\u001b[0;34m\u001b[0m\u001b[0m\n\u001b[0;32m-> 1732\u001b[0;31m             \u001b[0marr\u001b[0m \u001b[0;34m=\u001b[0m \u001b[0mself\u001b[0m\u001b[0;34m.\u001b[0m\u001b[0m_interleave\u001b[0m\u001b[0;34m(\u001b[0m\u001b[0mdtype\u001b[0m\u001b[0;34m=\u001b[0m\u001b[0mdtype\u001b[0m\u001b[0;34m,\u001b[0m \u001b[0mna_value\u001b[0m\u001b[0;34m=\u001b[0m\u001b[0mna_value\u001b[0m\u001b[0;34m)\u001b[0m\u001b[0;34m\u001b[0m\u001b[0;34m\u001b[0m\u001b[0m\n\u001b[0m\u001b[1;32m   1733\u001b[0m             \u001b[0;31m# The underlying data was copied within _interleave, so no need\u001b[0m\u001b[0;34m\u001b[0m\u001b[0;34m\u001b[0m\u001b[0m\n\u001b[1;32m   1734\u001b[0m             \u001b[0;31m# to further copy if copy=True or setting na_value\u001b[0m\u001b[0;34m\u001b[0m\u001b[0;34m\u001b[0m\u001b[0m\n",
            "\u001b[0;32m/usr/local/lib/python3.10/dist-packages/pandas/core/internals/managers.py\u001b[0m in \u001b[0;36m_interleave\u001b[0;34m(self, dtype, na_value)\u001b[0m\n\u001b[1;32m   1792\u001b[0m             \u001b[0;32melse\u001b[0m\u001b[0;34m:\u001b[0m\u001b[0;34m\u001b[0m\u001b[0;34m\u001b[0m\u001b[0m\n\u001b[1;32m   1793\u001b[0m                 \u001b[0marr\u001b[0m \u001b[0;34m=\u001b[0m \u001b[0mblk\u001b[0m\u001b[0;34m.\u001b[0m\u001b[0mget_values\u001b[0m\u001b[0;34m(\u001b[0m\u001b[0mdtype\u001b[0m\u001b[0;34m)\u001b[0m\u001b[0;34m\u001b[0m\u001b[0;34m\u001b[0m\u001b[0m\n\u001b[0;32m-> 1794\u001b[0;31m             \u001b[0mresult\u001b[0m\u001b[0;34m[\u001b[0m\u001b[0mrl\u001b[0m\u001b[0;34m.\u001b[0m\u001b[0mindexer\u001b[0m\u001b[0;34m]\u001b[0m \u001b[0;34m=\u001b[0m \u001b[0marr\u001b[0m\u001b[0;34m\u001b[0m\u001b[0;34m\u001b[0m\u001b[0m\n\u001b[0m\u001b[1;32m   1795\u001b[0m             \u001b[0mitemmask\u001b[0m\u001b[0;34m[\u001b[0m\u001b[0mrl\u001b[0m\u001b[0;34m.\u001b[0m\u001b[0mindexer\u001b[0m\u001b[0;34m]\u001b[0m \u001b[0;34m=\u001b[0m \u001b[0;36m1\u001b[0m\u001b[0;34m\u001b[0m\u001b[0;34m\u001b[0m\u001b[0m\n\u001b[1;32m   1796\u001b[0m \u001b[0;34m\u001b[0m\u001b[0m\n",
            "\u001b[0;31mValueError\u001b[0m: could not convert string to float: 'Active'"
          ]
        }
      ]
    },
    {
      "cell_type": "code",
      "source": [
        "print(correlation_matrix)"
      ],
      "metadata": {
        "id": "KG3m3WvIxQlc",
        "colab": {
          "base_uri": "https://localhost:8080/",
          "height": 141
        },
        "outputId": "de220624-ab63-4ff7-ac4b-936da152371c"
      },
      "execution_count": null,
      "outputs": [
        {
          "output_type": "error",
          "ename": "NameError",
          "evalue": "name 'correlation_matrix' is not defined",
          "traceback": [
            "\u001b[0;31m---------------------------------------------------------------------------\u001b[0m",
            "\u001b[0;31mNameError\u001b[0m                                 Traceback (most recent call last)",
            "\u001b[0;32m<ipython-input-10-cf4d31816639>\u001b[0m in \u001b[0;36m<cell line: 1>\u001b[0;34m()\u001b[0m\n\u001b[0;32m----> 1\u001b[0;31m \u001b[0mprint\u001b[0m\u001b[0;34m(\u001b[0m\u001b[0mcorrelation_matrix\u001b[0m\u001b[0;34m)\u001b[0m\u001b[0;34m\u001b[0m\u001b[0;34m\u001b[0m\u001b[0m\n\u001b[0m",
            "\u001b[0;31mNameError\u001b[0m: name 'correlation_matrix' is not defined"
          ]
        }
      ]
    },
    {
      "cell_type": "code",
      "source": [
        "sns.heatmap(correlation_matrix, annot=True, cmap='coolwarm')\n",
        "plt.savefig('weight_chart_dpi.png', bbox_inches='tight', dpi=300)\n",
        "plt.title('Correlation Matrix')\n",
        "plt.show()"
      ],
      "metadata": {
        "id": "V9FxB3iGxUvD",
        "colab": {
          "base_uri": "https://localhost:8080/",
          "height": 193
        },
        "outputId": "ec92145d-2856-4ee1-f5b4-ae85d87678c1"
      },
      "execution_count": null,
      "outputs": [
        {
          "output_type": "error",
          "ename": "NameError",
          "evalue": "name 'correlation_matrix' is not defined",
          "traceback": [
            "\u001b[0;31m---------------------------------------------------------------------------\u001b[0m",
            "\u001b[0;31mNameError\u001b[0m                                 Traceback (most recent call last)",
            "\u001b[0;32m<ipython-input-11-d832d6972dca>\u001b[0m in \u001b[0;36m<cell line: 1>\u001b[0;34m()\u001b[0m\n\u001b[0;32m----> 1\u001b[0;31m \u001b[0msns\u001b[0m\u001b[0;34m.\u001b[0m\u001b[0mheatmap\u001b[0m\u001b[0;34m(\u001b[0m\u001b[0mcorrelation_matrix\u001b[0m\u001b[0;34m,\u001b[0m \u001b[0mannot\u001b[0m\u001b[0;34m=\u001b[0m\u001b[0;32mTrue\u001b[0m\u001b[0;34m,\u001b[0m \u001b[0mcmap\u001b[0m\u001b[0;34m=\u001b[0m\u001b[0;34m'coolwarm'\u001b[0m\u001b[0;34m)\u001b[0m\u001b[0;34m\u001b[0m\u001b[0;34m\u001b[0m\u001b[0m\n\u001b[0m\u001b[1;32m      2\u001b[0m \u001b[0mplt\u001b[0m\u001b[0;34m.\u001b[0m\u001b[0msavefig\u001b[0m\u001b[0;34m(\u001b[0m\u001b[0;34m'weight_chart_dpi.png'\u001b[0m\u001b[0;34m,\u001b[0m \u001b[0mbbox_inches\u001b[0m\u001b[0;34m=\u001b[0m\u001b[0;34m'tight'\u001b[0m\u001b[0;34m,\u001b[0m \u001b[0mdpi\u001b[0m\u001b[0;34m=\u001b[0m\u001b[0;36m300\u001b[0m\u001b[0;34m)\u001b[0m\u001b[0;34m\u001b[0m\u001b[0;34m\u001b[0m\u001b[0m\n\u001b[1;32m      3\u001b[0m \u001b[0mplt\u001b[0m\u001b[0;34m.\u001b[0m\u001b[0mtitle\u001b[0m\u001b[0;34m(\u001b[0m\u001b[0;34m'Correlation Matrix'\u001b[0m\u001b[0;34m)\u001b[0m\u001b[0;34m\u001b[0m\u001b[0;34m\u001b[0m\u001b[0m\n\u001b[1;32m      4\u001b[0m \u001b[0mplt\u001b[0m\u001b[0;34m.\u001b[0m\u001b[0mshow\u001b[0m\u001b[0;34m(\u001b[0m\u001b[0;34m)\u001b[0m\u001b[0;34m\u001b[0m\u001b[0;34m\u001b[0m\u001b[0m\n",
            "\u001b[0;31mNameError\u001b[0m: name 'correlation_matrix' is not defined"
          ]
        }
      ]
    },
    {
      "cell_type": "code",
      "source": [
        "sns.displot(x='placed', data=df,bins=10)"
      ],
      "metadata": {
        "id": "I9Pk3JMm7PTu"
      },
      "execution_count": null,
      "outputs": []
    },
    {
      "cell_type": "code",
      "source": [
        "plt.figure()\n",
        "plt.suptitle(\"Boxplot for all numerical columns\")\n",
        "ax = plt.gca()\n",
        "\n",
        "df.boxplot(showmeans=True, grid=False)\n",
        "# Rotate x axis text values\n",
        "for tick in ax.get_xticklabels():\n",
        "    tick.set_rotation(85)"
      ],
      "metadata": {
        "id": "JseLDOe07Yig",
        "colab": {
          "base_uri": "https://localhost:8080/",
          "height": 630
        },
        "outputId": "f817c743-909f-466c-c2b7-9f507c315ed6"
      },
      "execution_count": null,
      "outputs": [
        {
          "output_type": "display_data",
          "data": {
            "text/plain": [
              "<Figure size 640x480 with 1 Axes>"
            ],
            "image/png": "[encoded data removed]"
          },
          "metadata": {}
        }
      ]
    },
    {
      "cell_type": "code",
      "source": [
        "sns.boxplot(x = 'placed', y = 'program_duration_days', data = df)"
      ],
      "metadata": {
        "id": "ONX4Q_6E_0E3"
      },
      "execution_count": null,
      "outputs": []
    },
    {
      "cell_type": "markdown",
      "source": [
        "\n",
        "\n",
        "#Clean Data\n",
        "\n",
        "\n",
        "- by using Correlation Matrix we found that there is no coonection between our target column, 'placed' with columns like 'number_of_applications' and 'number_of_interviews', and these columns are not applicable in this analysis, so drop them.\n",
        "- 'pathrise_status' column is became droped as this similar to our target column, 'placed' to prevent the result to become overfit.\n",
        "- cohort_tag' column is used to show the group of people who participated in a course at a certain time, and is not related to our goal, which is a fellow in Pthrise Company will be placed or not?\n",
        "\n"
      ],
      "metadata": {
        "id": "t_1Kv9ppxZsK"
      }
    },
    {
      "cell_type": "code",
      "source": [
        "df.drop(columns=['id','cohort_tag', 'pathrise_status', 'number_of_applications', 'number_of_interviews'],axis=1,inplace=True)"
      ],
      "metadata": {
        "id": "F3nXTbUYxyo-"
      },
      "execution_count": null,
      "outputs": []
    },
    {
      "cell_type": "code",
      "source": [
        "df.info()"
      ],
      "metadata": {
        "id": "eIF9x0q30WX9"
      },
      "execution_count": null,
      "outputs": []
    },
    {
      "cell_type": "code",
      "source": [
        "df.isnull().sum()"
      ],
      "metadata": {
        "id": "9_3afyUEx02G",
        "colab": {
          "base_uri": "https://localhost:8080/"
        },
        "outputId": "8b35a3ed-9cbf-43d6-8fcb-0768449d004b"
      },
      "execution_count": null,
      "outputs": [
        {
          "output_type": "execute_result",
          "data": {
            "text/plain": [
              "primary_track                    0\n",
              "program_duration_days          616\n",
              "placed                           0\n",
              "employment_status              229\n",
              "highest_level_of_education      58\n",
              "length_of_job_search            74\n",
              "biggest_challenge_in_search     24\n",
              "professional_experience        222\n",
              "work_authorization_status      284\n",
              "gender                         492\n",
              "race                            18\n",
              "dtype: int64"
            ]
          },
          "metadata": {},
          "execution_count": 14
        }
      ]
    },
    {
      "cell_type": "markdown",
      "source": [
        "##Exploratory Data Analysis (EDA)"
      ],
      "metadata": {
        "id": "BaITFpCDx4_w"
      }
    },
    {
      "cell_type": "code",
      "source": [
        "sns.displot(x='program_duration_days', data=df,bins=10)"
      ],
      "metadata": {
        "id": "s4PTqwQtx8ZR",
        "colab": {
          "base_uri": "https://localhost:8080/",
          "height": 523
        },
        "outputId": "0f8d8241-de52-4c6b-bb6b-586d63d99d41"
      },
      "execution_count": null,
      "outputs": [
        {
          "output_type": "execute_result",
          "data": {
            "text/plain": [
              "<seaborn.axisgrid.FacetGrid at 0x7806c215f4c0>"
            ]
          },
          "metadata": {},
          "execution_count": 15
        },
        {
          "output_type": "display_data",
          "data": {
            "text/plain": [
              "<Figure size 500x500 with 1 Axes>"
            ],
            "image/png": "[encoded data removed]"
          },
          "metadata": {}
        }
      ]
    },
    {
      "cell_type": "code",
      "source": [
        "# dropping missing values using mode\n",
        "df.dropna(subset=['program_duration_days'], inplace=True)"
      ],
      "metadata": {
        "id": "1ZOKYpkMyDPB"
      },
      "execution_count": null,
      "outputs": []
    },
    {
      "cell_type": "code",
      "source": [
        "# drawing changes after filling missing values\n",
        "sns.displot(x='program_duration_days', data=df,bins=10)"
      ],
      "metadata": {
        "id": "gKwcy10DyGRA"
      },
      "execution_count": null,
      "outputs": []
    },
    {
      "cell_type": "code",
      "source": [
        "df.isnull().sum()"
      ],
      "metadata": {
        "id": "aPb4lR4ayI7v",
        "colab": {
          "base_uri": "https://localhost:8080/"
        },
        "outputId": "ce402804-7b08-4bd6-ed30-29f6ee9de4e0"
      },
      "execution_count": null,
      "outputs": [
        {
          "output_type": "execute_result",
          "data": {
            "text/plain": [
              "primary_track                    0\n",
              "program_duration_days            0\n",
              "placed                           0\n",
              "employment_status              182\n",
              "highest_level_of_education      42\n",
              "length_of_job_search            66\n",
              "biggest_challenge_in_search     20\n",
              "professional_experience        161\n",
              "work_authorization_status      221\n",
              "gender                         371\n",
              "race                            13\n",
              "dtype: int64"
            ]
          },
          "metadata": {},
          "execution_count": 17
        }
      ]
    },
    {
      "cell_type": "code",
      "source": [
        "# drawing changes after filling missing values\n",
        "sns.displot(x='program_duration_days', data=df,bins=10)"
      ],
      "metadata": {
        "id": "vvk1AXlsyL0a"
      },
      "execution_count": null,
      "outputs": []
    },
    {
      "cell_type": "code",
      "source": [
        "df['program_duration_days']= df['program_duration_days'].apply(int)"
      ],
      "metadata": {
        "id": "ThuuA-EIyONJ"
      },
      "execution_count": null,
      "outputs": []
    },
    {
      "cell_type": "code",
      "source": [
        "df.info()"
      ],
      "metadata": {
        "id": "HTi-WE5HyP_q"
      },
      "execution_count": null,
      "outputs": []
    },
    {
      "cell_type": "code",
      "source": [
        "sns.countplot(x='primary_track', data=df,  hue='placed')\n",
        "plt.xticks(rotation=45)\n",
        "\n",
        "\n"
      ],
      "metadata": {
        "id": "5kJeIld8yScF"
      },
      "execution_count": null,
      "outputs": []
    },
    {
      "cell_type": "code",
      "source": [
        "df.isnull().sum()"
      ],
      "metadata": {
        "id": "AO3tdcU0ZMaL",
        "colab": {
          "base_uri": "https://localhost:8080/"
        },
        "outputId": "03975870-9991-4724-b5ad-70121fffa0ee"
      },
      "execution_count": null,
      "outputs": [
        {
          "output_type": "execute_result",
          "data": {
            "text/plain": [
              "primary_track                    0\n",
              "program_duration_days            0\n",
              "placed                           0\n",
              "employment_status              182\n",
              "highest_level_of_education      42\n",
              "length_of_job_search            66\n",
              "biggest_challenge_in_search     20\n",
              "professional_experience        161\n",
              "work_authorization_status      221\n",
              "gender                         371\n",
              "race                            13\n",
              "dtype: int64"
            ]
          },
          "metadata": {},
          "execution_count": 19
        }
      ]
    },
    {
      "cell_type": "code",
      "source": [
        "df['employment_status']"
      ],
      "metadata": {
        "id": "mQWnggv1ydO-"
      },
      "execution_count": null,
      "outputs": []
    },
    {
      "cell_type": "code",
      "source": [
        "# Impute missing values using mode\n",
        "df['employment_status'].fillna(df['employment_status'].mode()[0], inplace=True)"
      ],
      "metadata": {
        "id": "zIugEdDsyf6F"
      },
      "execution_count": null,
      "outputs": []
    },
    {
      "cell_type": "code",
      "source": [
        "# drawing changes after filling missing values\n",
        "sns.countplot(x='employment_status', data=df, hue='placed')\n",
        "plt.xticks(rotation=45)"
      ],
      "metadata": {
        "id": "3TOmX3IJyjIl"
      },
      "execution_count": null,
      "outputs": []
    },
    {
      "cell_type": "code",
      "source": [
        "set(df['employment_status'])"
      ],
      "metadata": {
        "id": "hUcUThs0ymmk"
      },
      "execution_count": null,
      "outputs": []
    },
    {
      "cell_type": "code",
      "source": [
        "data=df['employment_status'].value_counts()\n",
        "data"
      ],
      "metadata": {
        "id": "bjBXx9fXypQR"
      },
      "execution_count": null,
      "outputs": []
    },
    {
      "cell_type": "code",
      "source": [
        "data.index"
      ],
      "metadata": {
        "id": "y8dns25uyre0"
      },
      "execution_count": null,
      "outputs": []
    },
    {
      "cell_type": "code",
      "source": [
        "explode=(0, 0, 0, 0, 0)\n",
        "color=['red', 'blue', 'yellow', 'green', 'pink']\n",
        "plt.figure(figsize=(10,10))\n",
        "plt.pie(data.values, labels=data.index, colors=color, autopct='%1.2f%%',explode = explode, startangle=90)\n"
      ],
      "metadata": {
        "id": "e-Cj4wuIy1zM"
      },
      "execution_count": null,
      "outputs": []
    },
    {
      "cell_type": "code",
      "source": [
        "sns.countplot(x='highest_level_of_education', data=df,  hue='placed')\n",
        "plt.xticks(rotation=80)"
      ],
      "metadata": {
        "id": "hJ8ASnVwy37v"
      },
      "execution_count": null,
      "outputs": []
    },
    {
      "cell_type": "code",
      "source": [
        "# Impute missing values using mode\n",
        "df['highest_level_of_education'].fillna(df['highest_level_of_education'].mode()[0], inplace=True)"
      ],
      "metadata": {
        "id": "SMuXPs6wy8o3"
      },
      "execution_count": null,
      "outputs": []
    },
    {
      "cell_type": "code",
      "source": [
        "sns.countplot(x='highest_level_of_education', data=df,  hue='primary_track')\n",
        "plt.xticks(rotation=80)"
      ],
      "metadata": {
        "id": "vfUwSyDyLu4o"
      },
      "execution_count": null,
      "outputs": []
    },
    {
      "cell_type": "code",
      "source": [
        "df.isnull().sum()"
      ],
      "metadata": {
        "id": "6LlLzLIpy-p2",
        "colab": {
          "base_uri": "https://localhost:8080/"
        },
        "outputId": "0ba8f551-b1e8-4ae4-d99b-d3578b3f71d9"
      },
      "execution_count": null,
      "outputs": [
        {
          "output_type": "execute_result",
          "data": {
            "text/plain": [
              "primary_track                    0\n",
              "program_duration_days            0\n",
              "placed                           0\n",
              "employment_status                0\n",
              "highest_level_of_education       0\n",
              "length_of_job_search            66\n",
              "biggest_challenge_in_search     20\n",
              "professional_experience        161\n",
              "work_authorization_status      221\n",
              "gender                         371\n",
              "race                            13\n",
              "dtype: int64"
            ]
          },
          "metadata": {},
          "execution_count": 22
        }
      ]
    },
    {
      "cell_type": "code",
      "source": [
        "# drawing changes after filling missing values\n",
        "sns.countplot(x='highest_level_of_education', data=df,  hue='placed')\n",
        "plt.xticks(rotation=80)"
      ],
      "metadata": {
        "id": "jtPD7z6gzBMB"
      },
      "execution_count": null,
      "outputs": []
    },
    {
      "cell_type": "code",
      "source": [
        "sns.countplot(x='length_of_job_search', data=df, hue='placed')\n",
        "plt.xticks(rotation=80)"
      ],
      "metadata": {
        "id": "SeorQV6FzD13"
      },
      "execution_count": null,
      "outputs": []
    },
    {
      "cell_type": "code",
      "source": [
        "# Impute missing values using mode\n",
        "df['length_of_job_search'].fillna(df['length_of_job_search'].mode()[0], inplace=True)"
      ],
      "metadata": {
        "id": "L8BWEXWxzGat"
      },
      "execution_count": null,
      "outputs": []
    },
    {
      "cell_type": "code",
      "source": [
        "# drawing changes after filling missing values\n",
        "sns.countplot(x='length_of_job_search', data=df, hue='highest_level_of_education')\n",
        "plt.xticks(rotation=80)\n",
        "plt.title('Comparison between length_of_job_search and highest_level_of_education')\n"
      ],
      "metadata": {
        "id": "DzsxtotyzIw_"
      },
      "execution_count": null,
      "outputs": []
    },
    {
      "cell_type": "code",
      "source": [
        "sns.countplot(x='biggest_challenge_in_search', data=df,  hue='placed')\n",
        "plt.xticks(rotation=90)"
      ],
      "metadata": {
        "id": "uwbGyvB3zLiu"
      },
      "execution_count": null,
      "outputs": []
    },
    {
      "cell_type": "code",
      "source": [
        "# Impute missing values using mode\n",
        "df['biggest_challenge_in_search'].fillna(df['biggest_challenge_in_search'].mode()[0], inplace=True)"
      ],
      "metadata": {
        "id": "JZZKBbcfzOL3"
      },
      "execution_count": null,
      "outputs": []
    },
    {
      "cell_type": "code",
      "source": [
        "# drawing changes after filling missing values\n",
        "sns.countplot(x='biggest_challenge_in_search', data=df,  hue='placed')\n",
        "plt.xticks(rotation=90)"
      ],
      "metadata": {
        "id": "xYANwYm0zQU-"
      },
      "execution_count": null,
      "outputs": []
    },
    {
      "cell_type": "code",
      "source": [
        "sns.countplot(x='professional_experience', data=df,  hue='placed')\n",
        "plt.xticks(rotation=90)"
      ],
      "metadata": {
        "id": "Ajugu7YfzTPp"
      },
      "execution_count": null,
      "outputs": []
    },
    {
      "cell_type": "code",
      "source": [
        "# Impute missing values using mode\n",
        "df['professional_experience'].fillna(df['professional_experience'].mode()[0], inplace=True)"
      ],
      "metadata": {
        "id": "AHsuz4jzzV9H"
      },
      "execution_count": null,
      "outputs": []
    },
    {
      "cell_type": "code",
      "source": [
        "# drawing changes after filling missing values\n",
        "sns.countplot(x='professional_experience', data=df,  hue='placed')\n",
        "plt.xticks(rotation=90)"
      ],
      "metadata": {
        "id": "wFwTU2E0zYVj"
      },
      "execution_count": null,
      "outputs": []
    },
    {
      "cell_type": "code",
      "source": [
        "sns.countplot(x='work_authorization_status', data=df,  hue='placed')\n",
        "plt.xticks(rotation=90)"
      ],
      "metadata": {
        "id": "dMlAvczlzbGv"
      },
      "execution_count": null,
      "outputs": []
    },
    {
      "cell_type": "code",
      "source": [
        "# Impute missing values using mode\n",
        "df['work_authorization_status'].fillna(df['work_authorization_status'].mode()[0], inplace=True)"
      ],
      "metadata": {
        "id": "X32LpTaDzd-0"
      },
      "execution_count": null,
      "outputs": []
    },
    {
      "cell_type": "code",
      "source": [
        "# drawing changes after filling missing values\n",
        "sns.countplot(x='work_authorization_status', data=df,  hue='placed')\n",
        "plt.xticks(rotation=90)"
      ],
      "metadata": {
        "id": "YZ7FyDxnzf7s"
      },
      "execution_count": null,
      "outputs": []
    },
    {
      "cell_type": "code",
      "source": [
        "sns.countplot(x='gender', data=df,  hue='placed')\n",
        "plt.xticks(rotation=90)"
      ],
      "metadata": {
        "id": "AiP24Zd6ziS_"
      },
      "execution_count": null,
      "outputs": []
    },
    {
      "cell_type": "code",
      "source": [
        "# Impute missing values using mode\n",
        "df['gender'].fillna(df['gender'].mode()[0], inplace=True)"
      ],
      "metadata": {
        "id": "L5tApb3Zzk5y"
      },
      "execution_count": null,
      "outputs": []
    },
    {
      "cell_type": "code",
      "source": [
        "# drawing changes after filling missing values\n",
        "sns.countplot(x='gender', data=df,  hue='placed')\n",
        "plt.xticks(rotation=90)"
      ],
      "metadata": {
        "id": "9Xa37u51znOX"
      },
      "execution_count": null,
      "outputs": []
    },
    {
      "cell_type": "code",
      "source": [
        "sns.countplot(x='race', data=df,  hue='placed')\n",
        "plt.xticks(rotation=90)"
      ],
      "metadata": {
        "id": "8iOrzIk9zpa8"
      },
      "execution_count": null,
      "outputs": []
    },
    {
      "cell_type": "code",
      "source": [
        "# Impute missing values using mode\n",
        "df['race'].fillna(df['race'].mode()[0], inplace=True)"
      ],
      "metadata": {
        "id": "zgW_EzFyzryc"
      },
      "execution_count": null,
      "outputs": []
    },
    {
      "cell_type": "code",
      "source": [
        "df.isnull().sum()"
      ],
      "metadata": {
        "id": "frXFfFygzuHv",
        "colab": {
          "base_uri": "https://localhost:8080/"
        },
        "outputId": "c6504ccc-5e4c-4a53-bbaf-f444b10396f8"
      },
      "execution_count": null,
      "outputs": [
        {
          "output_type": "execute_result",
          "data": {
            "text/plain": [
              "primary_track                  0\n",
              "program_duration_days          0\n",
              "placed                         0\n",
              "employment_status              0\n",
              "highest_level_of_education     0\n",
              "length_of_job_search           0\n",
              "biggest_challenge_in_search    0\n",
              "professional_experience        0\n",
              "work_authorization_status      0\n",
              "gender                         0\n",
              "race                           0\n",
              "dtype: int64"
            ]
          },
          "metadata": {},
          "execution_count": 29
        }
      ]
    },
    {
      "cell_type": "code",
      "source": [
        "# drawing changes after filling missing values\n",
        "sns.countplot(x='race', data=df,  hue='placed')\n",
        "plt.xticks(rotation=90)"
      ],
      "metadata": {
        "id": "-LGEBiu1zweZ"
      },
      "execution_count": null,
      "outputs": []
    },
    {
      "cell_type": "code",
      "source": [
        "df.info()"
      ],
      "metadata": {
        "id": "mXC2SNijz1QP",
        "colab": {
          "base_uri": "https://localhost:8080/"
        },
        "outputId": "efee9b1d-1386-4952-b74d-23fdd469bcd1"
      },
      "execution_count": null,
      "outputs": [
        {
          "output_type": "stream",
          "name": "stdout",
          "text": [
            "<class 'pandas.core.frame.DataFrame'>\n",
            "Index: 1928 entries, 2 to 2543\n",
            "Data columns (total 11 columns):\n",
            " #   Column                       Non-Null Count  Dtype \n",
            "---  ------                       --------------  ----- \n",
            " 0   primary_track                1928 non-null   object\n",
            " 1   program_duration_days        1928 non-null   int64 \n",
            " 2   placed                       1928 non-null   int64 \n",
            " 3   employment_status            1928 non-null   object\n",
            " 4   highest_level_of_education   1928 non-null   object\n",
            " 5   length_of_job_search         1928 non-null   object\n",
            " 6   biggest_challenge_in_search  1928 non-null   object\n",
            " 7   professional_experience      1928 non-null   object\n",
            " 8   work_authorization_status    1928 non-null   object\n",
            " 9   gender                       1928 non-null   object\n",
            " 10  race                         1928 non-null   object\n",
            "dtypes: int64(2), object(9)\n",
            "memory usage: 180.8+ KB\n"
          ]
        }
      ]
    },
    {
      "cell_type": "code",
      "source": [
        "sns.heatmap(df.isnull(), cmap='viridis')"
      ],
      "metadata": {
        "id": "ArtoDW0cjeOo"
      },
      "execution_count": null,
      "outputs": []
    },
    {
      "cell_type": "code",
      "source": [
        "sns.displot(x='placed', data=df,bins=10)"
      ],
      "metadata": {
        "id": "Ju6HozDT5bF1"
      },
      "execution_count": null,
      "outputs": []
    },
    {
      "cell_type": "code",
      "source": [
        "sns.boxplot(x = 'placed', y = 'program_duration_days', data = df)"
      ],
      "metadata": {
        "id": "MwLvSNYcAbem"
      },
      "execution_count": null,
      "outputs": []
    },
    {
      "cell_type": "markdown",
      "source": [
        "**Feature Engineering**"
      ],
      "metadata": {
        "id": "_uwabVD62bak"
      }
    },
    {
      "cell_type": "code",
      "source": [
        "preprocessed_df=pd.get_dummies(df, columns=['work_authorization_status', 'highest_level_of_education','gender', 'race', 'primary_track', 'length_of_job_search', 'biggest_challenge_in_search','professional_experience', 'employment_status'])"
      ],
      "metadata": {
        "id": "xBl_wktT2dJi"
      },
      "execution_count": null,
      "outputs": []
    },
    {
      "cell_type": "code",
      "source": [
        "x=preprocessed_df.drop(columns=['placed', 'program_duration_days'])"
      ],
      "metadata": {
        "id": "xoHDxxZ23NRN"
      },
      "execution_count": null,
      "outputs": []
    },
    {
      "cell_type": "code",
      "source": [
        "x= preprocessed_df.drop(columns=['program_duration_days', 'placed'])"
      ],
      "metadata": {
        "id": "9SdK9Y9q2skV"
      },
      "execution_count": null,
      "outputs": []
    },
    {
      "cell_type": "code",
      "source": [
        "y= preprocessed_df[['program_duration_days', 'placed']]"
      ],
      "metadata": {
        "id": "sqc22Y4z2xKT"
      },
      "execution_count": null,
      "outputs": []
    },
    {
      "cell_type": "markdown",
      "source": [
        "**Modeling**"
      ],
      "metadata": {
        "id": "rKVh6zhY33Wz"
      }
    },
    {
      "cell_type": "markdown",
      "source": [
        "##Method Jadi"
      ],
      "metadata": {
        "id": "KnfZUP5Ocg-X"
      }
    },
    {
      "cell_type": "code",
      "source": [
        "plt.scatter(preprocessed_df['program_duration_days'],  preprocessed_df['placed'], color='blue')\n",
        "plt.xlabel(\"placed\")\n",
        "plt.ylabel(\"program_duration_days\")\n",
        "plt.show()"
      ],
      "metadata": {
        "id": "MwQ3jRhdfzF9",
        "colab": {
          "base_uri": "https://localhost:8080/",
          "height": 449
        },
        "outputId": "4ecc8a96-10e1-450c-9203-3e21306c893a"
      },
      "execution_count": null,
      "outputs": [
        {
          "output_type": "display_data",
          "data": {
            "text/plain": [
              "<Figure size 640x480 with 1 Axes>"
            ],
            "image/png": "[encoded data removed]"
          },
          "metadata": {}
        }
      ]
    },
    {
      "cell_type": "code",
      "source": [
        "msk = np.random.rand(len(preprocessed_df)) < 0.8\n",
        "train = preprocessed_df[msk]\n",
        "test = preprocessed_df[~msk]\n",
        "print(msk)\n",
        "print(~msk)\n",
        "print(preprocessed_df)\n",
        "print(train)\n",
        "print(test)"
      ],
      "metadata": {
        "id": "X5ok9RAjcMmY",
        "colab": {
          "base_uri": "https://localhost:8080/"
        },
        "outputId": "aea3b015-14cf-45ae-e0f7-2e242b101761"
      },
      "execution_count": null,
      "outputs": [
        {
          "output_type": "stream",
          "name": "stdout",
          "text": [
            "[ True False  True ... False  True  True]\n",
            "[False  True False ...  True False False]\n",
            "      program_duration_days  placed  work_authorization_status_Canada Citizen  \\\n",
            "2                         0       0                                     False   \n",
            "3                         0       0                                     False   \n",
            "4                        89       1                                     False   \n",
            "5                         0       0                                     False   \n",
            "6                         0       0                                     False   \n",
            "...                     ...     ...                                       ...   \n",
            "2535                      0       0                                     False   \n",
            "2538                    118       0                                     False   \n",
            "2539                    457       0                                     False   \n",
            "2540                    488       0                                     False   \n",
            "2543                    285       0                                     False   \n",
            "\n",
            "      work_authorization_status_Citizen  \\\n",
            "2                                  True   \n",
            "3                                  True   \n",
            "4                                 False   \n",
            "5                                 False   \n",
            "6                                 False   \n",
            "...                                 ...   \n",
            "2535                               True   \n",
            "2538                              False   \n",
            "2539                               True   \n",
            "2540                              False   \n",
            "2543                              False   \n",
            "\n",
            "      work_authorization_status_F1 Visa/CPT  \\\n",
            "2                                     False   \n",
            "3                                     False   \n",
            "4                                     False   \n",
            "5                                     False   \n",
            "6                                     False   \n",
            "...                                     ...   \n",
            "2535                                  False   \n",
            "2538                                  False   \n",
            "2539                                  False   \n",
            "2540                                  False   \n",
            "2543                                  False   \n",
            "\n",
            "      work_authorization_status_F1 Visa/OPT  \\\n",
            "2                                     False   \n",
            "3                                     False   \n",
            "4                                      True   \n",
            "5                                     False   \n",
            "6                                     False   \n",
            "...                                     ...   \n",
            "2535                                  False   \n",
            "2538                                  False   \n",
            "2539                                  False   \n",
            "2540                                   True   \n",
            "2543                                  False   \n",
            "\n",
            "      work_authorization_status_Green Card  work_authorization_status_H1B  \\\n",
            "2                                    False                          False   \n",
            "3                                    False                          False   \n",
            "4                                    False                          False   \n",
            "5                                     True                          False   \n",
            "6                                     True                          False   \n",
            "...                                    ...                            ...   \n",
            "2535                                 False                          False   \n",
            "2538                                 False                          False   \n",
            "2539                                 False                          False   \n",
            "2540                                 False                          False   \n",
            "2543                                  True                          False   \n",
            "\n",
            "      work_authorization_status_Not Authorized  \\\n",
            "2                                        False   \n",
            "3                                        False   \n",
            "4                                        False   \n",
            "5                                        False   \n",
            "6                                        False   \n",
            "...                                        ...   \n",
            "2535                                     False   \n",
            "2538                                     False   \n",
            "2539                                     False   \n",
            "2540                                     False   \n",
            "2543                                     False   \n",
            "\n",
            "      work_authorization_status_Other  ...  \\\n",
            "2                               False  ...   \n",
            "3                               False  ...   \n",
            "4                               False  ...   \n",
            "5                               False  ...   \n",
            "6                               False  ...   \n",
            "...                               ...  ...   \n",
            "2535                            False  ...   \n",
            "2538                             True  ...   \n",
            "2539                            False  ...   \n",
            "2540                            False  ...   \n",
            "2543                            False  ...   \n",
            "\n",
            "      biggest_challenge_in_search_Technical skills  \\\n",
            "2                                            False   \n",
            "3                                            False   \n",
            "4                                            False   \n",
            "5                                            False   \n",
            "6                                            False   \n",
            "...                                            ...   \n",
            "2535                                         False   \n",
            "2538                                         False   \n",
            "2539                                         False   \n",
            "2540                                         False   \n",
            "2543                                         False   \n",
            "\n",
            "      professional_experience_1-2 years  professional_experience_3-4 years  \\\n",
            "2                                 False                              False   \n",
            "3                                 False                              False   \n",
            "4                                  True                              False   \n",
            "5                                 False                               True   \n",
            "6                                 False                               True   \n",
            "...                                 ...                                ...   \n",
            "2535                              False                               True   \n",
            "2538                              False                              False   \n",
            "2539                              False                              False   \n",
            "2540                               True                              False   \n",
            "2543                               True                              False   \n",
            "\n",
            "      professional_experience_5+ years  \\\n",
            "2                                False   \n",
            "3                                False   \n",
            "4                                False   \n",
            "5                                False   \n",
            "6                                False   \n",
            "...                                ...   \n",
            "2535                             False   \n",
            "2538                              True   \n",
            "2539                              True   \n",
            "2540                             False   \n",
            "2543                             False   \n",
            "\n",
            "      professional_experience_Less than one year  \\\n",
            "2                                           True   \n",
            "3                                           True   \n",
            "4                                          False   \n",
            "5                                          False   \n",
            "6                                          False   \n",
            "...                                          ...   \n",
            "2535                                       False   \n",
            "2538                                       False   \n",
            "2539                                       False   \n",
            "2540                                       False   \n",
            "2543                                       False   \n",
            "\n",
            "      employment_status_Contractor  employment_status_Employed Full-Time  \\\n",
            "2                            False                                 False   \n",
            "3                             True                                 False   \n",
            "4                            False                                 False   \n",
            "5                            False                                  True   \n",
            "6                            False                                  True   \n",
            "...                            ...                                   ...   \n",
            "2535                         False                                  True   \n",
            "2538                         False                                 False   \n",
            "2539                          True                                 False   \n",
            "2540                         False                                 False   \n",
            "2543                         False                                 False   \n",
            "\n",
            "      employment_status_Employed Part-Time  employment_status_Student  \\\n",
            "2                                     True                      False   \n",
            "3                                    False                      False   \n",
            "4                                    False                      False   \n",
            "5                                    False                      False   \n",
            "6                                    False                      False   \n",
            "...                                    ...                        ...   \n",
            "2535                                 False                      False   \n",
            "2538                                  True                      False   \n",
            "2539                                 False                      False   \n",
            "2540                                 False                       True   \n",
            "2543                                 False                       True   \n",
            "\n",
            "      employment_status_Unemployed  \n",
            "2                            False  \n",
            "3                            False  \n",
            "4                             True  \n",
            "5                            False  \n",
            "6                            False  \n",
            "...                            ...  \n",
            "2535                         False  \n",
            "2538                         False  \n",
            "2539                         False  \n",
            "2540                         False  \n",
            "2543                         False  \n",
            "\n",
            "[1928 rows x 61 columns]\n",
            "      program_duration_days  placed  work_authorization_status_Canada Citizen  \\\n",
            "2                         0       0                                     False   \n",
            "4                        89       1                                     False   \n",
            "6                         0       0                                     False   \n",
            "7                        19       0                                     False   \n",
            "9                        13       0                                     False   \n",
            "...                     ...     ...                                       ...   \n",
            "2534                    119       1                                     False   \n",
            "2535                      0       0                                     False   \n",
            "2538                    118       0                                     False   \n",
            "2540                    488       0                                     False   \n",
            "2543                    285       0                                     False   \n",
            "\n",
            "      work_authorization_status_Citizen  \\\n",
            "2                                  True   \n",
            "4                                 False   \n",
            "6                                 False   \n",
            "7                                  True   \n",
            "9                                  True   \n",
            "...                                 ...   \n",
            "2534                               True   \n",
            "2535                               True   \n",
            "2538                              False   \n",
            "2540                              False   \n",
            "2543                              False   \n",
            "\n",
            "      work_authorization_status_F1 Visa/CPT  \\\n",
            "2                                     False   \n",
            "4                                     False   \n",
            "6                                     False   \n",
            "7                                     False   \n",
            "9                                     False   \n",
            "...                                     ...   \n",
            "2534                                  False   \n",
            "2535                                  False   \n",
            "2538                                  False   \n",
            "2540                                  False   \n",
            "2543                                  False   \n",
            "\n",
            "      work_authorization_status_F1 Visa/OPT  \\\n",
            "2                                     False   \n",
            "4                                      True   \n",
            "6                                     False   \n",
            "7                                     False   \n",
            "9                                     False   \n",
            "...                                     ...   \n",
            "2534                                  False   \n",
            "2535                                  False   \n",
            "2538                                  False   \n",
            "2540                                   True   \n",
            "2543                                  False   \n",
            "\n",
            "      work_authorization_status_Green Card  work_authorization_status_H1B  \\\n",
            "2                                    False                          False   \n",
            "4                                    False                          False   \n",
            "6                                     True                          False   \n",
            "7                                    False                          False   \n",
            "9                                    False                          False   \n",
            "...                                    ...                            ...   \n",
            "2534                                 False                          False   \n",
            "2535                                 False                          False   \n",
            "2538                                 False                          False   \n",
            "2540                                 False                          False   \n",
            "2543                                  True                          False   \n",
            "\n",
            "      work_authorization_status_Not Authorized  \\\n",
            "2                                        False   \n",
            "4                                        False   \n",
            "6                                        False   \n",
            "7                                        False   \n",
            "9                                        False   \n",
            "...                                        ...   \n",
            "2534                                     False   \n",
            "2535                                     False   \n",
            "2538                                     False   \n",
            "2540                                     False   \n",
            "2543                                     False   \n",
            "\n",
            "      work_authorization_status_Other  ...  \\\n",
            "2                               False  ...   \n",
            "4                               False  ...   \n",
            "6                               False  ...   \n",
            "7                               False  ...   \n",
            "9                               False  ...   \n",
            "...                               ...  ...   \n",
            "2534                            False  ...   \n",
            "2535                            False  ...   \n",
            "2538                             True  ...   \n",
            "2540                            False  ...   \n",
            "2543                            False  ...   \n",
            "\n",
            "      biggest_challenge_in_search_Technical skills  \\\n",
            "2                                            False   \n",
            "4                                            False   \n",
            "6                                            False   \n",
            "7                                            False   \n",
            "9                                            False   \n",
            "...                                            ...   \n",
            "2534                                         False   \n",
            "2535                                         False   \n",
            "2538                                         False   \n",
            "2540                                         False   \n",
            "2543                                         False   \n",
            "\n",
            "      professional_experience_1-2 years  professional_experience_3-4 years  \\\n",
            "2                                 False                              False   \n",
            "4                                  True                              False   \n",
            "6                                 False                               True   \n",
            "7                                  True                              False   \n",
            "9                                 False                               True   \n",
            "...                                 ...                                ...   \n",
            "2534                               True                              False   \n",
            "2535                              False                               True   \n",
            "2538                              False                              False   \n",
            "2540                               True                              False   \n",
            "2543                               True                              False   \n",
            "\n",
            "      professional_experience_5+ years  \\\n",
            "2                                False   \n",
            "4                                False   \n",
            "6                                False   \n",
            "7                                False   \n",
            "9                                False   \n",
            "...                                ...   \n",
            "2534                             False   \n",
            "2535                             False   \n",
            "2538                              True   \n",
            "2540                             False   \n",
            "2543                             False   \n",
            "\n",
            "      professional_experience_Less than one year  \\\n",
            "2                                           True   \n",
            "4                                          False   \n",
            "6                                          False   \n",
            "7                                          False   \n",
            "9                                          False   \n",
            "...                                          ...   \n",
            "2534                                       False   \n",
            "2535                                       False   \n",
            "2538                                       False   \n",
            "2540                                       False   \n",
            "2543                                       False   \n",
            "\n",
            "      employment_status_Contractor  employment_status_Employed Full-Time  \\\n",
            "2                            False                                 False   \n",
            "4                            False                                 False   \n",
            "6                            False                                  True   \n",
            "7                            False                                 False   \n",
            "9                            False                                  True   \n",
            "...                            ...                                   ...   \n",
            "2534                         False                                  True   \n",
            "2535                         False                                  True   \n",
            "2538                         False                                 False   \n",
            "2540                         False                                 False   \n",
            "2543                         False                                 False   \n",
            "\n",
            "      employment_status_Employed Part-Time  employment_status_Student  \\\n",
            "2                                     True                      False   \n",
            "4                                    False                      False   \n",
            "6                                    False                      False   \n",
            "7                                     True                      False   \n",
            "9                                    False                      False   \n",
            "...                                    ...                        ...   \n",
            "2534                                 False                      False   \n",
            "2535                                 False                      False   \n",
            "2538                                  True                      False   \n",
            "2540                                 False                       True   \n",
            "2543                                 False                       True   \n",
            "\n",
            "      employment_status_Unemployed  \n",
            "2                            False  \n",
            "4                             True  \n",
            "6                            False  \n",
            "7                            False  \n",
            "9                            False  \n",
            "...                            ...  \n",
            "2534                         False  \n",
            "2535                         False  \n",
            "2538                         False  \n",
            "2540                         False  \n",
            "2543                         False  \n",
            "\n",
            "[1510 rows x 61 columns]\n",
            "      program_duration_days  placed  work_authorization_status_Canada Citizen  \\\n",
            "3                         0       0                                     False   \n",
            "5                         0       0                                     False   \n",
            "10                        0       0                                     False   \n",
            "22                       93       0                                     False   \n",
            "43                       13       0                                     False   \n",
            "...                     ...     ...                                       ...   \n",
            "2511                    319       0                                     False   \n",
            "2515                      0       0                                     False   \n",
            "2518                    306       1                                      True   \n",
            "2521                     74       0                                     False   \n",
            "2539                    457       0                                     False   \n",
            "\n",
            "      work_authorization_status_Citizen  \\\n",
            "3                                  True   \n",
            "5                                 False   \n",
            "10                                False   \n",
            "22                                 True   \n",
            "43                                 True   \n",
            "...                                 ...   \n",
            "2511                               True   \n",
            "2515                              False   \n",
            "2518                              False   \n",
            "2521                               True   \n",
            "2539                               True   \n",
            "\n",
            "      work_authorization_status_F1 Visa/CPT  \\\n",
            "3                                     False   \n",
            "5                                     False   \n",
            "10                                    False   \n",
            "22                                    False   \n",
            "43                                    False   \n",
            "...                                     ...   \n",
            "2511                                  False   \n",
            "2515                                  False   \n",
            "2518                                  False   \n",
            "2521                                  False   \n",
            "2539                                  False   \n",
            "\n",
            "      work_authorization_status_F1 Visa/OPT  \\\n",
            "3                                     False   \n",
            "5                                     False   \n",
            "10                                    False   \n",
            "22                                    False   \n",
            "43                                    False   \n",
            "...                                     ...   \n",
            "2511                                  False   \n",
            "2515                                   True   \n",
            "2518                                  False   \n",
            "2521                                  False   \n",
            "2539                                  False   \n",
            "\n",
            "      work_authorization_status_Green Card  work_authorization_status_H1B  \\\n",
            "3                                    False                          False   \n",
            "5                                     True                          False   \n",
            "10                                   False                          False   \n",
            "22                                   False                          False   \n",
            "43                                   False                          False   \n",
            "...                                    ...                            ...   \n",
            "2511                                 False                          False   \n",
            "2515                                 False                          False   \n",
            "2518                                 False                          False   \n",
            "2521                                 False                          False   \n",
            "2539                                 False                          False   \n",
            "\n",
            "      work_authorization_status_Not Authorized  \\\n",
            "3                                        False   \n",
            "5                                        False   \n",
            "10                                       False   \n",
            "22                                       False   \n",
            "43                                       False   \n",
            "...                                        ...   \n",
            "2511                                     False   \n",
            "2515                                     False   \n",
            "2518                                     False   \n",
            "2521                                     False   \n",
            "2539                                     False   \n",
            "\n",
            "      work_authorization_status_Other  ...  \\\n",
            "3                               False  ...   \n",
            "5                               False  ...   \n",
            "10                               True  ...   \n",
            "22                              False  ...   \n",
            "43                              False  ...   \n",
            "...                               ...  ...   \n",
            "2511                            False  ...   \n",
            "2515                            False  ...   \n",
            "2518                            False  ...   \n",
            "2521                            False  ...   \n",
            "2539                            False  ...   \n",
            "\n",
            "      biggest_challenge_in_search_Technical skills  \\\n",
            "3                                            False   \n",
            "5                                            False   \n",
            "10                                           False   \n",
            "22                                           False   \n",
            "43                                           False   \n",
            "...                                            ...   \n",
            "2511                                         False   \n",
            "2515                                         False   \n",
            "2518                                         False   \n",
            "2521                                         False   \n",
            "2539                                         False   \n",
            "\n",
            "      professional_experience_1-2 years  professional_experience_3-4 years  \\\n",
            "3                                 False                              False   \n",
            "5                                 False                               True   \n",
            "10                                 True                              False   \n",
            "22                                 True                              False   \n",
            "43                                False                               True   \n",
            "...                                 ...                                ...   \n",
            "2511                               True                              False   \n",
            "2515                              False                               True   \n",
            "2518                              False                              False   \n",
            "2521                               True                              False   \n",
            "2539                              False                              False   \n",
            "\n",
            "      professional_experience_5+ years  \\\n",
            "3                                False   \n",
            "5                                False   \n",
            "10                               False   \n",
            "22                               False   \n",
            "43                               False   \n",
            "...                                ...   \n",
            "2511                             False   \n",
            "2515                             False   \n",
            "2518                             False   \n",
            "2521                             False   \n",
            "2539                              True   \n",
            "\n",
            "      professional_experience_Less than one year  \\\n",
            "3                                           True   \n",
            "5                                          False   \n",
            "10                                         False   \n",
            "22                                         False   \n",
            "43                                         False   \n",
            "...                                          ...   \n",
            "2511                                       False   \n",
            "2515                                       False   \n",
            "2518                                        True   \n",
            "2521                                       False   \n",
            "2539                                       False   \n",
            "\n",
            "      employment_status_Contractor  employment_status_Employed Full-Time  \\\n",
            "3                             True                                 False   \n",
            "5                            False                                  True   \n",
            "10                           False                                 False   \n",
            "22                            True                                 False   \n",
            "43                           False                                 False   \n",
            "...                            ...                                   ...   \n",
            "2511                         False                                  True   \n",
            "2515                          True                                 False   \n",
            "2518                         False                                 False   \n",
            "2521                         False                                 False   \n",
            "2539                          True                                 False   \n",
            "\n",
            "      employment_status_Employed Part-Time  employment_status_Student  \\\n",
            "3                                    False                      False   \n",
            "5                                    False                      False   \n",
            "10                                   False                      False   \n",
            "22                                   False                      False   \n",
            "43                                   False                      False   \n",
            "...                                    ...                        ...   \n",
            "2511                                 False                      False   \n",
            "2515                                 False                      False   \n",
            "2518                                 False                       True   \n",
            "2521                                  True                      False   \n",
            "2539                                 False                      False   \n",
            "\n",
            "      employment_status_Unemployed  \n",
            "3                            False  \n",
            "5                            False  \n",
            "10                            True  \n",
            "22                           False  \n",
            "43                            True  \n",
            "...                            ...  \n",
            "2511                         False  \n",
            "2515                         False  \n",
            "2518                         False  \n",
            "2521                         False  \n",
            "2539                         False  \n",
            "\n",
            "[418 rows x 61 columns]\n"
          ]
        }
      ]
    },
    {
      "cell_type": "code",
      "source": [
        "from sklearn import linear_model\n",
        "regr = linear_model.LinearRegression()\n",
        "train_x = np.asanyarray(train[['program_duration_days']])\n",
        "train_y = np.asanyarray(train[['placed']])\n",
        "regr.fit (train_x, train_y)\n",
        "print(regr)\n",
        "# The coefficients\n",
        "print ('Coefficients: ', regr.coef_)\n",
        "print ('Intercept: ',regr.intercept_)"
      ],
      "metadata": {
        "id": "JaHTm0_Eb5EO",
        "colab": {
          "base_uri": "https://localhost:8080/"
        },
        "outputId": "edab19ba-8a99-474e-d92b-c1a7e6763b59"
      },
      "execution_count": null,
      "outputs": [
        {
          "output_type": "stream",
          "name": "stdout",
          "text": [
            "LinearRegression()\n",
            "Coefficients:  [[0.00077868]]\n",
            "Intercept:  [0.38538608]\n"
          ]
        }
      ]
    },
    {
      "cell_type": "code",
      "source": [
        "plt.scatter(train['program_duration_days'], train['placed'],  color='blue')\n",
        "plt.plot(train_x, regr.coef_[0][0]*train_x + regr.intercept_[0], '-r')\n",
        "plt.xlabel(\"program_duration_days\")\n",
        "plt.ylabel(\"placed\")"
      ],
      "metadata": {
        "id": "LLVSryxncv-h",
        "colab": {
          "base_uri": "https://localhost:8080/",
          "height": 467
        },
        "outputId": "9e3e4dbf-81ea-4665-db52-b06913dfa424"
      },
      "execution_count": null,
      "outputs": [
        {
          "output_type": "execute_result",
          "data": {
            "text/plain": [
              "Text(0, 0.5, 'placed')"
            ]
          },
          "metadata": {},
          "execution_count": 38
        },
        {
          "output_type": "display_data",
          "data": {
            "text/plain": [
              "<Figure size 640x480 with 1 Axes>"
            ],
            "image/png": "[encoded data removed]"
          },
          "metadata": {}
        }
      ]
    },
    {
      "cell_type": "code",
      "source": [
        "from sklearn.metrics import r2_score\n",
        "\n",
        "test_x = np.asanyarray(test[['placed']])\n",
        "test_y = np.asanyarray(test[['program_duration_days']])\n",
        "test_y_ = regr.predict(test_x)\n",
        "\n",
        "print(\"Mean absolute error: %.2f\" % np.mean(np.absolute(test_y_ - test_y)))\n",
        "print(\"Residual sum of squares (MSE): %.2f\" % np.mean((test_y_ - test_y) ** 2))\n",
        "print(\"R2-score: %.2f\" % r2_score(test_y , test_y_) )"
      ],
      "metadata": {
        "id": "Y-C7bWh9gqSm",
        "colab": {
          "base_uri": "https://localhost:8080/"
        },
        "outputId": "23fc1731-22e6-4776-8ac9-519228b1ae7a"
      },
      "execution_count": null,
      "outputs": [
        {
          "output_type": "stream",
          "name": "stdout",
          "text": [
            "Mean absolute error: 138.74\n",
            "Residual sum of squares (MSE): 35548.93\n",
            "R2-score: -1.18\n"
          ]
        }
      ]
    },
    {
      "cell_type": "markdown",
      "source": [
        "##Method Mona Hatami"
      ],
      "metadata": {
        "id": "Xt828NFbcau_"
      }
    },
    {
      "cell_type": "code",
      "source": [
        "x_train, x_test, y_train, y_test = train_test_split(x, y , test_size=0.2, random_state=101)"
      ],
      "metadata": {
        "id": "4-NAM-Or3te2"
      },
      "execution_count": null,
      "outputs": []
    },
    {
      "cell_type": "code",
      "source": [
        "lr = LinearRegression()"
      ],
      "metadata": {
        "id": "qUDtMAHm3v_a"
      },
      "execution_count": null,
      "outputs": []
    },
    {
      "cell_type": "code",
      "source": [
        "lr.fit(x_train, y_train)"
      ],
      "metadata": {
        "colab": {
          "base_uri": "https://localhost:8080/",
          "height": 75
        },
        "id": "YO5oeHtp3xtN",
        "outputId": "e627e4fb-cdf2-4d34-fad7-3300b4232620"
      },
      "execution_count": null,
      "outputs": [
        {
          "output_type": "execute_result",
          "data": {
            "text/plain": [
              "LinearRegression()"
            ],
            "text/html": [
              "<style>#sk-container-id-1 {color: black;background-color: white;}#sk-container-id-1 pre{padding: 0;}#sk-container-id-1 div.sk-toggleable {background-color: white;}#sk-container-id-1 label.sk-toggleable__label {cursor: pointer;display: block;width: 100%;margin-bottom: 0;padding: 0.3em;box-sizing: border-box;text-align: center;}#sk-container-id-1 label.sk-toggleable__label-arrow:before {content: \"▸\";float: left;margin-right: 0.25em;color: #696969;}#sk-container-id-1 label.sk-toggleable__label-arrow:hover:before {color: black;}#sk-container-id-1 div.sk-estimator:hover label.sk-toggleable__label-arrow:before {color: black;}#sk-container-id-1 div.sk-toggleable__content {max-height: 0;max-width: 0;overflow: hidden;text-align: left;background-color: #f0f8ff;}#sk-container-id-1 div.sk-toggleable__content pre {margin: 0.2em;color: black;border-radius: 0.25em;background-color: #f0f8ff;}#sk-container-id-1 input.sk-toggleable__control:checked~div.sk-toggleable__content {max-height: 200px;max-width: 100%;overflow: auto;}#sk-container-id-1 input.sk-toggleable__control:checked~label.sk-toggleable__label-arrow:before {content: \"▾\";}#sk-container-id-1 div.sk-estimator input.sk-toggleable__control:checked~label.sk-toggleable__label {background-color: #d4ebff;}#sk-container-id-1 div.sk-label input.sk-toggleable__control:checked~label.sk-toggleable__label {background-color: #d4ebff;}#sk-container-id-1 input.sk-hidden--visually {border: 0;clip: rect(1px 1px 1px 1px);clip: rect(1px, 1px, 1px, 1px);height: 1px;margin: -1px;overflow: hidden;padding: 0;position: absolute;width: 1px;}#sk-container-id-1 div.sk-estimator {font-family: monospace;background-color: #f0f8ff;border: 1px dotted black;border-radius: 0.25em;box-sizing: border-box;margin-bottom: 0.5em;}#sk-container-id-1 div.sk-estimator:hover {background-color: #d4ebff;}#sk-container-id-1 div.sk-parallel-item::after {content: \"\";width: 100%;border-bottom: 1px solid gray;flex-grow: 1;}#sk-container-id-1 div.sk-label:hover label.sk-toggleable__label {background-color: #d4ebff;}#sk-container-id-1 div.sk-serial::before {content: \"\";position: absolute;border-left: 1px solid gray;box-sizing: border-box;top: 0;bottom: 0;left: 50%;z-index: 0;}#sk-container-id-1 div.sk-serial {display: flex;flex-direction: column;align-items: center;background-color: white;padding-right: 0.2em;padding-left: 0.2em;position: relative;}#sk-container-id-1 div.sk-item {position: relative;z-index: 1;}#sk-container-id-1 div.sk-parallel {display: flex;align-items: stretch;justify-content: center;background-color: white;position: relative;}#sk-container-id-1 div.sk-item::before, #sk-container-id-1 div.sk-parallel-item::before {content: \"\";position: absolute;border-left: 1px solid gray;box-sizing: border-box;top: 0;bottom: 0;left: 50%;z-index: -1;}#sk-container-id-1 div.sk-parallel-item {display: flex;flex-direction: column;z-index: 1;position: relative;background-color: white;}#sk-container-id-1 div.sk-parallel-item:first-child::after {align-self: flex-end;width: 50%;}#sk-container-id-1 div.sk-parallel-item:last-child::after {align-self: flex-start;width: 50%;}#sk-container-id-1 div.sk-parallel-item:only-child::after {width: 0;}#sk-container-id-1 div.sk-dashed-wrapped {border: 1px dashed gray;margin: 0 0.4em 0.5em 0.4em;box-sizing: border-box;padding-bottom: 0.4em;background-color: white;}#sk-container-id-1 div.sk-label label {font-family: monospace;font-weight: bold;display: inline-block;line-height: 1.2em;}#sk-container-id-1 div.sk-label-container {text-align: center;}#sk-container-id-1 div.sk-container {/* jupyter's `normalize.less` sets `[hidden] { display: none; }` but bootstrap.min.css set `[hidden] { display: none !important; }` so we also need the `!important` here to be able to override the default hidden behavior on the sphinx rendered scikit-learn.org. See: https://github.com/scikit-learn/scikit-learn/issues/21755 */display: inline-block !important;position: relative;}#sk-container-id-1 div.sk-text-repr-fallback {display: none;}</style><div id=\"sk-container-id-1\" class=\"sk-top-container\"><div class=\"sk-text-repr-fallback\"><pre>LinearRegression()</pre><b>In a Jupyter environment, please rerun this cell to show the HTML representation or trust the notebook. <br />On GitHub, the HTML representation is unable to render, please try loading this page with nbviewer.org.</b></div><div class=\"sk-container\" hidden><div class=\"sk-item\"><div class=\"sk-estimator sk-toggleable\"><input class=\"sk-toggleable__control sk-hidden--visually\" id=\"sk-estimator-id-1\" type=\"checkbox\" checked><label for=\"sk-estimator-id-1\" class=\"sk-toggleable__label sk-toggleable__label-arrow\">LinearRegression</label><div class=\"sk-toggleable__content\"><pre>LinearRegression()</pre></div></div></div></div></div>"
            ]
          },
          "metadata": {},
          "execution_count": 42
        }
      ]
    },
    {
      "cell_type": "code",
      "source": [
        "# print the intercept(b0)\n",
        "print(lr.intercept_)"
      ],
      "metadata": {
        "colab": {
          "base_uri": "https://localhost:8080/"
        },
        "id": "OLDpcOj_30IY",
        "outputId": "841a6632-0866-4128-da05-07db48660642"
      },
      "execution_count": null,
      "outputs": [
        {
          "output_type": "stream",
          "name": "stdout",
          "text": [
            "[4.03834557e+15 3.72535934e+13]\n"
          ]
        }
      ]
    },
    {
      "cell_type": "code",
      "source": [
        "# print the coefficients(b1, b2, ...)\n",
        "print(lr.coef_)"
      ],
      "metadata": {
        "id": "LwoaFHR-4CW2",
        "colab": {
          "base_uri": "https://localhost:8080/"
        },
        "outputId": "10f652b7-d61b-4f3d-84c9-32a25a1156ea"
      },
      "execution_count": null,
      "outputs": [
        {
          "output_type": "stream",
          "name": "stdout",
          "text": [
            "[[-2.52507858e+14 -2.52507858e+14 -2.52507858e+14 -2.52507858e+14\n",
            "  -2.52507858e+14 -2.52507858e+14 -2.52507858e+14 -2.52507858e+14\n",
            "  -2.52507858e+14  7.45725141e+14  7.45725141e+14  7.45725141e+14\n",
            "   7.45725141e+14  7.45725141e+14  7.45725141e+14  7.45725141e+14\n",
            "   9.46671947e+15  9.46671947e+15  9.46671947e+15  9.46671947e+15\n",
            "   2.14249900e+15  2.14249900e+15  2.14249900e+15  2.14249900e+15\n",
            "   2.14249900e+15  2.14249900e+15  2.14249900e+15  2.14249900e+15\n",
            "   2.14249900e+15 -4.64602329e+15 -4.64602329e+15 -4.64602329e+15\n",
            "  -4.64602329e+15 -4.64602329e+15 -4.64602329e+15 -3.82801070e+15\n",
            "  -3.82801070e+15 -3.82801070e+15 -3.82801070e+15 -3.82801070e+15\n",
            "  -8.61027879e+15 -8.61027879e+15 -8.61027879e+15 -8.61027879e+15\n",
            "  -8.61027879e+15 -8.61027879e+15 -8.61027879e+15 -8.61027879e+15\n",
            "  -8.61027879e+15 -8.61027879e+15  2.38031658e+15  2.38031658e+15\n",
            "   2.38031658e+15  2.38031658e+15 -1.43678513e+15 -1.43678513e+15\n",
            "  -1.43678513e+15 -1.43678513e+15 -1.43678513e+15]\n",
            " [ 7.26579461e+12  7.26579461e+12  7.26579461e+12  7.26579461e+12\n",
            "   7.26579461e+12  7.26579461e+12  7.26579461e+12  7.26579461e+12\n",
            "   7.26579461e+12 -5.29037330e+11 -5.29037330e+11 -5.29037330e+11\n",
            "  -5.29037330e+11 -5.29037330e+11 -5.29037330e+11 -5.29037330e+11\n",
            "   7.63239111e+12  7.63239111e+12  7.63239111e+12  7.63239111e+12\n",
            "   4.59798623e+12  4.59798623e+12  4.59798623e+12  4.59798623e+12\n",
            "   4.59798623e+12  4.59798623e+12  4.59798623e+12  4.59798623e+12\n",
            "   4.59798623e+12 -2.94463406e+13 -2.94463406e+13 -2.94463406e+13\n",
            "  -2.94463406e+13 -2.94463406e+13 -2.94463406e+13  5.92446749e+11\n",
            "   5.92446749e+11  5.92446749e+11  5.92446749e+11  5.92446749e+11\n",
            "   6.20146743e+12  6.20146743e+12  6.20146743e+12  6.20146743e+12\n",
            "   6.20146743e+12  6.20146743e+12  6.20146743e+12  6.20146743e+12\n",
            "   6.20146743e+12  6.20146743e+12 -2.66818247e+13 -2.66818247e+13\n",
            "  -2.66818247e+13 -2.66818247e+13 -6.88647688e+12 -6.88647688e+12\n",
            "  -6.88647688e+12 -6.88647688e+12 -6.88647688e+12]]\n"
          ]
        }
      ]
    },
    {
      "cell_type": "code",
      "source": [
        "# Prediction\n",
        "prediction= lr.predict(x_test)\n",
        "prediction"
      ],
      "metadata": {
        "id": "LkeGo5iu4Ls8",
        "colab": {
          "base_uri": "https://localhost:8080/"
        },
        "outputId": "46903b7c-4c42-41ba-fe0b-46f7f45941bb"
      },
      "execution_count": null,
      "outputs": [
        {
          "output_type": "execute_result",
          "data": {
            "text/plain": [
              "array([[ 1.395000e+02,  5.781250e-01],\n",
              "       [ 1.325000e+02,  7.187500e-01],\n",
              "       [ 1.105000e+02,  5.000000e-01],\n",
              "       [ 1.415000e+02,  5.859375e-01],\n",
              "       [ 1.795000e+02,  6.250000e-01],\n",
              "       [ 1.700000e+02,  2.578125e-01],\n",
              "       [ 1.500000e+02,  6.015625e-01],\n",
              "       [ 1.525000e+02,  4.062500e-01],\n",
              "       [ 1.375000e+02,  5.937500e-01],\n",
              "       [ 8.150000e+01,  5.312500e-01],\n",
              "       [ 1.540000e+02,  5.468750e-01],\n",
              "       [ 1.265000e+02,  4.843750e-01],\n",
              "       [ 9.750000e+01,  4.687500e-01],\n",
              "       [ 1.455000e+02,  5.859375e-01],\n",
              "       [ 1.565000e+02,  5.859375e-01],\n",
              "       [ 1.195000e+02,  6.171875e-01],\n",
              "       [ 1.475000e+02,  5.156250e-01],\n",
              "       [ 1.605000e+02,  1.562500e-02],\n",
              "       [ 1.415000e+02,  6.250000e-01],\n",
              "       [ 1.205000e+02,  4.531250e-01],\n",
              "       [ 1.215000e+02,  6.171875e-01],\n",
              "       [ 6.450000e+01,  3.046875e-01],\n",
              "       [ 1.475000e+02,  7.578125e-01],\n",
              "       [ 1.705000e+02,  6.328125e-01],\n",
              "       [ 1.660000e+02,  5.937500e-01],\n",
              "       [ 8.200000e+01,  4.531250e-01],\n",
              "       [ 1.510000e+02,  5.703125e-01],\n",
              "       [ 2.220000e+02,  4.765625e-01],\n",
              "       [ 1.425000e+02,  7.031250e-01],\n",
              "       [ 6.300000e+01,  3.828125e-01],\n",
              "       [ 1.965000e+02,  9.218750e-01],\n",
              "       [ 1.425000e+02,  4.921875e-01],\n",
              "       [ 1.205000e+02,  3.046875e-01],\n",
              "       [ 1.235000e+02,  4.531250e-01],\n",
              "       [ 1.290000e+02,  5.156250e-01],\n",
              "       [ 1.395000e+02,  4.609375e-01],\n",
              "       [ 1.695000e+02,  5.468750e-01],\n",
              "       [ 6.600000e+01,  3.046875e-01],\n",
              "       [ 1.350000e+02,  5.156250e-01],\n",
              "       [ 1.315000e+02,  7.500000e-01],\n",
              "       [ 2.120000e+02,  4.609375e-01],\n",
              "       [ 1.545000e+02,  5.312500e-01],\n",
              "       [ 1.065000e+02,  4.062500e-01],\n",
              "       [ 1.145000e+02,  4.453125e-01],\n",
              "       [ 1.540000e+02,  5.390625e-01],\n",
              "       [ 1.705000e+02,  5.781250e-01],\n",
              "       [ 1.455000e+02,  4.062500e-01],\n",
              "       [ 1.265000e+02,  5.546875e-01],\n",
              "       [ 6.350000e+01,  5.156250e-01],\n",
              "       [ 1.205000e+02,  5.156250e-01],\n",
              "       [ 1.635000e+02,  5.859375e-01],\n",
              "       [ 1.755000e+02,  5.625000e-01],\n",
              "       [ 1.345000e+02,  6.250000e-01],\n",
              "       [ 1.435000e+02,  4.531250e-01],\n",
              "       [ 1.605000e+02,  3.828125e-01],\n",
              "       [ 2.950000e+01,  2.109375e-01],\n",
              "       [-7.750000e+01,  8.203125e-01],\n",
              "       [ 1.885000e+02,  6.250000e-01],\n",
              "       [ 9.750000e+01,  4.843750e-01],\n",
              "       [ 1.585000e+02,  4.453125e-01],\n",
              "       [ 1.295000e+02,  3.593750e-01],\n",
              "       [ 9.550000e+01,  5.156250e-01],\n",
              "       [ 1.225000e+02,  6.093750e-01],\n",
              "       [ 1.515000e+02,  6.250000e-01],\n",
              "       [ 1.105000e+02,  3.750000e-01],\n",
              "       [ 1.145000e+02,  6.328125e-01],\n",
              "       [ 1.515000e+02,  5.937500e-01],\n",
              "       [ 1.800000e+02,  3.750000e-01],\n",
              "       [ 1.665000e+02,  2.656250e-01],\n",
              "       [ 1.505000e+02,  4.687500e-01],\n",
              "       [ 1.415000e+02,  4.843750e-01],\n",
              "       [ 1.290000e+02,  6.875000e-01],\n",
              "       [ 1.285000e+02,  5.390625e-01],\n",
              "       [ 9.250000e+01,  5.781250e-01],\n",
              "       [ 1.700000e+02,  4.921875e-01],\n",
              "       [ 1.365000e+02,  5.625000e-01],\n",
              "       [ 1.375000e+02,  6.250000e-01],\n",
              "       [ 1.455000e+02,  6.093750e-01],\n",
              "       [ 1.480000e+02,  5.312500e-01],\n",
              "       [ 1.610000e+02,  5.546875e-01],\n",
              "       [ 1.255000e+02,  6.250000e-01],\n",
              "       [ 1.705000e+02,  6.406250e-01],\n",
              "       [ 1.935000e+02,  6.328125e-01],\n",
              "       [ 1.415000e+02,  5.078125e-01],\n",
              "       [ 1.195000e+02,  4.375000e-01],\n",
              "       [ 7.850000e+01,  3.671875e-01],\n",
              "       [ 1.630000e+02,  3.906250e-01],\n",
              "       [ 1.530000e+02,  5.312500e-01],\n",
              "       [ 1.765000e+02,  2.890625e-01],\n",
              "       [ 1.075000e+02,  5.156250e-01],\n",
              "       [ 1.670000e+02,  4.453125e-01],\n",
              "       [ 1.515000e+02,  5.468750e-01],\n",
              "       [ 1.860000e+02,  5.468750e-01],\n",
              "       [ 1.965000e+02,  4.296875e-01],\n",
              "       [ 1.220000e+02,  5.078125e-01],\n",
              "       [ 1.535000e+02,  5.859375e-01],\n",
              "       [ 1.085000e+02,  4.687500e-01],\n",
              "       [ 1.860000e+02,  4.062500e-01],\n",
              "       [ 1.595000e+02,  2.968750e-01],\n",
              "       [ 1.465000e+02,  5.000000e-01],\n",
              "       [ 1.385000e+02,  5.078125e-01],\n",
              "       [ 1.255000e+02,  6.640625e-01],\n",
              "       [ 1.375000e+02,  5.781250e-01],\n",
              "       [ 1.415000e+02,  4.531250e-01],\n",
              "       [ 1.035000e+02,  5.468750e-01],\n",
              "       [ 1.495000e+02,  4.218750e-01],\n",
              "       [ 1.275000e+02,  4.765625e-01],\n",
              "       [ 1.195000e+02,  5.156250e-01],\n",
              "       [ 1.075000e+02,  3.671875e-01],\n",
              "       [ 1.255000e+02,  3.906250e-01],\n",
              "       [ 9.000000e+01,  4.531250e-01],\n",
              "       [ 1.230000e+02,  4.921875e-01],\n",
              "       [ 1.305000e+02,  5.546875e-01],\n",
              "       [ 1.555000e+02,  2.656250e-01],\n",
              "       [ 1.165000e+02,  3.593750e-01],\n",
              "       [ 1.155000e+02,  3.203125e-01],\n",
              "       [ 2.035000e+02,  8.750000e-01],\n",
              "       [ 1.305000e+02,  5.859375e-01],\n",
              "       [ 1.465000e+02,  5.781250e-01],\n",
              "       [ 5.750000e+01,  3.281250e-01],\n",
              "       [ 1.455000e+02,  6.562500e-01],\n",
              "       [ 1.595000e+02,  5.781250e-01],\n",
              "       [ 1.000000e+02,  5.234375e-01],\n",
              "       [ 1.820000e+02,  3.125000e-01],\n",
              "       [ 1.880000e+02,  5.234375e-01],\n",
              "       [ 1.475000e+02,  6.015625e-01],\n",
              "       [ 1.235000e+02,  6.015625e-01],\n",
              "       [ 9.150000e+01,  5.937500e-01],\n",
              "       [ 1.760000e+02,  4.921875e-01],\n",
              "       [ 2.165000e+02,  7.031250e-02],\n",
              "       [ 1.415000e+02,  6.875000e-01],\n",
              "       [ 1.315000e+02,  6.250000e-01],\n",
              "       [ 1.900000e+02,  5.390625e-01],\n",
              "       [ 1.295000e+02,  2.968750e-01],\n",
              "       [ 1.165000e+02,  4.062500e-01],\n",
              "       [ 1.765000e+02,  5.390625e-01],\n",
              "       [ 1.195000e+02,  4.140625e-01],\n",
              "       [ 1.635000e+02,  6.093750e-01],\n",
              "       [ 1.495000e+02,  4.843750e-01],\n",
              "       [ 1.135000e+02,  5.937500e-01],\n",
              "       [ 1.750000e+02,  5.546875e-01],\n",
              "       [ 1.475000e+02,  6.250000e-01],\n",
              "       [ 1.615000e+02,  5.859375e-01],\n",
              "       [ 2.155000e+02,  2.656250e-01],\n",
              "       [ 1.395000e+02,  5.703125e-01],\n",
              "       [ 1.235000e+02,  5.625000e-01],\n",
              "       [ 1.065000e+02,  4.843750e-01],\n",
              "       [ 1.430000e+02,  5.546875e-01],\n",
              "       [ 6.350000e+01,  3.437500e-01],\n",
              "       [ 1.245000e+02,  4.531250e-01],\n",
              "       [ 1.465000e+02,  5.703125e-01],\n",
              "       [ 1.855000e+02,  5.468750e-01],\n",
              "       [ 1.395000e+02,  6.015625e-01],\n",
              "       [ 9.950000e+01,  4.765625e-01],\n",
              "       [ 1.645000e+02,  4.609375e-01],\n",
              "       [ 1.235000e+02,  4.531250e-01],\n",
              "       [ 1.665000e+02,  6.171875e-01],\n",
              "       [ 1.085000e+02,  2.734375e-01],\n",
              "       [ 1.645000e+02,  2.968750e-01],\n",
              "       [ 1.635000e+02,  5.703125e-01],\n",
              "       [ 3.750000e+01,  3.750000e-01],\n",
              "       [ 1.315000e+02,  5.703125e-01],\n",
              "       [ 1.230000e+02,  2.187500e-01],\n",
              "       [ 1.465000e+02,  7.656250e-01],\n",
              "       [ 1.595000e+02,  6.093750e-01],\n",
              "       [ 1.505000e+02,  5.234375e-01],\n",
              "       [ 7.950000e+01,  4.765625e-01],\n",
              "       [ 1.520000e+02,  5.390625e-01],\n",
              "       [ 1.465000e+02,  3.515625e-01],\n",
              "       [ 1.880000e+02,  4.296875e-01],\n",
              "       [ 1.665000e+02,  6.328125e-01],\n",
              "       [ 1.125000e+02,  4.296875e-01],\n",
              "       [ 1.155000e+02,  5.468750e-01],\n",
              "       [ 1.485000e+02,  6.093750e-01],\n",
              "       [ 1.585000e+02,  5.937500e-01],\n",
              "       [ 1.325000e+02,  3.671875e-01],\n",
              "       [ 1.485000e+02,  4.375000e-01],\n",
              "       [ 1.645000e+02,  5.625000e-01],\n",
              "       [ 6.750000e+01,  5.000000e-01],\n",
              "       [ 1.015000e+02,  2.812500e-01],\n",
              "       [ 1.435000e+02,  4.531250e-01],\n",
              "       [ 1.475000e+02,  6.562500e-01],\n",
              "       [ 2.040000e+02,  4.765625e-01],\n",
              "       [ 1.640000e+02,  5.156250e-01],\n",
              "       [ 1.335000e+02,  5.625000e-01],\n",
              "       [ 1.575000e+02,  5.546875e-01],\n",
              "       [ 1.935000e+02,  5.937500e-01],\n",
              "       [ 1.775000e+02,  3.125000e-01],\n",
              "       [ 8.750000e+01,  5.156250e-01],\n",
              "       [ 1.565000e+02,  6.093750e-01],\n",
              "       [ 1.215000e+02,  4.921875e-01],\n",
              "       [ 1.455000e+02,  6.250000e-01],\n",
              "       [ 1.365000e+02,  7.734375e-01],\n",
              "       [ 1.385000e+02,  4.765625e-01],\n",
              "       [ 1.455000e+02,  4.062500e-01],\n",
              "       [ 1.625000e+02,  7.109375e-01],\n",
              "       [ 1.355000e+02,  5.781250e-01],\n",
              "       [ 1.600000e+02,  3.593750e-01],\n",
              "       [ 1.020000e+02,  2.265625e-01],\n",
              "       [ 1.485000e+02,  5.000000e-01],\n",
              "       [ 7.750000e+01,  4.218750e-01],\n",
              "       [ 9.650000e+01,  5.000000e-01],\n",
              "       [ 1.185000e+02,  5.234375e-01],\n",
              "       [ 1.575000e+02,  5.937500e-01],\n",
              "       [ 1.715000e+02,  4.765625e-01],\n",
              "       [ 1.305000e+02,  4.375000e-01],\n",
              "       [ 1.130000e+02,  1.093750e-01],\n",
              "       [ 1.375000e+02,  6.718750e-01],\n",
              "       [ 1.135000e+02,  2.890625e-01],\n",
              "       [ 1.375000e+02,  5.781250e-01],\n",
              "       [ 1.190000e+02,  5.000000e-01],\n",
              "       [ 1.505000e+02,  5.546875e-01],\n",
              "       [ 1.760000e+02,  5.390625e-01],\n",
              "       [ 1.535000e+02,  6.406250e-01],\n",
              "       [ 1.445000e+02,  3.281250e-01],\n",
              "       [ 1.620000e+02,  2.812500e-01],\n",
              "       [ 8.450000e+01,  3.281250e-01],\n",
              "       [ 1.415000e+02,  3.984375e-01],\n",
              "       [ 1.425000e+02,  5.625000e-01],\n",
              "       [ 1.265000e+02,  6.093750e-01],\n",
              "       [ 1.685000e+02,  4.687500e-01],\n",
              "       [ 1.035000e+02,  4.687500e-01],\n",
              "       [ 1.370000e+02,  4.609375e-01],\n",
              "       [ 1.780000e+02,  4.218750e-01],\n",
              "       [ 1.965000e+02,  4.140625e-01],\n",
              "       [ 1.635000e+02,  3.750000e-01],\n",
              "       [ 1.055000e+02,  4.531250e-01],\n",
              "       [ 1.355000e+02,  4.375000e-01],\n",
              "       [ 1.505000e+02,  5.546875e-01],\n",
              "       [ 1.585000e+02,  6.640625e-01],\n",
              "       [ 1.480000e+02,  5.468750e-01],\n",
              "       [ 1.550000e+02,  5.625000e-01],\n",
              "       [ 1.225000e+02,  6.406250e-01],\n",
              "       [ 1.635000e+02,  1.796875e-01],\n",
              "       [ 9.050000e+01,  1.953125e-01],\n",
              "       [ 1.815000e+02,  4.765625e-01],\n",
              "       [ 1.915000e+02,  4.921875e-01],\n",
              "       [ 7.750000e+01,  5.156250e-01],\n",
              "       [ 1.325000e+02,  6.250000e-01],\n",
              "       [ 1.115000e+02,  4.531250e-01],\n",
              "       [ 1.555000e+02,  3.671875e-01],\n",
              "       [ 1.205000e+02,  5.390625e-01],\n",
              "       [ 1.335000e+02,  5.312500e-01],\n",
              "       [ 1.345000e+02,  6.250000e-01],\n",
              "       [ 1.245000e+02,  5.078125e-01],\n",
              "       [ 9.450000e+01,  5.312500e-01],\n",
              "       [ 1.325000e+02,  3.281250e-01],\n",
              "       [ 1.430000e+02,  5.000000e-01],\n",
              "       [ 1.800000e+02,  4.765625e-01],\n",
              "       [ 1.580000e+02,  4.843750e-01],\n",
              "       [ 7.350000e+01,  3.515625e-01],\n",
              "       [ 1.585000e+02,  5.859375e-01],\n",
              "       [ 9.900000e+01,  4.843750e-01],\n",
              "       [ 1.960000e+02,  5.390625e-01],\n",
              "       [ 8.550000e+01,  4.921875e-01],\n",
              "       [ 1.525000e+02,  6.406250e-01],\n",
              "       [ 1.555000e+02,  5.781250e-01],\n",
              "       [ 1.620000e+02,  5.703125e-01],\n",
              "       [ 1.340000e+02,  4.531250e-01],\n",
              "       [ 1.435000e+02,  5.156250e-01],\n",
              "       [ 1.495000e+02,  5.703125e-01],\n",
              "       [ 1.575000e+02,  5.703125e-01],\n",
              "       [ 1.815000e+02,  3.984375e-01],\n",
              "       [ 1.265000e+02,  7.343750e-01],\n",
              "       [ 1.155000e+02,  5.234375e-01],\n",
              "       [ 1.485000e+02,  5.312500e-01],\n",
              "       [ 1.625000e+02,  6.328125e-01],\n",
              "       [ 1.620000e+02,  5.312500e-01],\n",
              "       [ 9.350000e+01,  5.156250e-01],\n",
              "       [ 1.425000e+02,  4.062500e-01],\n",
              "       [ 9.800000e+01,  4.609375e-01],\n",
              "       [ 1.165000e+02,  5.781250e-01],\n",
              "       [ 1.685000e+02,  4.921875e-01],\n",
              "       [ 9.850000e+01,  4.531250e-01],\n",
              "       [ 1.400000e+02,  5.234375e-01],\n",
              "       [ 1.255000e+02,  3.437500e-01],\n",
              "       [ 7.850000e+01,  5.468750e-01],\n",
              "       [ 1.365000e+02,  6.250000e-01],\n",
              "       [ 1.635000e+02,  6.796875e-01],\n",
              "       [ 1.225000e+02,  5.234375e-01],\n",
              "       [ 1.395000e+02,  4.296875e-01],\n",
              "       [ 9.800000e+01,  4.140625e-01],\n",
              "       [ 1.655000e+02,  5.937500e-01],\n",
              "       [ 1.135000e+02,  4.375000e-01],\n",
              "       [ 1.325000e+02,  4.609375e-01],\n",
              "       [ 1.340000e+02,  3.359375e-01],\n",
              "       [ 1.545000e+02,  5.703125e-01],\n",
              "       [ 1.495000e+02,  5.703125e-01],\n",
              "       [ 1.295000e+02,  5.781250e-01],\n",
              "       [ 1.695000e+02,  5.078125e-01],\n",
              "       [ 1.465000e+02,  5.703125e-01],\n",
              "       [ 1.305000e+02,  5.781250e-01],\n",
              "       [ 1.295000e+02,  5.000000e-01],\n",
              "       [ 1.635000e+02,  5.078125e-01],\n",
              "       [ 1.140000e+02,  6.250000e-01],\n",
              "       [ 1.395000e+02,  5.937500e-01],\n",
              "       [ 9.850000e+01,  5.312500e-01],\n",
              "       [ 1.155000e+02,  4.687500e-01],\n",
              "       [ 1.375000e+02,  5.781250e-01],\n",
              "       [ 1.095000e+02,  4.765625e-01],\n",
              "       [ 1.700000e+02,  5.390625e-01],\n",
              "       [ 7.850000e+01,  4.531250e-01],\n",
              "       [ 1.575000e+02,  6.250000e-01],\n",
              "       [ 1.595000e+02,  5.078125e-01],\n",
              "       [ 1.345000e+02,  4.218750e-01],\n",
              "       [ 1.225000e+02,  4.921875e-01],\n",
              "       [ 1.365000e+02,  4.687500e-01],\n",
              "       [ 1.615000e+02,  5.781250e-01],\n",
              "       [ 1.495000e+02,  5.625000e-01],\n",
              "       [-1.165000e+02,  5.546875e-01],\n",
              "       [ 1.235000e+02,  2.812500e-01],\n",
              "       [ 1.065000e+02,  3.593750e-01],\n",
              "       [ 1.675000e+02,  4.218750e-01],\n",
              "       [ 1.315000e+02,  6.250000e-01],\n",
              "       [ 1.325000e+02,  5.312500e-01],\n",
              "       [ 6.550000e+01,  3.593750e-01],\n",
              "       [ 1.115000e+02,  2.656250e-01],\n",
              "       [ 1.245000e+02,  7.890625e-01],\n",
              "       [ 1.670000e+02,  3.593750e-01],\n",
              "       [ 1.145000e+02,  4.687500e-01],\n",
              "       [ 1.155000e+02,  4.140625e-01],\n",
              "       [ 1.345000e+02,  6.562500e-01],\n",
              "       [ 1.475000e+02,  6.093750e-01],\n",
              "       [ 1.260000e+02,  2.812500e-01],\n",
              "       [ 1.425000e+02,  6.093750e-01],\n",
              "       [ 1.095000e+02,  5.468750e-01],\n",
              "       [ 1.645000e+02,  5.625000e-01],\n",
              "       [ 1.405000e+02,  6.406250e-01],\n",
              "       [ 1.410000e+02,  2.812500e-01],\n",
              "       [ 1.760000e+02,  4.609375e-01],\n",
              "       [ 1.295000e+02,  5.000000e-01],\n",
              "       [ 1.405000e+02,  5.000000e-01],\n",
              "       [ 1.915000e+02,  7.812500e-03],\n",
              "       [ 1.455000e+02,  4.375000e-01],\n",
              "       [ 1.585000e+02,  5.156250e-01],\n",
              "       [ 1.315000e+02,  5.625000e-01],\n",
              "       [ 1.545000e+02,  3.671875e-01],\n",
              "       [ 1.425000e+02,  5.390625e-01],\n",
              "       [ 1.670000e+02,  6.015625e-01],\n",
              "       [ 1.055000e+02,  5.781250e-01],\n",
              "       [ 9.050000e+01,  4.453125e-01],\n",
              "       [ 1.515000e+02,  4.531250e-01],\n",
              "       [ 1.295000e+02,  6.171875e-01],\n",
              "       [ 1.750000e+02,  4.062500e-01],\n",
              "       [ 1.535000e+02,  3.437500e-01],\n",
              "       [ 1.355000e+02,  5.703125e-01],\n",
              "       [ 1.355000e+02,  5.312500e-01],\n",
              "       [ 1.715000e+02,  5.156250e-01],\n",
              "       [ 8.650000e+01,  3.750000e-01],\n",
              "       [ 1.345000e+02,  4.765625e-01],\n",
              "       [ 1.415000e+02,  5.781250e-01],\n",
              "       [ 6.150000e+01,  2.656250e-01],\n",
              "       [ 1.505000e+02,  6.093750e-01],\n",
              "       [ 1.545000e+02,  5.859375e-01],\n",
              "       [ 1.705000e+02,  6.171875e-01],\n",
              "       [ 1.890000e+02,  5.234375e-01],\n",
              "       [ 1.735000e+02,  5.000000e-01],\n",
              "       [ 1.985000e+02,  5.156250e-01],\n",
              "       [ 1.385000e+02,  6.250000e-01],\n",
              "       [ 1.375000e+02,  5.468750e-01],\n",
              "       [ 6.550000e+01,  2.734375e-01],\n",
              "       [ 1.625000e+02,  3.281250e-01],\n",
              "       [ 2.145000e+02,  7.187500e-01],\n",
              "       [ 1.455000e+02,  3.593750e-01],\n",
              "       [ 1.800000e+02,  5.156250e-01],\n",
              "       [ 1.235000e+02,  6.406250e-01],\n",
              "       [ 1.095000e+02,  4.375000e-01],\n",
              "       [ 1.695000e+02,  3.281250e-01],\n",
              "       [ 1.585000e+02,  5.546875e-01],\n",
              "       [ 1.415000e+02,  4.218750e-01],\n",
              "       [ 1.655000e+02,  6.171875e-01],\n",
              "       [ 1.620000e+02,  5.312500e-01],\n",
              "       [ 1.075000e+02,  3.515625e-01],\n",
              "       [ 8.450000e+01,  5.625000e-01],\n",
              "       [ 1.055000e+02,  2.968750e-01],\n",
              "       [ 1.455000e+02,  5.625000e-01],\n",
              "       [ 1.695000e+02,  5.625000e-01],\n",
              "       [ 1.295000e+02,  6.250000e-01],\n",
              "       [ 1.565000e+02,  5.156250e-01],\n",
              "       [ 1.155000e+02,  6.250000e-01],\n",
              "       [ 1.445000e+02,  5.468750e-01],\n",
              "       [ 1.345000e+02,  5.078125e-01],\n",
              "       [ 1.455000e+02,  5.625000e-01],\n",
              "       [ 1.820000e+02,  5.468750e-01],\n",
              "       [ 1.610000e+02,  2.890625e-01],\n",
              "       [ 1.675000e+02,  4.843750e-01]])"
            ]
          },
          "metadata": {},
          "execution_count": 45
        }
      ]
    },
    {
      "cell_type": "code",
      "source": [
        "residual = y_test - prediction\n"
      ],
      "metadata": {
        "id": "NUsLkzqZ4vm5"
      },
      "execution_count": null,
      "outputs": []
    },
    {
      "cell_type": "code",
      "source": [
        "residual"
      ],
      "metadata": {
        "id": "jurOEKtV5CCK",
        "colab": {
          "base_uri": "https://localhost:8080/",
          "height": 424
        },
        "outputId": "7974d4b4-edaa-4b2c-e548-70acefc5b70d"
      },
      "execution_count": null,
      "outputs": [
        {
          "output_type": "execute_result",
          "data": {
            "text/plain": [
              "      program_duration_days    placed\n",
              "2339                  -48.5 -0.578125\n",
              "76                     10.5  0.281250\n",
              "1087                  -98.5 -0.500000\n",
              "1975                 -141.5 -0.585938\n",
              "82                     53.5 -0.625000\n",
              "...                     ...       ...\n",
              "1170                   10.5  0.492188\n",
              "243                   108.5 -0.562500\n",
              "203                   -32.0  0.453125\n",
              "9                    -148.0 -0.289062\n",
              "1106                 -167.5 -0.484375\n",
              "\n",
              "[386 rows x 2 columns]"
            ],
            "text/html": [
              "\n",
              "  <div id=\"df-dbe92bd5-2367-4c4d-b0f2-8b54cfbfd340\" class=\"colab-df-container\">\n",
              "    <div>\n",
              "<style scoped>\n",
              "    .dataframe tbody tr th:only-of-type {\n",
              "        vertical-align: middle;\n",
              "    }\n",
              "\n",
              "    .dataframe tbody tr th {\n",
              "        vertical-align: top;\n",
              "    }\n",
              "\n",
              "    .dataframe thead th {\n",
              "        text-align: right;\n",
              "    }\n",
              "</style>\n",
              "<table border=\"1\" class=\"dataframe\">\n",
              "  <thead>\n",
              "    <tr style=\"text-align: right;\">\n",
              "      <th></th>\n",
              "      <th>program_duration_days</th>\n",
              "      <th>placed</th>\n",
              "    </tr>\n",
              "  </thead>\n",
              "  <tbody>\n",
              "    <tr>\n",
              "      <th>2339</th>\n",
              "      <td>-48.5</td>\n",
              "      <td>-0.578125</td>\n",
              "    </tr>\n",
              "    <tr>\n",
              "      <th>76</th>\n",
              "      <td>10.5</td>\n",
              "      <td>0.281250</td>\n",
              "    </tr>\n",
              "    <tr>\n",
              "      <th>1087</th>\n",
              "      <td>-98.5</td>\n",
              "      <td>-0.500000</td>\n",
              "    </tr>\n",
              "    <tr>\n",
              "      <th>1975</th>\n",
              "      <td>-141.5</td>\n",
              "      <td>-0.585938</td>\n",
              "    </tr>\n",
              "    <tr>\n",
              "      <th>82</th>\n",
              "      <td>53.5</td>\n",
              "      <td>-0.625000</td>\n",
              "    </tr>\n",
              "    <tr>\n",
              "      <th>...</th>\n",
              "      <td>...</td>\n",
              "      <td>...</td>\n",
              "    </tr>\n",
              "    <tr>\n",
              "      <th>1170</th>\n",
              "      <td>10.5</td>\n",
              "      <td>0.492188</td>\n",
              "    </tr>\n",
              "    <tr>\n",
              "      <th>243</th>\n",
              "      <td>108.5</td>\n",
              "      <td>-0.562500</td>\n",
              "    </tr>\n",
              "    <tr>\n",
              "      <th>203</th>\n",
              "      <td>-32.0</td>\n",
              "      <td>0.453125</td>\n",
              "    </tr>\n",
              "    <tr>\n",
              "      <th>9</th>\n",
              "      <td>-148.0</td>\n",
              "      <td>-0.289062</td>\n",
              "    </tr>\n",
              "    <tr>\n",
              "      <th>1106</th>\n",
              "      <td>-167.5</td>\n",
              "      <td>-0.484375</td>\n",
              "    </tr>\n",
              "  </tbody>\n",
              "</table>\n",
              "<p>386 rows × 2 columns</p>\n",
              "</div>\n",
              "    <div class=\"colab-df-buttons\">\n",
              "\n",
              "  <div class=\"colab-df-container\">\n",
              "    <button class=\"colab-df-convert\" onclick=\"convertToInteractive('df-dbe92bd5-2367-4c4d-b0f2-8b54cfbfd340')\"\n",
              "            title=\"Convert this dataframe to an interactive table.\"\n",
              "            style=\"display:none;\">\n",
              "\n",
              "  <svg xmlns=\"http://www.w3.org/2000/svg\" height=\"24px\" viewBox=\"0 -960 960 960\">\n",
              "    <path d=\"M120-120v-720h720v720H120Zm60-500h600v-160H180v160Zm220 220h160v-160H400v160Zm0 220h160v-160H400v160ZM180-400h160v-160H180v160Zm440 0h160v-160H620v160ZM180-180h160v-160H180v160Zm440 0h160v-160H620v160Z\"/>\n",
              "  </svg>\n",
              "    </button>\n",
              "\n",
              "  <style>\n",
              "    .colab-df-container {\n",
              "      display:flex;\n",
              "      gap: 12px;\n",
              "    }\n",
              "\n",
              "    .colab-df-convert {\n",
              "      background-color: #E8F0FE;\n",
              "      border: none;\n",
              "      border-radius: 50%;\n",
              "      cursor: pointer;\n",
              "      display: none;\n",
              "      fill: #1967D2;\n",
              "      height: 32px;\n",
              "      padding: 0 0 0 0;\n",
              "      width: 32px;\n",
              "    }\n",
              "\n",
              "    .colab-df-convert:hover {\n",
              "      background-color: #E2EBFA;\n",
              "      box-shadow: 0px 1px 2px rgba(60, 64, 67, 0.3), 0px 1px 3px 1px rgba(60, 64, 67, 0.15);\n",
              "      fill: #174EA6;\n",
              "    }\n",
              "\n",
              "    .colab-df-buttons div {\n",
              "      margin-bottom: 4px;\n",
              "    }\n",
              "\n",
              "    [theme=dark] .colab-df-convert {\n",
              "      background-color: #3B4455;\n",
              "      fill: #D2E3FC;\n",
              "    }\n",
              "\n",
              "    [theme=dark] .colab-df-convert:hover {\n",
              "      background-color: #434B5C;\n",
              "      box-shadow: 0px 1px 3px 1px rgba(0, 0, 0, 0.15);\n",
              "      filter: drop-shadow(0px 1px 2px rgba(0, 0, 0, 0.3));\n",
              "      fill: #FFFFFF;\n",
              "    }\n",
              "  </style>\n",
              "\n",
              "    <script>\n",
              "      const buttonEl =\n",
              "        document.querySelector('#df-dbe92bd5-2367-4c4d-b0f2-8b54cfbfd340 button.colab-df-convert');\n",
              "      buttonEl.style.display =\n",
              "        google.colab.kernel.accessAllowed ? 'block' : 'none';\n",
              "\n",
              "      async function convertToInteractive(key) {\n",
              "        const element = document.querySelector('#df-dbe92bd5-2367-4c4d-b0f2-8b54cfbfd340');\n",
              "        const dataTable =\n",
              "          await google.colab.kernel.invokeFunction('convertToInteractive',\n",
              "                                                    [key], {});\n",
              "        if (!dataTable) return;\n",
              "\n",
              "        const docLinkHtml = 'Like what you see? Visit the ' +\n",
              "          '<a target=\"_blank\" href=https://colab.research.google.com/notebooks/data_table.ipynb>data table notebook</a>'\n",
              "          + ' to learn more about interactive tables.';\n",
              "        element.innerHTML = '';\n",
              "        dataTable['output_type'] = 'display_data';\n",
              "        await google.colab.output.renderOutput(dataTable, element);\n",
              "        const docLink = document.createElement('div');\n",
              "        docLink.innerHTML = docLinkHtml;\n",
              "        element.appendChild(docLink);\n",
              "      }\n",
              "    </script>\n",
              "  </div>\n",
              "\n",
              "\n",
              "<div id=\"df-085df95c-9db7-4c72-b421-e51705fa3d08\">\n",
              "  <button class=\"colab-df-quickchart\" onclick=\"quickchart('df-085df95c-9db7-4c72-b421-e51705fa3d08')\"\n",
              "            title=\"Suggest charts\"\n",
              "            style=\"display:none;\">\n",
              "\n",
              "<svg xmlns=\"http://www.w3.org/2000/svg\" height=\"24px\"viewBox=\"0 0 24 24\"\n",
              "     width=\"24px\">\n",
              "    <g>\n",
              "        <path d=\"M19 3H5c-1.1 0-2 .9-2 2v14c0 1.1.9 2 2 2h14c1.1 0 2-.9 2-2V5c0-1.1-.9-2-2-2zM9 17H7v-7h2v7zm4 0h-2V7h2v10zm4 0h-2v-4h2v4z\"/>\n",
              "    </g>\n",
              "</svg>\n",
              "  </button>\n",
              "\n",
              "<style>\n",
              "  .colab-df-quickchart {\n",
              "      --bg-color: #E8F0FE;\n",
              "      --fill-color: #1967D2;\n",
              "      --hover-bg-color: #E2EBFA;\n",
              "      --hover-fill-color: #174EA6;\n",
              "      --disabled-fill-color: #AAA;\n",
              "      --disabled-bg-color: #DDD;\n",
              "  }\n",
              "\n",
              "  [theme=dark] .colab-df-quickchart {\n",
              "      --bg-color: #3B4455;\n",
              "      --fill-color: #D2E3FC;\n",
              "      --hover-bg-color: #434B5C;\n",
              "      --hover-fill-color: #FFFFFF;\n",
              "      --disabled-bg-color: #3B4455;\n",
              "      --disabled-fill-color: #666;\n",
              "  }\n",
              "\n",
              "  .colab-df-quickchart {\n",
              "    background-color: var(--bg-color);\n",
              "    border: none;\n",
              "    border-radius: 50%;\n",
              "    cursor: pointer;\n",
              "    display: none;\n",
              "    fill: var(--fill-color);\n",
              "    height: 32px;\n",
              "    padding: 0;\n",
              "    width: 32px;\n",
              "  }\n",
              "\n",
              "  .colab-df-quickchart:hover {\n",
              "    background-color: var(--hover-bg-color);\n",
              "    box-shadow: 0 1px 2px rgba(60, 64, 67, 0.3), 0 1px 3px 1px rgba(60, 64, 67, 0.15);\n",
              "    fill: var(--button-hover-fill-color);\n",
              "  }\n",
              "\n",
              "  .colab-df-quickchart-complete:disabled,\n",
              "  .colab-df-quickchart-complete:disabled:hover {\n",
              "    background-color: var(--disabled-bg-color);\n",
              "    fill: var(--disabled-fill-color);\n",
              "    box-shadow: none;\n",
              "  }\n",
              "\n",
              "  .colab-df-spinner {\n",
              "    border: 2px solid var(--fill-color);\n",
              "    border-color: transparent;\n",
              "    border-bottom-color: var(--fill-color);\n",
              "    animation:\n",
              "      spin 1s steps(1) infinite;\n",
              "  }\n",
              "\n",
              "  @keyframes spin {\n",
              "    0% {\n",
              "      border-color: transparent;\n",
              "      border-bottom-color: var(--fill-color);\n",
              "      border-left-color: var(--fill-color);\n",
              "    }\n",
              "    20% {\n",
              "      border-color: transparent;\n",
              "      border-left-color: var(--fill-color);\n",
              "      border-top-color: var(--fill-color);\n",
              "    }\n",
              "    30% {\n",
              "      border-color: transparent;\n",
              "      border-left-color: var(--fill-color);\n",
              "      border-top-color: var(--fill-color);\n",
              "      border-right-color: var(--fill-color);\n",
              "    }\n",
              "    40% {\n",
              "      border-color: transparent;\n",
              "      border-right-color: var(--fill-color);\n",
              "      border-top-color: var(--fill-color);\n",
              "    }\n",
              "    60% {\n",
              "      border-color: transparent;\n",
              "      border-right-color: var(--fill-color);\n",
              "    }\n",
              "    80% {\n",
              "      border-color: transparent;\n",
              "      border-right-color: var(--fill-color);\n",
              "      border-bottom-color: var(--fill-color);\n",
              "    }\n",
              "    90% {\n",
              "      border-color: transparent;\n",
              "      border-bottom-color: var(--fill-color);\n",
              "    }\n",
              "  }\n",
              "</style>\n",
              "\n",
              "  <script>\n",
              "    async function quickchart(key) {\n",
              "      const quickchartButtonEl =\n",
              "        document.querySelector('#' + key + ' button');\n",
              "      quickchartButtonEl.disabled = true;  // To prevent multiple clicks.\n",
              "      quickchartButtonEl.classList.add('colab-df-spinner');\n",
              "      try {\n",
              "        const charts = await google.colab.kernel.invokeFunction(\n",
              "            'suggestCharts', [key], {});\n",
              "      } catch (error) {\n",
              "        console.error('Error during call to suggestCharts:', error);\n",
              "      }\n",
              "      quickchartButtonEl.classList.remove('colab-df-spinner');\n",
              "      quickchartButtonEl.classList.add('colab-df-quickchart-complete');\n",
              "    }\n",
              "    (() => {\n",
              "      let quickchartButtonEl =\n",
              "        document.querySelector('#df-085df95c-9db7-4c72-b421-e51705fa3d08 button');\n",
              "      quickchartButtonEl.style.display =\n",
              "        google.colab.kernel.accessAllowed ? 'block' : 'none';\n",
              "    })();\n",
              "  </script>\n",
              "</div>\n",
              "\n",
              "  <div id=\"id_386200ea-3af4-49ee-890e-6b63bddf06c5\">\n",
              "    <style>\n",
              "      .colab-df-generate {\n",
              "        background-color: #E8F0FE;\n",
              "        border: none;\n",
              "        border-radius: 50%;\n",
              "        cursor: pointer;\n",
              "        display: none;\n",
              "        fill: #1967D2;\n",
              "        height: 32px;\n",
              "        padding: 0 0 0 0;\n",
              "        width: 32px;\n",
              "      }\n",
              "\n",
              "      .colab-df-generate:hover {\n",
              "        background-color: #E2EBFA;\n",
              "        box-shadow: 0px 1px 2px rgba(60, 64, 67, 0.3), 0px 1px 3px 1px rgba(60, 64, 67, 0.15);\n",
              "        fill: #174EA6;\n",
              "      }\n",
              "\n",
              "      [theme=dark] .colab-df-generate {\n",
              "        background-color: #3B4455;\n",
              "        fill: #D2E3FC;\n",
              "      }\n",
              "\n",
              "      [theme=dark] .colab-df-generate:hover {\n",
              "        background-color: #434B5C;\n",
              "        box-shadow: 0px 1px 3px 1px rgba(0, 0, 0, 0.15);\n",
              "        filter: drop-shadow(0px 1px 2px rgba(0, 0, 0, 0.3));\n",
              "        fill: #FFFFFF;\n",
              "      }\n",
              "    </style>\n",
              "    <button class=\"colab-df-generate\" onclick=\"generateWithVariable('residual')\"\n",
              "            title=\"Generate code using this dataframe.\"\n",
              "            style=\"display:none;\">\n",
              "\n",
              "  <svg xmlns=\"http://www.w3.org/2000/svg\" height=\"24px\"viewBox=\"0 0 24 24\"\n",
              "       width=\"24px\">\n",
              "    <path d=\"M7,19H8.4L18.45,9,17,7.55,7,17.6ZM5,21V16.75L18.45,3.32a2,2,0,0,1,2.83,0l1.4,1.43a1.91,1.91,0,0,1,.58,1.4,1.91,1.91,0,0,1-.58,1.4L9.25,21ZM18.45,9,17,7.55Zm-12,3A5.31,5.31,0,0,0,4.9,8.1,5.31,5.31,0,0,0,1,6.5,5.31,5.31,0,0,0,4.9,4.9,5.31,5.31,0,0,0,6.5,1,5.31,5.31,0,0,0,8.1,4.9,5.31,5.31,0,0,0,12,6.5,5.46,5.46,0,0,0,6.5,12Z\"/>\n",
              "  </svg>\n",
              "    </button>\n",
              "    <script>\n",
              "      (() => {\n",
              "      const buttonEl =\n",
              "        document.querySelector('#id_386200ea-3af4-49ee-890e-6b63bddf06c5 button.colab-df-generate');\n",
              "      buttonEl.style.display =\n",
              "        google.colab.kernel.accessAllowed ? 'block' : 'none';\n",
              "\n",
              "      buttonEl.onclick = () => {\n",
              "        google.colab.notebook.generateWithVariable('residual');\n",
              "      }\n",
              "      })();\n",
              "    </script>\n",
              "  </div>\n",
              "\n",
              "    </div>\n",
              "  </div>\n"
            ],
            "application/vnd.google.colaboratory.intrinsic+json": {
              "type": "dataframe",
              "variable_name": "residual",
              "summary": "{\n  \"name\": \"residual\",\n  \"rows\": 386,\n  \"fields\": [\n    {\n      \"column\": \"program_duration_days\",\n      \"properties\": {\n        \"dtype\": \"number\",\n        \"std\": 135.35763275127115,\n        \"min\": -217.0,\n        \"max\": 410.5,\n        \"num_unique_values\": 293,\n        \"samples\": [\n          -176.5,\n          -145.0,\n          -170.5\n        ],\n        \"semantic_type\": \"\",\n        \"description\": \"\"\n      }\n    },\n    {\n      \"column\": \"placed\",\n      \"properties\": {\n        \"dtype\": \"number\",\n        \"std\": 0.49833089765417843,\n        \"min\": -0.8203125,\n        \"max\": 0.890625,\n        \"num_unique_values\": 119,\n        \"samples\": [\n          -0.2890625,\n          -0.4296875,\n          -0.625\n        ],\n        \"semantic_type\": \"\",\n        \"description\": \"\"\n      }\n    }\n  ]\n}"
            }
          },
          "metadata": {},
          "execution_count": 47
        }
      ]
    },
    {
      "cell_type": "code",
      "source": [
        "sns.displot(residual, bins=50)\n"
      ],
      "metadata": {
        "id": "vat_sPgS40xJ"
      },
      "execution_count": null,
      "outputs": []
    },
    {
      "cell_type": "code",
      "source": [
        "sns.histplot(x='program_duration_days', data=df,bins=10, kde=True )"
      ],
      "metadata": {
        "id": "54mA6dvHKL0I"
      },
      "execution_count": null,
      "outputs": []
    },
    {
      "cell_type": "code",
      "source": [
        "sns.displot(x='program_duration_days', data=df,bins=10)"
      ],
      "metadata": {
        "id": "AlPjy3a4csdy"
      },
      "execution_count": null,
      "outputs": []
    },
    {
      "cell_type": "code",
      "source": [
        "print(\"MAE: \", metrics.mean_absolute_error(y_test, prediction))"
      ],
      "metadata": {
        "id": "T0e1if975doS",
        "colab": {
          "base_uri": "https://localhost:8080/"
        },
        "outputId": "51a06aed-3161-4b07-973c-81b37d653c11"
      },
      "execution_count": null,
      "outputs": [
        {
          "output_type": "stream",
          "name": "stdout",
          "text": [
            "MAE:  56.81394713406736\n"
          ]
        }
      ]
    },
    {
      "cell_type": "markdown",
      "source": [
        "**classification**"
      ],
      "metadata": {
        "id": "TDLrI_kM6B1C"
      }
    },
    {
      "cell_type": "code",
      "source": [
        "x = preprocessed_df.drop(columns=['placed'])"
      ],
      "metadata": {
        "id": "dGFWlGXb6Ai3"
      },
      "execution_count": null,
      "outputs": []
    },
    {
      "cell_type": "code",
      "source": [
        "y=preprocessed_df['placed']"
      ],
      "metadata": {
        "id": "E_DsQLLW7QWb"
      },
      "execution_count": null,
      "outputs": []
    },
    {
      "cell_type": "code",
      "source": [
        "x_train, x_test, y_train, y_test = train_test_split(x, y , test_size=0.2, random_state=101)"
      ],
      "metadata": {
        "id": "LLwyIe9D7Sc6"
      },
      "execution_count": null,
      "outputs": []
    },
    {
      "cell_type": "code",
      "source": [
        "logreg = LogisticRegression()"
      ],
      "metadata": {
        "id": "bUl4wiZH7Ueb"
      },
      "execution_count": null,
      "outputs": []
    },
    {
      "cell_type": "code",
      "source": [
        "logreg.fit(x_train, y_train)"
      ],
      "metadata": {
        "id": "DbVScEBC7W7o",
        "colab": {
          "base_uri": "https://localhost:8080/",
          "height": 213
        },
        "outputId": "4dad50b1-32bf-4b8b-b920-f728f13f1e55"
      },
      "execution_count": null,
      "outputs": [
        {
          "output_type": "stream",
          "name": "stderr",
          "text": [
            "/usr/local/lib/python3.10/dist-packages/sklearn/linear_model/_logistic.py:458: ConvergenceWarning: lbfgs failed to converge (status=1):\n",
            "STOP: TOTAL NO. of ITERATIONS REACHED LIMIT.\n",
            "\n",
            "Increase the number of iterations (max_iter) or scale the data as shown in:\n",
            "    https://scikit-learn.org/stable/modules/preprocessing.html\n",
            "Please also refer to the documentation for alternative solver options:\n",
            "    https://scikit-learn.org/stable/modules/linear_model.html#logistic-regression\n",
            "  n_iter_i = _check_optimize_result(\n"
          ]
        },
        {
          "output_type": "execute_result",
          "data": {
            "text/plain": [
              "LogisticRegression()"
            ],
            "text/html": [
              "<style>#sk-container-id-2 {color: black;background-color: white;}#sk-container-id-2 pre{padding: 0;}#sk-container-id-2 div.sk-toggleable {background-color: white;}#sk-container-id-2 label.sk-toggleable__label {cursor: pointer;display: block;width: 100%;margin-bottom: 0;padding: 0.3em;box-sizing: border-box;text-align: center;}#sk-container-id-2 label.sk-toggleable__label-arrow:before {content: \"▸\";float: left;margin-right: 0.25em;color: #696969;}#sk-container-id-2 label.sk-toggleable__label-arrow:hover:before {color: black;}#sk-container-id-2 div.sk-estimator:hover label.sk-toggleable__label-arrow:before {color: black;}#sk-container-id-2 div.sk-toggleable__content {max-height: 0;max-width: 0;overflow: hidden;text-align: left;background-color: #f0f8ff;}#sk-container-id-2 div.sk-toggleable__content pre {margin: 0.2em;color: black;border-radius: 0.25em;background-color: #f0f8ff;}#sk-container-id-2 input.sk-toggleable__control:checked~div.sk-toggleable__content {max-height: 200px;max-width: 100%;overflow: auto;}#sk-container-id-2 input.sk-toggleable__control:checked~label.sk-toggleable__label-arrow:before {content: \"▾\";}#sk-container-id-2 div.sk-estimator input.sk-toggleable__control:checked~label.sk-toggleable__label {background-color: #d4ebff;}#sk-container-id-2 div.sk-label input.sk-toggleable__control:checked~label.sk-toggleable__label {background-color: #d4ebff;}#sk-container-id-2 input.sk-hidden--visually {border: 0;clip: rect(1px 1px 1px 1px);clip: rect(1px, 1px, 1px, 1px);height: 1px;margin: -1px;overflow: hidden;padding: 0;position: absolute;width: 1px;}#sk-container-id-2 div.sk-estimator {font-family: monospace;background-color: #f0f8ff;border: 1px dotted black;border-radius: 0.25em;box-sizing: border-box;margin-bottom: 0.5em;}#sk-container-id-2 div.sk-estimator:hover {background-color: #d4ebff;}#sk-container-id-2 div.sk-parallel-item::after {content: \"\";width: 100%;border-bottom: 1px solid gray;flex-grow: 1;}#sk-container-id-2 div.sk-label:hover label.sk-toggleable__label {background-color: #d4ebff;}#sk-container-id-2 div.sk-serial::before {content: \"\";position: absolute;border-left: 1px solid gray;box-sizing: border-box;top: 0;bottom: 0;left: 50%;z-index: 0;}#sk-container-id-2 div.sk-serial {display: flex;flex-direction: column;align-items: center;background-color: white;padding-right: 0.2em;padding-left: 0.2em;position: relative;}#sk-container-id-2 div.sk-item {position: relative;z-index: 1;}#sk-container-id-2 div.sk-parallel {display: flex;align-items: stretch;justify-content: center;background-color: white;position: relative;}#sk-container-id-2 div.sk-item::before, #sk-container-id-2 div.sk-parallel-item::before {content: \"\";position: absolute;border-left: 1px solid gray;box-sizing: border-box;top: 0;bottom: 0;left: 50%;z-index: -1;}#sk-container-id-2 div.sk-parallel-item {display: flex;flex-direction: column;z-index: 1;position: relative;background-color: white;}#sk-container-id-2 div.sk-parallel-item:first-child::after {align-self: flex-end;width: 50%;}#sk-container-id-2 div.sk-parallel-item:last-child::after {align-self: flex-start;width: 50%;}#sk-container-id-2 div.sk-parallel-item:only-child::after {width: 0;}#sk-container-id-2 div.sk-dashed-wrapped {border: 1px dashed gray;margin: 0 0.4em 0.5em 0.4em;box-sizing: border-box;padding-bottom: 0.4em;background-color: white;}#sk-container-id-2 div.sk-label label {font-family: monospace;font-weight: bold;display: inline-block;line-height: 1.2em;}#sk-container-id-2 div.sk-label-container {text-align: center;}#sk-container-id-2 div.sk-container {/* jupyter's `normalize.less` sets `[hidden] { display: none; }` but bootstrap.min.css set `[hidden] { display: none !important; }` so we also need the `!important` here to be able to override the default hidden behavior on the sphinx rendered scikit-learn.org. See: https://github.com/scikit-learn/scikit-learn/issues/21755 */display: inline-block !important;position: relative;}#sk-container-id-2 div.sk-text-repr-fallback {display: none;}</style><div id=\"sk-container-id-2\" class=\"sk-top-container\"><div class=\"sk-text-repr-fallback\"><pre>LogisticRegression()</pre><b>In a Jupyter environment, please rerun this cell to show the HTML representation or trust the notebook. <br />On GitHub, the HTML representation is unable to render, please try loading this page with nbviewer.org.</b></div><div class=\"sk-container\" hidden><div class=\"sk-item\"><div class=\"sk-estimator sk-toggleable\"><input class=\"sk-toggleable__control sk-hidden--visually\" id=\"sk-estimator-id-2\" type=\"checkbox\" checked><label for=\"sk-estimator-id-2\" class=\"sk-toggleable__label sk-toggleable__label-arrow\">LogisticRegression</label><div class=\"sk-toggleable__content\"><pre>LogisticRegression()</pre></div></div></div></div></div>"
            ]
          },
          "metadata": {},
          "execution_count": 53
        }
      ]
    },
    {
      "cell_type": "code",
      "source": [
        "prediction = logreg.predict(x_test)"
      ],
      "metadata": {
        "id": "s9P3GsFU7adP"
      },
      "execution_count": null,
      "outputs": []
    },
    {
      "cell_type": "code",
      "source": [
        "prediction"
      ],
      "metadata": {
        "id": "W5JEPkRM7bcQ",
        "colab": {
          "base_uri": "https://localhost:8080/"
        },
        "outputId": "b4afaba4-3ed2-44d4-9644-fdafff4f38ff"
      },
      "execution_count": null,
      "outputs": [
        {
          "output_type": "execute_result",
          "data": {
            "text/plain": [
              "array([1, 1, 0, 1, 1, 0, 1, 0, 1, 1, 0, 0, 1, 1, 1, 1, 0, 0, 1, 0, 1, 0,\n",
              "       1, 1, 0, 0, 0, 0, 1, 1, 1, 0, 0, 0, 1, 0, 1, 0, 1, 1, 0, 1, 0, 0,\n",
              "       0, 0, 0, 0, 1, 1, 1, 0, 1, 0, 0, 1, 0, 1, 1, 0, 0, 1, 0, 1, 1, 1,\n",
              "       0, 0, 0, 0, 0, 1, 0, 0, 0, 1, 1, 1, 1, 1, 1, 1, 1, 0, 0, 0, 0, 1,\n",
              "       0, 1, 1, 1, 0, 0, 0, 0, 1, 1, 1, 0, 1, 1, 1, 0, 1, 0, 0, 0, 0, 0,\n",
              "       1, 1, 1, 0, 0, 0, 1, 1, 1, 1, 1, 1, 1, 0, 1, 1, 1, 1, 1, 0, 1, 1,\n",
              "       1, 0, 0, 1, 0, 1, 0, 1, 1, 1, 1, 0, 1, 1, 0, 1, 0, 0, 1, 1, 1, 1,\n",
              "       0, 0, 1, 1, 1, 1, 0, 1, 0, 1, 1, 0, 1, 1, 0, 0, 1, 0, 0, 0, 1, 0,\n",
              "       0, 1, 1, 1, 1, 1, 0, 1, 1, 0, 1, 0, 1, 1, 0, 1, 1, 1, 0, 1, 0, 0,\n",
              "       0, 0, 0, 0, 1, 1, 1, 0, 0, 1, 0, 1, 1, 1, 1, 1, 1, 1, 0, 0, 0, 1,\n",
              "       1, 1, 0, 0, 1, 0, 0, 0, 0, 1, 1, 1, 1, 0, 0, 0, 0, 1, 1, 1, 1, 0,\n",
              "       1, 1, 1, 1, 0, 1, 1, 0, 0, 0, 0, 0, 1, 1, 1, 1, 0, 0, 0, 0, 0, 1,\n",
              "       1, 1, 1, 1, 0, 0, 0, 1, 1, 0, 1, 0, 1, 1, 1, 0, 0, 1, 0, 0, 0, 1,\n",
              "       0, 1, 1, 0, 1, 1, 0, 1, 1, 1, 1, 1, 1, 1, 0, 0, 1, 0, 0, 0, 1, 0,\n",
              "       1, 0, 0, 0, 0, 1, 1, 1, 1, 1, 0, 1, 0, 1, 1, 0, 0, 1, 0, 1, 0, 0,\n",
              "       1, 0, 0, 0, 1, 1, 0, 1, 1, 1, 0, 1, 1, 0, 0, 0, 0, 1, 0, 1, 1, 0,\n",
              "       1, 1, 1, 0, 0, 1, 1, 1, 0, 0, 0, 0, 1, 1, 0, 0, 1, 0, 1, 0, 0, 1,\n",
              "       0, 1, 1, 1, 0, 1, 0, 0, 1, 1, 0, 0])"
            ]
          },
          "metadata": {},
          "execution_count": 55
        }
      ]
    },
    {
      "cell_type": "code",
      "source": [
        "y_test"
      ],
      "metadata": {
        "id": "NIfa1RgM7iaI",
        "colab": {
          "base_uri": "https://localhost:8080/"
        },
        "outputId": "78264810-2653-46bb-f064-7a930e281d1e"
      },
      "execution_count": null,
      "outputs": [
        {
          "output_type": "execute_result",
          "data": {
            "text/plain": [
              "2339    0\n",
              "76      1\n",
              "1087    0\n",
              "1975    0\n",
              "82      0\n",
              "       ..\n",
              "1170    1\n",
              "243     0\n",
              "203     1\n",
              "9       0\n",
              "1106    0\n",
              "Name: placed, Length: 386, dtype: int64"
            ]
          },
          "metadata": {},
          "execution_count": 56
        }
      ]
    },
    {
      "cell_type": "code",
      "source": [
        "len(y_test)"
      ],
      "metadata": {
        "id": "BqSkf2lk7jkr"
      },
      "execution_count": null,
      "outputs": []
    },
    {
      "cell_type": "code",
      "source": [
        "confusion_matrix(y_test,prediction)"
      ],
      "metadata": {
        "id": "BWHMHrro7yTU",
        "colab": {
          "base_uri": "https://localhost:8080/"
        },
        "outputId": "b8758f23-cdc9-4438-9288-04ad71f8a7a4"
      },
      "execution_count": null,
      "outputs": [
        {
          "output_type": "execute_result",
          "data": {
            "text/plain": [
              "array([[125,  93],\n",
              "       [ 53, 115]])"
            ]
          },
          "metadata": {},
          "execution_count": 57
        }
      ]
    },
    {
      "cell_type": "code",
      "source": [
        "print(classification_report(y_test,prediction))"
      ],
      "metadata": {
        "id": "nyueUAvV70vt",
        "colab": {
          "base_uri": "https://localhost:8080/"
        },
        "outputId": "7591c6e4-639a-4062-a282-df8def6a5d2d"
      },
      "execution_count": null,
      "outputs": [
        {
          "output_type": "stream",
          "name": "stdout",
          "text": [
            "              precision    recall  f1-score   support\n",
            "\n",
            "           0       0.70      0.57      0.63       218\n",
            "           1       0.55      0.68      0.61       168\n",
            "\n",
            "    accuracy                           0.62       386\n",
            "   macro avg       0.63      0.63      0.62       386\n",
            "weighted avg       0.64      0.62      0.62       386\n",
            "\n"
          ]
        }
      ]
    },
    {
      "cell_type": "code",
      "source": [
        "accuracy_score(y_test, prediction)"
      ],
      "metadata": {
        "id": "LrSyfx0d72x1",
        "colab": {
          "base_uri": "https://localhost:8080/"
        },
        "outputId": "35d1758c-1639-4dc1-c066-124084bc54d8"
      },
      "execution_count": null,
      "outputs": [
        {
          "output_type": "execute_result",
          "data": {
            "text/plain": [
              "0.6217616580310881"
            ]
          },
          "metadata": {},
          "execution_count": 59
        }
      ]
    },
    {
      "cell_type": "markdown",
      "source": [
        "###Jadi(ML0101EN-Clas-Logistic-Reg-churn)"
      ],
      "metadata": {
        "id": "5oucjWoxtSCO"
      }
    },
    {
      "cell_type": "code",
      "source": [
        "from sklearn.metrics import classification_report, confusion_matrix\n",
        "import itertools\n",
        "def plot_confusion_matrix(cm, classes,\n",
        "                          normalize=False,\n",
        "                          title='Confusion matrix',\n",
        "                          cmap=plt.cm.Blues):\n",
        "    \"\"\"\n",
        "    This function prints and plots the confusion matrix.\n",
        "    Normalization can be applied by setting `normalize=True`.\n",
        "    \"\"\"\n",
        "    if normalize:\n",
        "        cm = cm.astype('float') / cm.sum(axis=1)[:, np.newaxis]\n",
        "        print(\"Normalized confusion matrix\")\n",
        "    else:\n",
        "        print('Confusion matrix, without normalization')\n",
        "\n",
        "    print(cm)\n",
        "\n",
        "    plt.imshow(cm, interpolation='nearest', cmap=cmap)\n",
        "    plt.title(title)\n",
        "    plt.colorbar()\n",
        "    tick_marks = np.arange(len(classes))\n",
        "    plt.xticks(tick_marks, classes, rotation=45)\n",
        "    plt.yticks(tick_marks, classes)\n",
        "\n",
        "    fmt = '.2f' if normalize else 'd'\n",
        "    thresh = cm.max() / 2.\n",
        "    for i, j in itertools.product(range(cm.shape[0]), range(cm.shape[1])):\n",
        "        plt.text(j, i, format(cm[i, j], fmt),\n",
        "                 horizontalalignment=\"center\",\n",
        "                 color=\"white\" if cm[i, j] > thresh else \"black\")\n",
        "\n",
        "    plt.tight_layout()\n",
        "    plt.ylabel('True label')\n",
        "    plt.xlabel('Predicted label')\n",
        "print(confusion_matrix(y_test, prediction, labels=[1,0]))"
      ],
      "metadata": {
        "colab": {
          "base_uri": "https://localhost:8080/"
        },
        "id": "Pi-j388ytRLW",
        "outputId": "90cb1197-a9c1-4d35-81d0-ef7aaba0cfb9"
      },
      "execution_count": null,
      "outputs": [
        {
          "output_type": "stream",
          "name": "stdout",
          "text": [
            "[[115  53]\n",
            " [ 93 125]]\n"
          ]
        }
      ]
    },
    {
      "cell_type": "code",
      "source": [
        "# Compute confusion matrix\n",
        "cnf_matrix = confusion_matrix(y_test, prediction, labels=[1,0])\n",
        "np.set_printoptions(precision=2)\n",
        "# percision=2 yani ta 2 ragham\n",
        "\n",
        "\n",
        "# Plot non-normalized confusion matrix\n",
        "plt.figure()\n",
        "plot_confusion_matrix(cnf_matrix, classes=['placed=1','placed=0'],normalize= False,  title='Confusion matrix')"
      ],
      "metadata": {
        "colab": {
          "base_uri": "https://localhost:8080/",
          "height": 558
        },
        "id": "olkWnYRBtw0P",
        "outputId": "ea524d56-27b3-4294-d9ff-6a0ee8f42a8f"
      },
      "execution_count": null,
      "outputs": [
        {
          "output_type": "stream",
          "name": "stdout",
          "text": [
            "Confusion matrix, without normalization\n",
            "[[115  53]\n",
            " [ 93 125]]\n"
          ]
        },
        {
          "output_type": "display_data",
          "data": {
            "text/plain": [
              "<Figure size 640x480 with 2 Axes>"
            ],
            "image/png": "[encoded data removed]"
          },
          "metadata": {}
        }
      ]
    },
    {
      "cell_type": "markdown",
      "source": [
        "###True predict shodehamoon:\n",
        "TP=115\n",
        "\n",
        "TN=125\n",
        "\n",
        "###False predict shodehamoon:\n",
        "FP=93\n",
        "\n",
        "FN=53\n",
        "\n",
        "\n",
        "\n",
        "\n",
        "\n",
        "\n",
        "\n"
      ],
      "metadata": {
        "id": "yOw0XpWvvf_b"
      }
    },
    {
      "cell_type": "markdown",
      "source": [
        "**K Nearest Neighbor**"
      ],
      "metadata": {
        "id": "1dq1w3Rh75ih"
      }
    },
    {
      "cell_type": "code",
      "source": [
        "knn= KNeighborsClassifier()"
      ],
      "metadata": {
        "id": "SxweeGgo77sb"
      },
      "execution_count": null,
      "outputs": []
    },
    {
      "cell_type": "code",
      "source": [
        "knn.fit(x_train, y_train)"
      ],
      "metadata": {
        "id": "27jYDL3M7_2d"
      },
      "execution_count": null,
      "outputs": []
    },
    {
      "cell_type": "code",
      "source": [
        "prediction_knn = knn.predict(x_test)\n",
        "prediction_knn"
      ],
      "metadata": {
        "id": "7nYeqA_p8F0Z"
      },
      "execution_count": null,
      "outputs": []
    },
    {
      "cell_type": "code",
      "source": [
        "confusion_matrix(y_test, prediction_knn)"
      ],
      "metadata": {
        "id": "2UQ-SKTX8MfN"
      },
      "execution_count": null,
      "outputs": []
    },
    {
      "cell_type": "code",
      "source": [
        "accuracy_score(y_test, prediction_knn)"
      ],
      "metadata": {
        "id": "1GQjZ_iC8Pcl"
      },
      "execution_count": null,
      "outputs": []
    },
    {
      "cell_type": "code",
      "source": [
        "print(classification_report(y_test, prediction_knn))"
      ],
      "metadata": {
        "id": "TqbeecIP8Say"
      },
      "execution_count": null,
      "outputs": []
    },
    {
      "cell_type": "markdown",
      "source": [
        "**DECISION TREE**"
      ],
      "metadata": {
        "id": "ToUiSZfw8UnT"
      }
    },
    {
      "cell_type": "code",
      "source": [
        "tree= DecisionTreeClassifier()"
      ],
      "metadata": {
        "id": "GsLcSpkm8WAz"
      },
      "execution_count": null,
      "outputs": []
    },
    {
      "cell_type": "code",
      "source": [
        "tree.fit(x_train, y_train)"
      ],
      "metadata": {
        "id": "hZWfULlc8aYm"
      },
      "execution_count": null,
      "outputs": []
    },
    {
      "cell_type": "code",
      "source": [
        "prediction_tree = tree.predict(x_test)"
      ],
      "metadata": {
        "id": "-Zdg2lTz8c52"
      },
      "execution_count": null,
      "outputs": []
    },
    {
      "cell_type": "code",
      "source": [
        "confusion_matrix(y_test, prediction_tree)"
      ],
      "metadata": {
        "id": "OqIgYncb8e1M"
      },
      "execution_count": null,
      "outputs": []
    },
    {
      "cell_type": "code",
      "source": [
        "accuracy_score(y_test, prediction_tree)"
      ],
      "metadata": {
        "id": "wDwq8lnU8hOD"
      },
      "execution_count": null,
      "outputs": []
    },
    {
      "cell_type": "code",
      "source": [
        "print(classification_report(y_test, prediction_tree))"
      ],
      "metadata": {
        "id": "2rB7EBUq8kGt"
      },
      "execution_count": null,
      "outputs": []
    },
    {
      "cell_type": "markdown",
      "source": [
        "**Random Forest**"
      ],
      "metadata": {
        "id": "kFas78SQ8mN9"
      }
    },
    {
      "cell_type": "code",
      "source": [
        "rf = RandomForestClassifier()"
      ],
      "metadata": {
        "id": "AnOgMcsN8ntS"
      },
      "execution_count": null,
      "outputs": []
    },
    {
      "cell_type": "code",
      "source": [
        "rf.fit(x_train,y_train)"
      ],
      "metadata": {
        "id": "ugp6O6Ro8rtK",
        "colab": {
          "base_uri": "https://localhost:8080/",
          "height": 75
        },
        "outputId": "407469a1-4217-468e-c97f-1af043f3d9e5"
      },
      "execution_count": null,
      "outputs": [
        {
          "output_type": "execute_result",
          "data": {
            "text/plain": [
              "RandomForestClassifier()"
            ],
            "text/html": [
              "<style>#sk-container-id-4 {color: black;background-color: white;}#sk-container-id-4 pre{padding: 0;}#sk-container-id-4 div.sk-toggleable {background-color: white;}#sk-container-id-4 label.sk-toggleable__label {cursor: pointer;display: block;width: 100%;margin-bottom: 0;padding: 0.3em;box-sizing: border-box;text-align: center;}#sk-container-id-4 label.sk-toggleable__label-arrow:before {content: \"▸\";float: left;margin-right: 0.25em;color: #696969;}#sk-container-id-4 label.sk-toggleable__label-arrow:hover:before {color: black;}#sk-container-id-4 div.sk-estimator:hover label.sk-toggleable__label-arrow:before {color: black;}#sk-container-id-4 div.sk-toggleable__content {max-height: 0;max-width: 0;overflow: hidden;text-align: left;background-color: #f0f8ff;}#sk-container-id-4 div.sk-toggleable__content pre {margin: 0.2em;color: black;border-radius: 0.25em;background-color: #f0f8ff;}#sk-container-id-4 input.sk-toggleable__control:checked~div.sk-toggleable__content {max-height: 200px;max-width: 100%;overflow: auto;}#sk-container-id-4 input.sk-toggleable__control:checked~label.sk-toggleable__label-arrow:before {content: \"▾\";}#sk-container-id-4 div.sk-estimator input.sk-toggleable__control:checked~label.sk-toggleable__label {background-color: #d4ebff;}#sk-container-id-4 div.sk-label input.sk-toggleable__control:checked~label.sk-toggleable__label {background-color: #d4ebff;}#sk-container-id-4 input.sk-hidden--visually {border: 0;clip: rect(1px 1px 1px 1px);clip: rect(1px, 1px, 1px, 1px);height: 1px;margin: -1px;overflow: hidden;padding: 0;position: absolute;width: 1px;}#sk-container-id-4 div.sk-estimator {font-family: monospace;background-color: #f0f8ff;border: 1px dotted black;border-radius: 0.25em;box-sizing: border-box;margin-bottom: 0.5em;}#sk-container-id-4 div.sk-estimator:hover {background-color: #d4ebff;}#sk-container-id-4 div.sk-parallel-item::after {content: \"\";width: 100%;border-bottom: 1px solid gray;flex-grow: 1;}#sk-container-id-4 div.sk-label:hover label.sk-toggleable__label {background-color: #d4ebff;}#sk-container-id-4 div.sk-serial::before {content: \"\";position: absolute;border-left: 1px solid gray;box-sizing: border-box;top: 0;bottom: 0;left: 50%;z-index: 0;}#sk-container-id-4 div.sk-serial {display: flex;flex-direction: column;align-items: center;background-color: white;padding-right: 0.2em;padding-left: 0.2em;position: relative;}#sk-container-id-4 div.sk-item {position: relative;z-index: 1;}#sk-container-id-4 div.sk-parallel {display: flex;align-items: stretch;justify-content: center;background-color: white;position: relative;}#sk-container-id-4 div.sk-item::before, #sk-container-id-4 div.sk-parallel-item::before {content: \"\";position: absolute;border-left: 1px solid gray;box-sizing: border-box;top: 0;bottom: 0;left: 50%;z-index: -1;}#sk-container-id-4 div.sk-parallel-item {display: flex;flex-direction: column;z-index: 1;position: relative;background-color: white;}#sk-container-id-4 div.sk-parallel-item:first-child::after {align-self: flex-end;width: 50%;}#sk-container-id-4 div.sk-parallel-item:last-child::after {align-self: flex-start;width: 50%;}#sk-container-id-4 div.sk-parallel-item:only-child::after {width: 0;}#sk-container-id-4 div.sk-dashed-wrapped {border: 1px dashed gray;margin: 0 0.4em 0.5em 0.4em;box-sizing: border-box;padding-bottom: 0.4em;background-color: white;}#sk-container-id-4 div.sk-label label {font-family: monospace;font-weight: bold;display: inline-block;line-height: 1.2em;}#sk-container-id-4 div.sk-label-container {text-align: center;}#sk-container-id-4 div.sk-container {/* jupyter's `normalize.less` sets `[hidden] { display: none; }` but bootstrap.min.css set `[hidden] { display: none !important; }` so we also need the `!important` here to be able to override the default hidden behavior on the sphinx rendered scikit-learn.org. See: https://github.com/scikit-learn/scikit-learn/issues/21755 */display: inline-block !important;position: relative;}#sk-container-id-4 div.sk-text-repr-fallback {display: none;}</style><div id=\"sk-container-id-4\" class=\"sk-top-container\"><div class=\"sk-text-repr-fallback\"><pre>RandomForestClassifier()</pre><b>In a Jupyter environment, please rerun this cell to show the HTML representation or trust the notebook. <br />On GitHub, the HTML representation is unable to render, please try loading this page with nbviewer.org.</b></div><div class=\"sk-container\" hidden><div class=\"sk-item\"><div class=\"sk-estimator sk-toggleable\"><input class=\"sk-toggleable__control sk-hidden--visually\" id=\"sk-estimator-id-4\" type=\"checkbox\" checked><label for=\"sk-estimator-id-4\" class=\"sk-toggleable__label sk-toggleable__label-arrow\">RandomForestClassifier</label><div class=\"sk-toggleable__content\"><pre>RandomForestClassifier()</pre></div></div></div></div></div>"
            ]
          },
          "metadata": {},
          "execution_count": 75
        }
      ]
    },
    {
      "cell_type": "code",
      "source": [
        "prediction_rf = rf.predict(x_test)"
      ],
      "metadata": {
        "id": "KR7QzOgo8uEK"
      },
      "execution_count": null,
      "outputs": []
    },
    {
      "cell_type": "code",
      "source": [
        "confusion_matrix(y_test, prediction_rf)"
      ],
      "metadata": {
        "id": "w-zRYmgx8w8W",
        "colab": {
          "base_uri": "https://localhost:8080/"
        },
        "outputId": "1ddff269-fd48-4d05-fd31-b9b37985d952"
      },
      "execution_count": null,
      "outputs": [
        {
          "output_type": "execute_result",
          "data": {
            "text/plain": [
              "array([[142,  76],\n",
              "       [ 20, 148]])"
            ]
          },
          "metadata": {},
          "execution_count": 77
        }
      ]
    },
    {
      "cell_type": "code",
      "source": [
        "accuracy_score(y_test, prediction_rf)"
      ],
      "metadata": {
        "id": "EpMnAeTk8zQy",
        "colab": {
          "base_uri": "https://localhost:8080/"
        },
        "outputId": "409546de-a936-477a-b343-a44421e124fe"
      },
      "execution_count": null,
      "outputs": [
        {
          "output_type": "execute_result",
          "data": {
            "text/plain": [
              "0.7512953367875648"
            ]
          },
          "metadata": {},
          "execution_count": 78
        }
      ]
    },
    {
      "cell_type": "code",
      "source": [
        "print(classification_report(y_test, prediction_rf))"
      ],
      "metadata": {
        "id": "bZdXwJqO82Sy",
        "colab": {
          "base_uri": "https://localhost:8080/"
        },
        "outputId": "b6e67435-a2c0-4d13-9ae5-ef32585030ea"
      },
      "execution_count": null,
      "outputs": [
        {
          "output_type": "stream",
          "name": "stdout",
          "text": [
            "              precision    recall  f1-score   support\n",
            "\n",
            "           0       0.88      0.65      0.75       218\n",
            "           1       0.66      0.88      0.76       168\n",
            "\n",
            "    accuracy                           0.75       386\n",
            "   macro avg       0.77      0.77      0.75       386\n",
            "weighted avg       0.78      0.75      0.75       386\n",
            "\n"
          ]
        }
      ]
    },
    {
      "cell_type": "markdown",
      "source": [
        "##Jadi"
      ],
      "metadata": {
        "id": "_VB4bRVc8NUo"
      }
    },
    {
      "cell_type": "code",
      "source": [
        "from sklearn.metrics import classification_report, confusion_matrix\n",
        "import itertools\n",
        "def plot_confusion_matrix(cm, classes,\n",
        "                          normalize=False,\n",
        "                          title='Confusion matrix',\n",
        "                          cmap=plt.cm.Blues):\n",
        "    \"\"\"\n",
        "    This function prints and plots the confusion matrix.\n",
        "    Normalization can be applied by setting `normalize=True`.\n",
        "    \"\"\"\n",
        "    if normalize:\n",
        "        cm = cm.astype('float') / cm.sum(axis=1)[:, np.newaxis]\n",
        "        print(\"Normalized confusion matrix\")\n",
        "    else:\n",
        "        print('Confusion matrix, without normalization')\n",
        "\n",
        "    print(cm)\n",
        "\n",
        "    plt.imshow(cm, interpolation='nearest', cmap=cmap)\n",
        "    plt.title(title)\n",
        "    plt.colorbar()\n",
        "    tick_marks = np.arange(len(classes))\n",
        "    plt.xticks(tick_marks, classes, rotation=45)\n",
        "    plt.yticks(tick_marks, classes)\n",
        "\n",
        "    fmt = '.2f' if normalize else 'd'\n",
        "    thresh = cm.max() / 2.\n",
        "    for i, j in itertools.product(range(cm.shape[0]), range(cm.shape[1])):\n",
        "        plt.text(j, i, format(cm[i, j], fmt),\n",
        "                 horizontalalignment=\"center\",\n",
        "                 color=\"white\" if cm[i, j] > thresh else \"black\")\n",
        "\n",
        "    plt.tight_layout()\n",
        "    plt.ylabel('True label')\n",
        "    plt.xlabel('Predicted label')\n",
        "print(confusion_matrix(y_test, prediction, labels=[1,0]))"
      ],
      "metadata": {
        "colab": {
          "base_uri": "https://localhost:8080/"
        },
        "id": "m6px5rVt8OD6",
        "outputId": "86fa1998-2220-48be-fcf4-bc9c1149b3d5"
      },
      "execution_count": null,
      "outputs": [
        {
          "output_type": "stream",
          "name": "stdout",
          "text": [
            "[[115  53]\n",
            " [ 93 125]]\n"
          ]
        }
      ]
    },
    {
      "cell_type": "code",
      "source": [
        "# Compute confusion matrix\n",
        "cnf_matrix = confusion_matrix(y_test, prediction, labels=[1,0])\n",
        "np.set_printoptions(precision=2)\n",
        "# percision=2 yani ta 2 ragham\n",
        "\n",
        "\n",
        "# Plot non-normalized confusion matrix\n",
        "plt.figure()\n",
        "plot_confusion_matrix(cnf_matrix, classes=['placed=1','placed=0'],normalize= False,  title='Confusion matrix')"
      ],
      "metadata": {
        "id": "bzGRhbfk8XRv",
        "outputId": "baf6d3d2-a9e0-4647-8c91-d20d38cb4d77",
        "colab": {
          "base_uri": "https://localhost:8080/",
          "height": 558
        }
      },
      "execution_count": null,
      "outputs": [
        {
          "output_type": "stream",
          "name": "stdout",
          "text": [
            "Confusion matrix, without normalization\n",
            "[[115  53]\n",
            " [ 93 125]]\n"
          ]
        },
        {
          "output_type": "display_data",
          "data": {
            "text/plain": [
              "<Figure size 640x480 with 2 Axes>"
            ],
            "image/png": "[encoded data removed]"
          },
          "metadata": {}
        }
      ]
    },
    {
      "cell_type": "markdown",
      "source": [
        "**SVM**"
      ],
      "metadata": {
        "id": "Pi5HeBq_87Al"
      }
    },
    {
      "cell_type": "code",
      "source": [
        "from sklearn.svm import SVC"
      ],
      "metadata": {
        "id": "V-BmbVnc86AL"
      },
      "execution_count": null,
      "outputs": []
    },
    {
      "cell_type": "code",
      "source": [
        "svm = SVC(kernel='linear')"
      ],
      "metadata": {
        "id": "6Lei88H29Cqu"
      },
      "execution_count": null,
      "outputs": []
    },
    {
      "cell_type": "code",
      "source": [
        "svm.fit(x_train, y_train)"
      ],
      "metadata": {
        "id": "dv_hoV-g9FNY",
        "colab": {
          "base_uri": "https://localhost:8080/",
          "height": 75
        },
        "outputId": "ddeb4b64-9f1e-475f-a35a-df50fb484854"
      },
      "execution_count": null,
      "outputs": [
        {
          "output_type": "execute_result",
          "data": {
            "text/plain": [
              "SVC(kernel='linear')"
            ],
            "text/html": [
              "<style>#sk-container-id-3 {color: black;background-color: white;}#sk-container-id-3 pre{padding: 0;}#sk-container-id-3 div.sk-toggleable {background-color: white;}#sk-container-id-3 label.sk-toggleable__label {cursor: pointer;display: block;width: 100%;margin-bottom: 0;padding: 0.3em;box-sizing: border-box;text-align: center;}#sk-container-id-3 label.sk-toggleable__label-arrow:before {content: \"▸\";float: left;margin-right: 0.25em;color: #696969;}#sk-container-id-3 label.sk-toggleable__label-arrow:hover:before {color: black;}#sk-container-id-3 div.sk-estimator:hover label.sk-toggleable__label-arrow:before {color: black;}#sk-container-id-3 div.sk-toggleable__content {max-height: 0;max-width: 0;overflow: hidden;text-align: left;background-color: #f0f8ff;}#sk-container-id-3 div.sk-toggleable__content pre {margin: 0.2em;color: black;border-radius: 0.25em;background-color: #f0f8ff;}#sk-container-id-3 input.sk-toggleable__control:checked~div.sk-toggleable__content {max-height: 200px;max-width: 100%;overflow: auto;}#sk-container-id-3 input.sk-toggleable__control:checked~label.sk-toggleable__label-arrow:before {content: \"▾\";}#sk-container-id-3 div.sk-estimator input.sk-toggleable__control:checked~label.sk-toggleable__label {background-color: #d4ebff;}#sk-container-id-3 div.sk-label input.sk-toggleable__control:checked~label.sk-toggleable__label {background-color: #d4ebff;}#sk-container-id-3 input.sk-hidden--visually {border: 0;clip: rect(1px 1px 1px 1px);clip: rect(1px, 1px, 1px, 1px);height: 1px;margin: -1px;overflow: hidden;padding: 0;position: absolute;width: 1px;}#sk-container-id-3 div.sk-estimator {font-family: monospace;background-color: #f0f8ff;border: 1px dotted black;border-radius: 0.25em;box-sizing: border-box;margin-bottom: 0.5em;}#sk-container-id-3 div.sk-estimator:hover {background-color: #d4ebff;}#sk-container-id-3 div.sk-parallel-item::after {content: \"\";width: 100%;border-bottom: 1px solid gray;flex-grow: 1;}#sk-container-id-3 div.sk-label:hover label.sk-toggleable__label {background-color: #d4ebff;}#sk-container-id-3 div.sk-serial::before {content: \"\";position: absolute;border-left: 1px solid gray;box-sizing: border-box;top: 0;bottom: 0;left: 50%;z-index: 0;}#sk-container-id-3 div.sk-serial {display: flex;flex-direction: column;align-items: center;background-color: white;padding-right: 0.2em;padding-left: 0.2em;position: relative;}#sk-container-id-3 div.sk-item {position: relative;z-index: 1;}#sk-container-id-3 div.sk-parallel {display: flex;align-items: stretch;justify-content: center;background-color: white;position: relative;}#sk-container-id-3 div.sk-item::before, #sk-container-id-3 div.sk-parallel-item::before {content: \"\";position: absolute;border-left: 1px solid gray;box-sizing: border-box;top: 0;bottom: 0;left: 50%;z-index: -1;}#sk-container-id-3 div.sk-parallel-item {display: flex;flex-direction: column;z-index: 1;position: relative;background-color: white;}#sk-container-id-3 div.sk-parallel-item:first-child::after {align-self: flex-end;width: 50%;}#sk-container-id-3 div.sk-parallel-item:last-child::after {align-self: flex-start;width: 50%;}#sk-container-id-3 div.sk-parallel-item:only-child::after {width: 0;}#sk-container-id-3 div.sk-dashed-wrapped {border: 1px dashed gray;margin: 0 0.4em 0.5em 0.4em;box-sizing: border-box;padding-bottom: 0.4em;background-color: white;}#sk-container-id-3 div.sk-label label {font-family: monospace;font-weight: bold;display: inline-block;line-height: 1.2em;}#sk-container-id-3 div.sk-label-container {text-align: center;}#sk-container-id-3 div.sk-container {/* jupyter's `normalize.less` sets `[hidden] { display: none; }` but bootstrap.min.css set `[hidden] { display: none !important; }` so we also need the `!important` here to be able to override the default hidden behavior on the sphinx rendered scikit-learn.org. See: https://github.com/scikit-learn/scikit-learn/issues/21755 */display: inline-block !important;position: relative;}#sk-container-id-3 div.sk-text-repr-fallback {display: none;}</style><div id=\"sk-container-id-3\" class=\"sk-top-container\"><div class=\"sk-text-repr-fallback\"><pre>SVC(kernel=&#x27;linear&#x27;)</pre><b>In a Jupyter environment, please rerun this cell to show the HTML representation or trust the notebook. <br />On GitHub, the HTML representation is unable to render, please try loading this page with nbviewer.org.</b></div><div class=\"sk-container\" hidden><div class=\"sk-item\"><div class=\"sk-estimator sk-toggleable\"><input class=\"sk-toggleable__control sk-hidden--visually\" id=\"sk-estimator-id-3\" type=\"checkbox\" checked><label for=\"sk-estimator-id-3\" class=\"sk-toggleable__label sk-toggleable__label-arrow\">SVC</label><div class=\"sk-toggleable__content\"><pre>SVC(kernel=&#x27;linear&#x27;)</pre></div></div></div></div></div>"
            ]
          },
          "metadata": {},
          "execution_count": 64
        }
      ]
    },
    {
      "cell_type": "code",
      "source": [
        "predictions_svc = svm.predict(x_test)"
      ],
      "metadata": {
        "id": "0WTzc2KZ9JED"
      },
      "execution_count": null,
      "outputs": []
    },
    {
      "cell_type": "code",
      "source": [
        "confusion_matrix(y_test, predictions_svc)"
      ],
      "metadata": {
        "id": "Kvc4VSk89MKy",
        "colab": {
          "base_uri": "https://localhost:8080/"
        },
        "outputId": "5b4bb1c9-f16a-4cb9-9345-ddad91db08c5"
      },
      "execution_count": null,
      "outputs": [
        {
          "output_type": "execute_result",
          "data": {
            "text/plain": [
              "array([[124,  94],\n",
              "       [ 51, 117]])"
            ]
          },
          "metadata": {},
          "execution_count": 66
        }
      ]
    },
    {
      "cell_type": "code",
      "source": [
        "accuracy_score(y_test, predictions_svc)"
      ],
      "metadata": {
        "id": "V4HXYOtq9OhR",
        "colab": {
          "base_uri": "https://localhost:8080/"
        },
        "outputId": "6dff6bb4-eeac-4fcf-e7f8-8322503d469b"
      },
      "execution_count": null,
      "outputs": [
        {
          "output_type": "execute_result",
          "data": {
            "text/plain": [
              "0.6243523316062176"
            ]
          },
          "metadata": {},
          "execution_count": 67
        }
      ]
    },
    {
      "cell_type": "code",
      "source": [
        "print(\"Accuracy:\", accuracy_score(y_test, predictions_svc))\n",
        "print(\"Confusion Matrix:\\n\", confusion_matrix(y_test, predictions_svc))\n",
        "print(\"Classification Report:\\n\", classification_report(y_test, predictions_svc))"
      ],
      "metadata": {
        "id": "K6gvy1Ag9Ry9",
        "colab": {
          "base_uri": "https://localhost:8080/"
        },
        "outputId": "c738da2f-c8c5-4b1d-ca47-f3305844e95c"
      },
      "execution_count": null,
      "outputs": [
        {
          "output_type": "stream",
          "name": "stdout",
          "text": [
            "Accuracy: 0.6243523316062176\n",
            "Confusion Matrix:\n",
            " [[124  94]\n",
            " [ 51 117]]\n",
            "Classification Report:\n",
            "               precision    recall  f1-score   support\n",
            "\n",
            "           0       0.71      0.57      0.63       218\n",
            "           1       0.55      0.70      0.62       168\n",
            "\n",
            "    accuracy                           0.62       386\n",
            "   macro avg       0.63      0.63      0.62       386\n",
            "weighted avg       0.64      0.62      0.63       386\n",
            "\n"
          ]
        }
      ]
    },
    {
      "cell_type": "code",
      "source": [
        "print(classification_report(y_test, predictions_svc))"
      ],
      "metadata": {
        "id": "PCV6t6y89TM-",
        "colab": {
          "base_uri": "https://localhost:8080/"
        },
        "outputId": "fffe45db-6b18-4010-b09c-47c100c738dd"
      },
      "execution_count": null,
      "outputs": [
        {
          "output_type": "stream",
          "name": "stdout",
          "text": [
            "              precision    recall  f1-score   support\n",
            "\n",
            "           0       0.71      0.57      0.63       218\n",
            "           1       0.55      0.70      0.62       168\n",
            "\n",
            "    accuracy                           0.62       386\n",
            "   macro avg       0.63      0.63      0.62       386\n",
            "weighted avg       0.64      0.62      0.63       386\n",
            "\n"
          ]
        }
      ]
    },
    {
      "cell_type": "markdown",
      "source": [
        "##Jadi"
      ],
      "metadata": {
        "id": "U_1z5RC_72aV"
      }
    },
    {
      "cell_type": "code",
      "source": [
        "from sklearn.metrics import classification_report, confusion_matrix\n",
        "import itertools\n",
        "def plot_confusion_matrix(cm, classes,\n",
        "                          normalize=False,\n",
        "                          title='Confusion matrix',\n",
        "                          cmap=plt.cm.Blues):\n",
        "    \"\"\"\n",
        "    This function prints and plots the confusion matrix.\n",
        "    Normalization can be applied by setting `normalize=True`.\n",
        "    \"\"\"\n",
        "    if normalize:\n",
        "        cm = cm.astype('float') / cm.sum(axis=1)[:, np.newaxis]\n",
        "        print(\"Normalized confusion matrix\")\n",
        "    else:\n",
        "        print('Confusion matrix, without normalization')\n",
        "\n",
        "    print(cm)\n",
        "\n",
        "    plt.imshow(cm, interpolation='nearest', cmap=cmap)\n",
        "    plt.title(title)\n",
        "    plt.colorbar()\n",
        "    tick_marks = np.arange(len(classes))\n",
        "    plt.xticks(tick_marks, classes, rotation=45)\n",
        "    plt.yticks(tick_marks, classes)\n",
        "\n",
        "    fmt = '.2f' if normalize else 'd'\n",
        "    thresh = cm.max() / 2.\n",
        "    for i, j in itertools.product(range(cm.shape[0]), range(cm.shape[1])):\n",
        "        plt.text(j, i, format(cm[i, j], fmt),\n",
        "                 horizontalalignment=\"center\",\n",
        "                 color=\"white\" if cm[i, j] > thresh else \"black\")\n",
        "\n",
        "    plt.tight_layout()\n",
        "    plt.ylabel('True label')\n",
        "    plt.xlabel('Predicted label')\n",
        "print(confusion_matrix(y_test, prediction, labels=[1,0]))"
      ],
      "metadata": {
        "colab": {
          "base_uri": "https://localhost:8080/"
        },
        "id": "U8TMqqsH7161",
        "outputId": "90ff56b3-a36a-474c-e51f-336b7f000a65"
      },
      "execution_count": null,
      "outputs": [
        {
          "output_type": "stream",
          "name": "stdout",
          "text": [
            "[[115  53]\n",
            " [ 93 125]]\n"
          ]
        }
      ]
    },
    {
      "cell_type": "code",
      "source": [
        "# Compute confusion matrix\n",
        "cnf_matrix = confusion_matrix(y_test, prediction, labels=[1,0])\n",
        "np.set_printoptions(precision=2)\n",
        "# percision=2 yani ta 2 ragham\n",
        "\n",
        "\n",
        "# Plot non-normalized confusion matrix\n",
        "plt.figure()\n",
        "plot_confusion_matrix(cnf_matrix, classes=['placed=1','placed=0'],normalize= False,  title='Confusion matrix')"
      ],
      "metadata": {
        "colab": {
          "base_uri": "https://localhost:8080/",
          "height": 558
        },
        "id": "GujVy4bU7_lI",
        "outputId": "ea47f946-e060-40e1-b2fa-e471eaca5f35"
      },
      "execution_count": null,
      "outputs": [
        {
          "output_type": "stream",
          "name": "stdout",
          "text": [
            "Confusion matrix, without normalization\n",
            "[[115  53]\n",
            " [ 93 125]]\n"
          ]
        },
        {
          "output_type": "display_data",
          "data": {
            "text/plain": [
              "<Figure size 640x480 with 2 Axes>"
            ],
            "image/png": "[encoded data removed]"
          },
          "metadata": {}
        }
      ]
    },
    {
      "cell_type": "markdown",
      "source": [
        "**Visualization**"
      ],
      "metadata": {
        "id": "XiCkY_IC9XDb"
      }
    },
    {
      "cell_type": "code",
      "source": [
        "from sklearn.model_selection import train_test_split\n",
        "from sklearn.linear_model import LogisticRegression\n",
        "from sklearn.svm import SVC\n",
        "from sklearn.tree import DecisionTreeClassifier\n",
        "from sklearn.neighbors import KNeighborsClassifier\n",
        "from sklearn.metrics import precision_score, recall_score, f1_score, accuracy_score\n",
        "from tabulate import tabulate"
      ],
      "metadata": {
        "id": "-kDRejPZ9YKb"
      },
      "execution_count": null,
      "outputs": []
    },
    {
      "cell_type": "code",
      "source": [
        "# Assuming 'x' is your feature matrix and 'y' is your target variable, replace them with your actual data\n",
        "x_train, x_test, y_train, y_test = train_test_split(x, y, test_size=0.2, random_state=101)"
      ],
      "metadata": {
        "id": "xoz6Z6nl9egA"
      },
      "execution_count": null,
      "outputs": []
    },
    {
      "cell_type": "code",
      "source": [
        "# Initialize classifiers\n",
        "logistic_regression = LogisticRegression()\n",
        "svm_classifier = SVC(kernel='linear')\n",
        "decision_tree = DecisionTreeClassifier()\n",
        "knn_classifier = KNeighborsClassifier()\n",
        "random_forest = RandomForestClassifier()"
      ],
      "metadata": {
        "id": "k-uj7rvb9hHE"
      },
      "execution_count": null,
      "outputs": []
    },
    {
      "cell_type": "code",
      "source": [
        "# Fit the models\n",
        "logistic_regression.fit(x_train, y_train)\n",
        "svm_classifier.fit(x_train, y_train)\n",
        "decision_tree.fit(x_train, y_train)\n",
        "knn_classifier.fit(x_train, y_train)\n",
        "random_forest.fit(x_train, y_train)"
      ],
      "metadata": {
        "id": "4ILdgJbd9jLB"
      },
      "execution_count": null,
      "outputs": []
    },
    {
      "cell_type": "code",
      "source": [
        "# Make predictions\n",
        "lr_predictions = logistic_regression.predict(x_test)\n",
        "svm_predictions = svm_classifier.predict(x_test)\n",
        "dt_predictions = decision_tree.predict(x_test)\n",
        "knn_predictions = knn_classifier.predict(x_test)\n",
        "rf_predictions = random_forest.predict(x_test)\n"
      ],
      "metadata": {
        "id": "Qu6T125q9mm1"
      },
      "execution_count": null,
      "outputs": []
    },
    {
      "cell_type": "code",
      "source": [
        "# Calculate evaluation metrics\n",
        "precision_scores = [\n",
        "    precision_score(y_test, lr_predictions),\n",
        "    precision_score(y_test, svm_predictions),\n",
        "    precision_score(y_test, dt_predictions),\n",
        "    precision_score(y_test, knn_predictions),\n",
        "    precision_score(y_test,rf_predictions)\n",
        "]"
      ],
      "metadata": {
        "id": "ToztGhWs9oef"
      },
      "execution_count": null,
      "outputs": []
    },
    {
      "cell_type": "code",
      "source": [
        "recall_scores = [\n",
        "    recall_score(y_test, lr_predictions),\n",
        "    recall_score(y_test, svm_predictions),\n",
        "    recall_score(y_test, dt_predictions),\n",
        "    recall_score(y_test, knn_predictions),\n",
        "    recall_score(y_test, rf_predictions)\n",
        "]"
      ],
      "metadata": {
        "id": "-TF7tn8v9t2z"
      },
      "execution_count": null,
      "outputs": []
    },
    {
      "cell_type": "code",
      "source": [
        "f1_scores = [\n",
        "    f1_score(y_test, lr_predictions),\n",
        "    f1_score(y_test, svm_predictions),\n",
        "    f1_score(y_test, dt_predictions),\n",
        "    f1_score(y_test, knn_predictions),\n",
        "    f1_score(y_test, rf_predictions)\n",
        "]"
      ],
      "metadata": {
        "id": "tHGFutin9v0V"
      },
      "execution_count": null,
      "outputs": []
    },
    {
      "cell_type": "code",
      "source": [
        "accuracy_scores = [\n",
        "    accuracy_score(y_test, lr_predictions),\n",
        "    accuracy_score(y_test, svm_predictions),\n",
        "    accuracy_score(y_test, dt_predictions),\n",
        "    accuracy_score(y_test, knn_predictions),\n",
        "    accuracy_score(y_test, rf_predictions)\n",
        "]"
      ],
      "metadata": {
        "id": "qdaKJKDW9xw0"
      },
      "execution_count": null,
      "outputs": []
    },
    {
      "cell_type": "code",
      "source": [
        "# Prepare data for tabulate\n",
        "data = [\n",
        "    [\"Metric\", \"Logistic Regression\", \"Support Vector Machine\", \"Decision Tree Classifier\",\"KNN Classifier\",\"Random Forest\"],\n",
        "    [\"Precision\", *precision_scores],\n",
        "    [\"Recall\", *recall_scores],\n",
        "    [\"F1-Score\", *f1_scores],\n",
        "    [\"Accuracy\", *accuracy_scores]\n",
        "]"
      ],
      "metadata": {
        "id": "Rh5WXK_q9zlA"
      },
      "execution_count": null,
      "outputs": []
    },
    {
      "cell_type": "code",
      "source": [
        "# Print the table\n",
        "print(tabulate(data, tablefmt=\"fancy_grid\", numalign=\"center\", stralign=\"center\"))"
      ],
      "metadata": {
        "id": "5MpS2uex918G"
      },
      "execution_count": null,
      "outputs": []
    },
    {
      "cell_type": "code",
      "source": [
        "data = {\n",
        "    'Model': ['Logistic Regression', 'Support Vector Machine', 'Decision Tree', 'K Nearest Neighbor','Random Forest'],\n",
        "    'Accuracy': [0.62, 0.62  ,0.68 , 0.75, 0.74 ]\n",
        "}"
      ],
      "metadata": {
        "id": "QOQhi46t945D"
      },
      "execution_count": null,
      "outputs": []
    },
    {
      "cell_type": "code",
      "source": [
        "df = pd.DataFrame(data)"
      ],
      "metadata": {
        "id": "2-1kQBVR960J"
      },
      "execution_count": null,
      "outputs": []
    },
    {
      "cell_type": "code",
      "source": [
        "plt.figure(figsize=(10, 6))"
      ],
      "metadata": {
        "id": "D_jB_7AX98_s"
      },
      "execution_count": null,
      "outputs": []
    },
    {
      "cell_type": "code",
      "source": [
        "plt.figure(figsize=(10, 6))\n",
        "\n",
        "# Adjust the width of the bars\n",
        "bar_width = 0.4  # You can adjust this value to make the bars even narrower\n",
        "\n",
        "bars = plt.bar(df['Model'], df['Accuracy'], color='blue', width=bar_width)\n",
        "plt.xlabel('Models')\n",
        "plt.ylabel('Accuracy')\n",
        "plt.title('Accuracy for Different Models')\n",
        "\n",
        "# Add exact numbers on top of each bar\n",
        "for bar, acc in zip(bars, df['Accuracy']):\n",
        "    plt.text(bar.get_x() + bar.get_width() / 2 - 0.1, bar.get_height() + 0.01, f'{acc:.2f}', ha='center', va='bottom', color='black')\n",
        "\n",
        "plt.show()"
      ],
      "metadata": {
        "id": "SxfhBT609_1j"
      },
      "execution_count": null,
      "outputs": []
    },
    {
      "cell_type": "code",
      "source": [
        "import matplotlib.pyplot as plt\n",
        "\n",
        "# Data\n",
        "models = ['SVM', 'DT', 'RF', 'KNN', 'LR']\n",
        "accuracy = [0.62, 0.62  ,0.68 , 0.75, 0.74]\n",
        "\n",
        "# Create a bar chart\n",
        "plt.figure(figsize=(8, 6))\n",
        "plt.bar(models, accuracy, color=['b', 'g', 'r', 'c', 'm'])\n",
        "plt.xlabel('Models')\n",
        "plt.ylabel('Accuracy')\n",
        "plt.title('Comparison of Accuracy for Different Machine Learning Models')\n",
        "plt.ylim(0.5, 1.05)  # Set the y-axis limits to avoid overlapping bars at the top\n",
        "\n",
        "\n"
      ],
      "metadata": {
        "id": "SdEuOJjp-DBh"
      },
      "execution_count": null,
      "outputs": []
    }
  ]
}